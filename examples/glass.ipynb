{
 "cells": [
  {
   "cell_type": "code",
   "execution_count": 2,
   "metadata": {},
   "outputs": [],
   "source": [
    "from ucimlrepo import fetch_ucirepo \n",
    "from sklearn.metrics import accuracy_score\n",
    "from sklearn.neighbors import KNeighborsClassifier\n",
    "from sklearn.model_selection import KFold\n",
    "import numpy as np\n",
    "import featurize as ft\n",
    "from functools import partial"
   ]
  },
  {
   "cell_type": "markdown",
   "metadata": {},
   "source": [
    "## Download data"
   ]
  },
  {
   "cell_type": "code",
   "execution_count": 8,
   "metadata": {},
   "outputs": [
    {
     "data": {
      "text/plain": [
       "(        RI     Na    Mg    Al     Si     K    Ca   Ba   Fe\n",
       " 0  1.52101  13.64  4.49  1.10  71.78  0.06  8.75  0.0  0.0\n",
       " 1  1.51761  13.89  3.60  1.36  72.73  0.48  7.83  0.0  0.0\n",
       " 2  1.51618  13.53  3.55  1.54  72.99  0.39  7.78  0.0  0.0\n",
       " 3  1.51766  13.21  3.69  1.29  72.61  0.57  8.22  0.0  0.0\n",
       " 4  1.51742  13.27  3.62  1.24  73.08  0.55  8.07  0.0  0.0,\n",
       " (214, 9))"
      ]
     },
     "execution_count": 8,
     "metadata": {},
     "output_type": "execute_result"
    }
   ],
   "source": [
    "# fetch dataset \n",
    "glass_identification = fetch_ucirepo(id=42) \n",
    "  \n",
    "# data (as pandas dataframes) \n",
    "data = glass_identification.data.features \n",
    "target = glass_identification.data.targets[\"Type_of_glass\"]\n",
    "\n",
    "data.head(), data.shape"
   ]
  },
  {
   "cell_type": "code",
   "execution_count": 9,
   "metadata": {},
   "outputs": [
    {
     "data": {
      "text/plain": [
       "Type_of_glass\n",
       "2    76\n",
       "1    70\n",
       "7    29\n",
       "3    17\n",
       "5    13\n",
       "6     9\n",
       "Name: count, dtype: int64"
      ]
     },
     "execution_count": 9,
     "metadata": {},
     "output_type": "execute_result"
    }
   ],
   "source": [
    "target.value_counts()"
   ]
  },
  {
   "cell_type": "markdown",
   "metadata": {},
   "source": [
    "## Baseline model"
   ]
  },
  {
   "cell_type": "code",
   "execution_count": 23,
   "metadata": {},
   "outputs": [
    {
     "name": "stdout",
     "output_type": "stream",
     "text": [
      "0.6356937923839333\n"
     ]
    }
   ],
   "source": [
    "N_SPLITS = 3\n",
    "strat_kf = KFold(n_splits=N_SPLITS, shuffle=True, random_state=8888)\n",
    "scores = np.empty(N_SPLITS)\n",
    "for idx, (train_idx, test_idx) in enumerate(strat_kf.split(data, target)):\n",
    "    X_train, X_test = data.iloc[train_idx], data.iloc[test_idx]\n",
    "    y_train, y_test = target[train_idx], target[test_idx]\n",
    "\n",
    "    clf = KNeighborsClassifier(n_neighbors=5, weights='uniform', algorithm=\"brute\")\n",
    "    clf.fit(X_train, y_train)\n",
    "\n",
    "    preds = clf.predict(X_test)\n",
    "    loss = accuracy_score(y_test, preds)\n",
    "    scores[idx] = loss\n",
    "\n",
    "print(scores.mean())"
   ]
  },
  {
   "cell_type": "markdown",
   "metadata": {},
   "source": [
    "## Featurize"
   ]
  },
  {
   "cell_type": "code",
   "execution_count": 10,
   "metadata": {},
   "outputs": [
    {
     "name": "stderr",
     "output_type": "stream",
     "text": [
      "Optimising feature space...:   0%|          | 0/100 [00:00<?, ?it/s]"
     ]
    },
    {
     "name": "stderr",
     "output_type": "stream",
     "text": [
      "Optimising feature space...: 100%|██████████| 100/100 [00:34<00:00,  2.89it/s]"
     ]
    },
    {
     "name": "stdout",
     "output_type": "stream",
     "text": [
      "Best cost: 0.32700834637454357, total features: 4\n"
     ]
    },
    {
     "name": "stderr",
     "output_type": "stream",
     "text": [
      "\n"
     ]
    }
   ],
   "source": [
    "# feats = ft.featurize(\n",
    "#     data,\n",
    "#     target,\n",
    "#     problem_type=\"classification\",\n",
    "#     feature_depth=1,\n",
    "#     mrmr_k=75,\n",
    "#     swarm_particles=50,\n",
    "#     swarm_iters=100,\n",
    "# )\n",
    "\n",
    "f = partial(ft.cost_funcs.classification.knn_accuracy, X=data, y=target)\n",
    "\n",
    "ga = ft.selection.GeneticAlgorithm(\n",
    "    cost_func=f, num_individuals=50, num_features=data.shape[1], max_iters=100\n",
    ")\n",
    "\n",
    "cost, genome = ga.optimize()\n",
    "\n",
    "feats = data[data.columns[genome == 1]]\n",
    "\n",
    "print(f\"Best cost: {cost}, total features: {genome.sum()}\")"
   ]
  },
  {
   "cell_type": "code",
   "execution_count": 12,
   "metadata": {},
   "outputs": [
    {
     "name": "stdout",
     "output_type": "stream",
     "text": [
      "0.6729916536254564\n"
     ]
    }
   ],
   "source": [
    "N_SPLITS = 3\n",
    "strat_kf = KFold(n_splits=N_SPLITS, shuffle=True, random_state=8888)\n",
    "scores = np.empty(N_SPLITS)\n",
    "for idx, (train_idx, test_idx) in enumerate(strat_kf.split(feats, target)):\n",
    "    X_train, X_test = feats.iloc[train_idx], feats.iloc[test_idx]\n",
    "    y_train, y_test = target[train_idx], target[test_idx]\n",
    "\n",
    "    clf = KNeighborsClassifier(n_neighbors=5, weights='uniform', p=2, leaf_size=30, algorithm=\"brute\")\n",
    "    clf.fit(X_train, y_train)\n",
    "\n",
    "    preds = clf.predict(X_test)\n",
    "    loss = accuracy_score(y_test, preds)\n",
    "    scores[idx] = loss\n",
    "\n",
    "print(scores.mean())"
   ]
  },
  {
   "cell_type": "code",
   "execution_count": 13,
   "metadata": {},
   "outputs": [
    {
     "name": "stderr",
     "output_type": "stream",
     "text": [
      "INFO:featurize.logging:Checking arguments to featurize function are in within acceptable bounds\n",
      "INFO:featurize.logging:Inferring initial dataframe schema\n",
      "INFO:featurize.logging:Featurizing dataframe at depth 1\n",
      "INFO:featurize.logging:Adding numerical features\n",
      "INFO:featurize.logging:Removed 0 zero variance columns\n",
      "INFO:featurize.logging:Adding combination features\n",
      "INFO:featurize.logging:Removed 9 zero variance columns\n",
      "INFO:featurize.logging:Infering schema\n",
      "INFO:featurize.logging:Selecting features using MRMR algorithm\n",
      "INFO:featurize.logging:Initializing MaxRelevanceMinRedundancy class\n",
      "INFO:featurize.logging:Fitting and transforming the data using the selected features\n",
      "INFO:featurize.logging:Fitting mrmr algorithm to the data\n",
      "INFO:featurize.logging:Setting mrmr k to 50\n",
      "Pruning feature space...:   0%|          | 0/50 [00:00<?, ?it/s]INFO:featurize.logging:Starting feature pruning with 6552 features\n",
      "Pruning feature space...: 100%|██████████| 50/50 [00:12<00:00,  4.12it/s]INFO:featurize.logging:Finished feature pruning with 50 features\n",
      "Pruning feature space...: 100%|██████████| 50/50 [00:12<00:00,  4.13it/s]\n",
      "INFO:featurize.logging:Transforming the data using the selected features\n",
      "Optimising feature space...: 100%|██████████| 50/50 [00:17<00:00,  2.94it/s]"
     ]
    },
    {
     "name": "stdout",
     "output_type": "stream",
     "text": [
      "Best cost: 0.32700834637454357, total features: 4\n"
     ]
    },
    {
     "name": "stderr",
     "output_type": "stream",
     "text": [
      "\n"
     ]
    }
   ],
   "source": [
    "feats = ft.featurize(\n",
    "    data,\n",
    "    target,\n",
    "    problem_type=\"classification\",\n",
    "    feature_depth=1,\n",
    "    mrmr_k=50,\n",
    "    swarm_particles=50,\n",
    "    swarm_iters=100,\n",
    ")\n",
    "\n",
    "f = partial(ft.cost_funcs.classification.knn_accuracy, X=data, y=target)\n",
    "\n",
    "ga = ft.selection.GeneticAlgorithm(\n",
    "    cost_func=f, num_individuals=50, num_features=data.shape[1], max_iters=50\n",
    ")\n",
    "\n",
    "cost, genome = ga.optimize()\n",
    "\n",
    "feats = data[data.columns[genome == 1]]\n",
    "\n",
    "print(f\"Best cost: {cost}, total features: {genome.sum()}\")"
   ]
  },
  {
   "cell_type": "code",
   "execution_count": 24,
   "metadata": {},
   "outputs": [
    {
     "name": "stdout",
     "output_type": "stream",
     "text": [
      "0.6729916536254564\n"
     ]
    }
   ],
   "source": [
    "N_SPLITS = 3\n",
    "strat_kf = KFold(n_splits=N_SPLITS, shuffle=True, random_state=8888)\n",
    "scores = np.empty(N_SPLITS)\n",
    "for idx, (train_idx, test_idx) in enumerate(strat_kf.split(feats, target)):\n",
    "    X_train, X_test = feats.iloc[train_idx], feats.iloc[test_idx]\n",
    "    y_train, y_test = target[train_idx], target[test_idx]\n",
    "\n",
    "    clf = KNeighborsClassifier(n_neighbors=5, weights='uniform', algorithm=\"brute\")\n",
    "    clf.fit(X_train, y_train)\n",
    "\n",
    "    preds = clf.predict(X_test)\n",
    "    loss = accuracy_score(y_test, preds)\n",
    "    scores[idx] = loss\n",
    "\n",
    "print(scores.mean())"
   ]
  },
  {
   "cell_type": "code",
   "execution_count": null,
   "metadata": {},
   "outputs": [],
   "source": []
  },
  {
   "cell_type": "code",
   "execution_count": 26,
   "metadata": {},
   "outputs": [
    {
     "ename": "SyntaxError",
     "evalue": "invalid syntax (2444230500.py, line 1)",
     "output_type": "error",
     "traceback": [
      "\u001b[0;36m  Cell \u001b[0;32mIn[26], line 1\u001b[0;36m\u001b[0m\n\u001b[0;31m    how to make a pull request\u001b[0m\n\u001b[0m        ^\u001b[0m\n\u001b[0;31mSyntaxError\u001b[0m\u001b[0;31m:\u001b[0m invalid syntax\n"
     ]
    }
   ],
   "source": []
  },
  {
   "cell_type": "code",
   "execution_count": null,
   "metadata": {},
   "outputs": [],
   "source": []
  }
 ],
 "metadata": {
  "kernelspec": {
   "display_name": "venv",
   "language": "python",
   "name": "python3"
  },
  "language_info": {
   "codemirror_mode": {
    "name": "ipython",
    "version": 3
   },
   "file_extension": ".py",
   "mimetype": "text/x-python",
   "name": "python",
   "nbconvert_exporter": "python",
   "pygments_lexer": "ipython3",
   "version": "3.11.6"
  }
 },
 "nbformat": 4,
 "nbformat_minor": 2
}
