{
 "cells": [
  {
   "cell_type": "code",
   "execution_count": 1,
   "metadata": {},
   "outputs": [],
   "source": [
    "from ucimlrepo import fetch_ucirepo \n",
    "from sklearn.metrics import accuracy_score\n",
    "from sklearn.neighbors import KNeighborsClassifier\n",
    "from sklearn.model_selection import KFold\n",
    "import numpy as np\n",
    "import featurize as ft\n",
    "from functools import partial\n",
    "import matplotlib.pyplot as plt\n",
    "from sklearn.preprocessing import StandardScaler, OneHotEncoder\n",
    "from sklearn.pipeline import Pipeline\n",
    "from sklearn.compose import ColumnTransformer\n",
    "import pandas as pd"
   ]
  },
  {
   "cell_type": "markdown",
   "metadata": {},
   "source": [
    "## Download data"
   ]
  },
  {
   "cell_type": "code",
   "execution_count": 2,
   "metadata": {},
   "outputs": [
    {
     "data": {
      "text/html": [
       "<div>\n",
       "<style scoped>\n",
       "    .dataframe tbody tr th:only-of-type {\n",
       "        vertical-align: middle;\n",
       "    }\n",
       "\n",
       "    .dataframe tbody tr th {\n",
       "        vertical-align: top;\n",
       "    }\n",
       "\n",
       "    .dataframe thead th {\n",
       "        text-align: right;\n",
       "    }\n",
       "</style>\n",
       "<table border=\"1\" class=\"dataframe\">\n",
       "  <thead>\n",
       "    <tr style=\"text-align: right;\">\n",
       "      <th></th>\n",
       "      <th>Length</th>\n",
       "      <th>Diameter</th>\n",
       "      <th>Height</th>\n",
       "      <th>Whole_weight</th>\n",
       "      <th>Shucked_weight</th>\n",
       "      <th>Viscera_weight</th>\n",
       "      <th>Shell_weight</th>\n",
       "      <th>Sex_F</th>\n",
       "      <th>Sex_I</th>\n",
       "      <th>Sex_M</th>\n",
       "    </tr>\n",
       "  </thead>\n",
       "  <tbody>\n",
       "    <tr>\n",
       "      <th>0</th>\n",
       "      <td>-0.574558</td>\n",
       "      <td>-0.432149</td>\n",
       "      <td>-1.064424</td>\n",
       "      <td>-0.641898</td>\n",
       "      <td>-0.607685</td>\n",
       "      <td>-0.726212</td>\n",
       "      <td>-0.638217</td>\n",
       "      <td>0.0</td>\n",
       "      <td>0.0</td>\n",
       "      <td>1.0</td>\n",
       "    </tr>\n",
       "    <tr>\n",
       "      <th>1</th>\n",
       "      <td>-1.448986</td>\n",
       "      <td>-1.439929</td>\n",
       "      <td>-1.183978</td>\n",
       "      <td>-1.230277</td>\n",
       "      <td>-1.170910</td>\n",
       "      <td>-1.205221</td>\n",
       "      <td>-1.212987</td>\n",
       "      <td>0.0</td>\n",
       "      <td>0.0</td>\n",
       "      <td>1.0</td>\n",
       "    </tr>\n",
       "    <tr>\n",
       "      <th>2</th>\n",
       "      <td>0.050033</td>\n",
       "      <td>0.122130</td>\n",
       "      <td>-0.107991</td>\n",
       "      <td>-0.309469</td>\n",
       "      <td>-0.463500</td>\n",
       "      <td>-0.356690</td>\n",
       "      <td>-0.207139</td>\n",
       "      <td>1.0</td>\n",
       "      <td>0.0</td>\n",
       "      <td>0.0</td>\n",
       "    </tr>\n",
       "    <tr>\n",
       "      <th>3</th>\n",
       "      <td>-0.699476</td>\n",
       "      <td>-0.432149</td>\n",
       "      <td>-0.347099</td>\n",
       "      <td>-0.637819</td>\n",
       "      <td>-0.648238</td>\n",
       "      <td>-0.607600</td>\n",
       "      <td>-0.602294</td>\n",
       "      <td>0.0</td>\n",
       "      <td>0.0</td>\n",
       "      <td>1.0</td>\n",
       "    </tr>\n",
       "    <tr>\n",
       "      <th>4</th>\n",
       "      <td>-1.615544</td>\n",
       "      <td>-1.540707</td>\n",
       "      <td>-1.423087</td>\n",
       "      <td>-1.272086</td>\n",
       "      <td>-1.215968</td>\n",
       "      <td>-1.287337</td>\n",
       "      <td>-1.320757</td>\n",
       "      <td>0.0</td>\n",
       "      <td>1.0</td>\n",
       "      <td>0.0</td>\n",
       "    </tr>\n",
       "    <tr>\n",
       "      <th>...</th>\n",
       "      <td>...</td>\n",
       "      <td>...</td>\n",
       "      <td>...</td>\n",
       "      <td>...</td>\n",
       "      <td>...</td>\n",
       "      <td>...</td>\n",
       "      <td>...</td>\n",
       "      <td>...</td>\n",
       "      <td>...</td>\n",
       "      <td>...</td>\n",
       "    </tr>\n",
       "    <tr>\n",
       "      <th>4172</th>\n",
       "      <td>0.341509</td>\n",
       "      <td>0.424464</td>\n",
       "      <td>0.609334</td>\n",
       "      <td>0.118813</td>\n",
       "      <td>0.047908</td>\n",
       "      <td>0.532900</td>\n",
       "      <td>0.073062</td>\n",
       "      <td>1.0</td>\n",
       "      <td>0.0</td>\n",
       "      <td>0.0</td>\n",
       "    </tr>\n",
       "    <tr>\n",
       "      <th>4173</th>\n",
       "      <td>0.549706</td>\n",
       "      <td>0.323686</td>\n",
       "      <td>-0.107991</td>\n",
       "      <td>0.279929</td>\n",
       "      <td>0.358808</td>\n",
       "      <td>0.309362</td>\n",
       "      <td>0.155685</td>\n",
       "      <td>0.0</td>\n",
       "      <td>0.0</td>\n",
       "      <td>1.0</td>\n",
       "    </tr>\n",
       "    <tr>\n",
       "      <th>4174</th>\n",
       "      <td>0.632985</td>\n",
       "      <td>0.676409</td>\n",
       "      <td>1.565767</td>\n",
       "      <td>0.708212</td>\n",
       "      <td>0.748559</td>\n",
       "      <td>0.975413</td>\n",
       "      <td>0.496955</td>\n",
       "      <td>0.0</td>\n",
       "      <td>0.0</td>\n",
       "      <td>1.0</td>\n",
       "    </tr>\n",
       "    <tr>\n",
       "      <th>4175</th>\n",
       "      <td>0.841182</td>\n",
       "      <td>0.777187</td>\n",
       "      <td>0.250672</td>\n",
       "      <td>0.541998</td>\n",
       "      <td>0.773341</td>\n",
       "      <td>0.733627</td>\n",
       "      <td>0.410739</td>\n",
       "      <td>1.0</td>\n",
       "      <td>0.0</td>\n",
       "      <td>0.0</td>\n",
       "    </tr>\n",
       "    <tr>\n",
       "      <th>4176</th>\n",
       "      <td>1.549052</td>\n",
       "      <td>1.482634</td>\n",
       "      <td>1.326659</td>\n",
       "      <td>2.283681</td>\n",
       "      <td>2.640993</td>\n",
       "      <td>1.787449</td>\n",
       "      <td>1.840481</td>\n",
       "      <td>0.0</td>\n",
       "      <td>0.0</td>\n",
       "      <td>1.0</td>\n",
       "    </tr>\n",
       "  </tbody>\n",
       "</table>\n",
       "<p>4177 rows × 10 columns</p>\n",
       "</div>"
      ],
      "text/plain": [
       "        Length  Diameter    Height  Whole_weight  Shucked_weight  \\\n",
       "0    -0.574558 -0.432149 -1.064424     -0.641898       -0.607685   \n",
       "1    -1.448986 -1.439929 -1.183978     -1.230277       -1.170910   \n",
       "2     0.050033  0.122130 -0.107991     -0.309469       -0.463500   \n",
       "3    -0.699476 -0.432149 -0.347099     -0.637819       -0.648238   \n",
       "4    -1.615544 -1.540707 -1.423087     -1.272086       -1.215968   \n",
       "...        ...       ...       ...           ...             ...   \n",
       "4172  0.341509  0.424464  0.609334      0.118813        0.047908   \n",
       "4173  0.549706  0.323686 -0.107991      0.279929        0.358808   \n",
       "4174  0.632985  0.676409  1.565767      0.708212        0.748559   \n",
       "4175  0.841182  0.777187  0.250672      0.541998        0.773341   \n",
       "4176  1.549052  1.482634  1.326659      2.283681        2.640993   \n",
       "\n",
       "      Viscera_weight  Shell_weight  Sex_F  Sex_I  Sex_M  \n",
       "0          -0.726212     -0.638217    0.0    0.0    1.0  \n",
       "1          -1.205221     -1.212987    0.0    0.0    1.0  \n",
       "2          -0.356690     -0.207139    1.0    0.0    0.0  \n",
       "3          -0.607600     -0.602294    0.0    0.0    1.0  \n",
       "4          -1.287337     -1.320757    0.0    1.0    0.0  \n",
       "...              ...           ...    ...    ...    ...  \n",
       "4172        0.532900      0.073062    1.0    0.0    0.0  \n",
       "4173        0.309362      0.155685    0.0    0.0    1.0  \n",
       "4174        0.975413      0.496955    0.0    0.0    1.0  \n",
       "4175        0.733627      0.410739    1.0    0.0    0.0  \n",
       "4176        1.787449      1.840481    0.0    0.0    1.0  \n",
       "\n",
       "[4177 rows x 10 columns]"
      ]
     },
     "execution_count": 2,
     "metadata": {},
     "output_type": "execute_result"
    }
   ],
   "source": [
    "# fetch dataset \n",
    "abalone = fetch_ucirepo(id=1) \n",
    "  \n",
    "# data (as pandas dataframes) \n",
    "data = abalone.data.features \n",
    "target = abalone.data.targets[\"Rings\"] \n",
    "\n",
    "# for label in \"MFI\":\n",
    "#     data[label] = (data[\"Sex\"] == label).astype(int)\n",
    "# del data[\"Sex\"]\n",
    "\n",
    "numeric_features = [\"Length\", \"Diameter\", \"Height\",\t\"Whole_weight\",\t\"Shucked_weight\",\t\"Viscera_weight\",\t\"Shell_weight\"]\n",
    "numeric_transformer = Pipeline(steps=[\n",
    "    ('scaler', StandardScaler())])\n",
    "\n",
    "categorical_features = ['Sex',]\n",
    "categorical_transformer = OneHotEncoder(handle_unknown='ignore')\n",
    "\n",
    "preprocessor = ColumnTransformer(\n",
    "    transformers=[\n",
    "        ('num', numeric_transformer, numeric_features),\n",
    "        ('cat', categorical_transformer, categorical_features)])\n",
    "\n",
    "pipe = Pipeline(steps=[('preprocessor', preprocessor),])\n",
    "data = pipe.fit(data).transform(data)\n",
    "\n",
    "cols = columns=numeric_features + list(pipe[\"preprocessor\"].transformers_[1][1].get_feature_names_out(categorical_features))\n",
    "data = pd.DataFrame(data, columns=cols)\n",
    "\n",
    "data"
   ]
  },
  {
   "cell_type": "markdown",
   "metadata": {},
   "source": [
    "## Baseline model"
   ]
  },
  {
   "cell_type": "code",
   "execution_count": 3,
   "metadata": {},
   "outputs": [
    {
     "name": "stdout",
     "output_type": "stream",
     "text": [
      "0.22192946808481376\n"
     ]
    }
   ],
   "source": [
    "N_SPLITS = 3\n",
    "strat_kf = KFold(n_splits=N_SPLITS, shuffle=True, random_state=8888)\n",
    "scores = np.empty(N_SPLITS)\n",
    "for idx, (train_idx, test_idx) in enumerate(strat_kf.split(data, target)):\n",
    "    X_train, X_test = data.iloc[train_idx], data.iloc[test_idx]\n",
    "    y_train, y_test = target[train_idx], target[test_idx]\n",
    "\n",
    "    clf = KNeighborsClassifier()\n",
    "    clf.fit(X_train, y_train)\n",
    "\n",
    "    preds = clf.predict(X_test)\n",
    "    loss = accuracy_score(y_test, preds)\n",
    "    scores[idx] = loss\n",
    "\n",
    "print(scores.mean())"
   ]
  },
  {
   "cell_type": "markdown",
   "metadata": {},
   "source": [
    "## Featurize"
   ]
  },
  {
   "cell_type": "code",
   "execution_count": 5,
   "metadata": {},
   "outputs": [
    {
     "name": "stderr",
     "output_type": "stream",
     "text": [
      "Optimising feature space...:   0%|          | 0/50 [00:00<?, ?it/s]"
     ]
    },
    {
     "name": "stderr",
     "output_type": "stream",
     "text": [
      "Optimising feature space...:  26%|██▌       | 13/50 [00:40<01:54,  3.09s/it]"
     ]
    },
    {
     "name": "stdout",
     "output_type": "stream",
     "text": [
      "Best cost: 0.7562820946549936, total features: 7\n"
     ]
    },
    {
     "name": "stderr",
     "output_type": "stream",
     "text": [
      "\n"
     ]
    }
   ],
   "source": [
    "# feats = ft.featurize(\n",
    "#     data,\n",
    "#     target,\n",
    "#     problem_type=\"classification\",\n",
    "#     feature_depth=1,\n",
    "#     mrmr_k=75,\n",
    "#     swarm_particles=50,\n",
    "#     swarm_iters=100,\n",
    "# )\n",
    "\n",
    "f = partial(ft.cost_funcs.classification.knn_accuracy, X=data, y=target)\n",
    "\n",
    "ga = ft.selection.BinaryGeneticAlgorithm(\n",
    "    cost_func=f, population_size=30, num_genes=data.shape[1], max_iters=50\n",
    ")\n",
    "\n",
    "cost, genome = ga.optimize()\n",
    "\n",
    "feats = data[data.columns[genome == 1]]\n",
    "\n",
    "print(f\"Best cost: {cost}, total features: {genome.sum()}\")"
   ]
  },
  {
   "cell_type": "code",
   "execution_count": 6,
   "metadata": {},
   "outputs": [
    {
     "name": "stdout",
     "output_type": "stream",
     "text": [
      "0.24371790534500637\n"
     ]
    }
   ],
   "source": [
    "N_SPLITS = 3\n",
    "strat_kf = KFold(n_splits=N_SPLITS, shuffle=True, random_state=8888)\n",
    "scores = np.empty(N_SPLITS)\n",
    "for idx, (train_idx, test_idx) in enumerate(strat_kf.split(feats, target)):\n",
    "    X_train, X_test = feats.iloc[train_idx], feats.iloc[test_idx]\n",
    "    y_train, y_test = target[train_idx], target[test_idx]\n",
    "\n",
    "    clf = KNeighborsClassifier(n_neighbors=5, weights='uniform', p=2, leaf_size=30, algorithm=\"brute\")\n",
    "    clf.fit(X_train, y_train)\n",
    "\n",
    "    preds = clf.predict(X_test)\n",
    "    loss = accuracy_score(y_test, preds)\n",
    "    scores[idx] = loss\n",
    "\n",
    "print(scores.mean())"
   ]
  },
  {
   "cell_type": "code",
   "execution_count": 7,
   "metadata": {},
   "outputs": [
    {
     "data": {
      "text/plain": [
       "[<matplotlib.lines.Line2D at 0x283b4fe90>]"
      ]
     },
     "execution_count": 7,
     "metadata": {},
     "output_type": "execute_result"
    },
    {
     "data": {
      "image/png": "[encoded data removed]",
      "text/plain": [
       "<Figure size 640x480 with 1 Axes>"
      ]
     },
     "metadata": {},
     "output_type": "display_data"
    }
   ],
   "source": [
    "# plot ga history_best and history_avg on same plot\n",
    "plt.plot(ga.history_best, label=\"Best\")\n",
    "plt.plot(ga.history_mean, label=\"Avg\")"
   ]
  },
  {
   "cell_type": "code",
   "execution_count": null,
   "metadata": {},
   "outputs": [],
   "source": [
    "feats = ft.featurize(\n",
    "    data,\n",
    "    target,\n",
    "    problem_type=\"classification\",\n",
    "    feature_depth=1,\n",
    "    mrmr_k=100,\n",
    "    swarm_particles=50,\n",
    "    swarm_iters=100,\n",
    ")\n",
    "\n",
    "f = partial(ft.cost_funcs.classification.knn_accuracy, X=data, y=target)\n",
    "\n",
    "ga = ft.selection.GeneticAlgorithm(\n",
    "    cost_func=f, num_individuals=50, num_features=data.shape[1], max_iters=100\n",
    ")\n",
    "\n",
    "cost, genome = ga.optimize()\n",
    "\n",
    "feats = data[data.columns[genome == 1]]\n",
    "\n",
    "print(f\"Best cost: {cost}, total features: {genome.sum()}\")"
   ]
  },
  {
   "cell_type": "code",
   "execution_count": null,
   "metadata": {},
   "outputs": [],
   "source": [
    "N_SPLITS = 3\n",
    "strat_kf = KFold(n_splits=N_SPLITS, shuffle=True, random_state=8888)\n",
    "scores = np.empty(N_SPLITS)\n",
    "for idx, (train_idx, test_idx) in enumerate(strat_kf.split(feats, target)):\n",
    "    X_train, X_test = feats.iloc[train_idx], feats.iloc[test_idx]\n",
    "    y_train, y_test = target[train_idx], target[test_idx]\n",
    "\n",
    "    clf = KNeighborsClassifier(n_neighbors=5, weights='uniform', p=2, leaf_size=30, algorithm=\"brute\")\n",
    "    clf.fit(X_train, y_train)\n",
    "\n",
    "    preds = clf.predict(X_test)\n",
    "    loss = accuracy_score(y_test, preds)\n",
    "    scores[idx] = loss\n",
    "\n",
    "print(scores.mean())"
   ]
  },
  {
   "cell_type": "code",
   "execution_count": null,
   "metadata": {},
   "outputs": [],
   "source": [
    "# plot ga history_best and history_avg on same plot\n",
    "plt.plot(ga.history_best, label=\"Best\")\n",
    "plt.plot(ga.history_mean, label=\"Avg\")"
   ]
  },
  {
   "cell_type": "code",
   "execution_count": null,
   "metadata": {},
   "outputs": [],
   "source": []
  },
  {
   "cell_type": "code",
   "execution_count": null,
   "metadata": {},
   "outputs": [],
   "source": [
    "data.isna().sum()"
   ]
  },
  {
   "cell_type": "code",
   "execution_count": null,
   "metadata": {},
   "outputs": [],
   "source": []
  }
 ],
 "metadata": {
  "kernelspec": {
   "display_name": "venv",
   "language": "python",
   "name": "python3"
  },
  "language_info": {
   "codemirror_mode": {
    "name": "ipython",
    "version": 3
   },
   "file_extension": ".py",
   "mimetype": "text/x-python",
   "name": "python",
   "nbconvert_exporter": "python",
   "pygments_lexer": "ipython3",
   "version": "3.11.6"
  }
 },
 "nbformat": 4,
 "nbformat_minor": 2
}
