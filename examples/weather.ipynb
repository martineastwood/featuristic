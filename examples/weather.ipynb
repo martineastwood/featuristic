{
 "cells": [
  {
   "cell_type": "code",
   "execution_count": 21,
   "metadata": {},
   "outputs": [],
   "source": [
    "import featurize as ft\n",
    "import pandas as pd\n",
    "from sklearn.model_selection import KFold\n",
    "from sklearn.metrics import mean_absolute_error\n",
    "import numpy as np\n",
    "from sklearn.linear_model import LinearRegression"
   ]
  },
  {
   "cell_type": "code",
   "execution_count": 22,
   "metadata": {},
   "outputs": [],
   "source": [
    "data_url = \"http://lib.stat.cmu.edu/datasets/boston\"\n",
    "raw_df = pd.read_csv(data_url, sep=\"\\s+\", skiprows=22, header=None)\n",
    "data = np.hstack([raw_df.values[::2, :], raw_df.values[1::2, :2]])\n",
    "target = raw_df.values[1::2, 2]"
   ]
  },
  {
   "cell_type": "code",
   "execution_count": 23,
   "metadata": {},
   "outputs": [],
   "source": [
    "data = pd.DataFrame(data)\n",
    "target = pd.Series(target)\n",
    "data.columns = [str(x) for x in data.columns]"
   ]
  },
  {
   "cell_type": "code",
   "execution_count": 24,
   "metadata": {},
   "outputs": [
    {
     "name": "stdout",
     "output_type": "stream",
     "text": [
      "mean score: 3.44424\n"
     ]
    }
   ],
   "source": [
    "N_SPLITS = 5\n",
    "strat_kf = KFold(n_splits=N_SPLITS, shuffle=True, random_state=8888)\n",
    "scores = np.empty(N_SPLITS)\n",
    "\n",
    "for idx, (train_idx, test_idx) in enumerate(strat_kf.split(data, target)):\n",
    "        X_train, X_test = data.iloc[train_idx], data.iloc[test_idx]\n",
    "        y_train, y_test = target[train_idx], target[test_idx]\n",
    "\n",
    "        cb_clf = LinearRegression()\n",
    "        cb_clf.fit(X_train,y_train)\n",
    "\n",
    "        preds = cb_clf.predict(X_test)\n",
    "        loss = mean_absolute_error(y_test, preds)\n",
    "        scores[idx] = loss\n",
    "\n",
    "print(f\"mean score: {scores.mean():.5f}\")"
   ]
  },
  {
   "cell_type": "code",
   "execution_count": 25,
   "metadata": {},
   "outputs": [
    {
     "data": {
      "text/plain": [
       "(506, 16873)"
      ]
     },
     "execution_count": 25,
     "metadata": {},
     "output_type": "execute_result"
    }
   ],
   "source": [
    "feats = ft.featurize(data)\n",
    "feats.shape"
   ]
  },
  {
   "cell_type": "code",
   "execution_count": 29,
   "metadata": {},
   "outputs": [
    {
     "name": "stdout",
     "output_type": "stream",
     "text": [
      "mean score: 3.72886\n"
     ]
    }
   ],
   "source": [
    "N_SPLITS = 5\n",
    "strat_kf = KFold(n_splits=N_SPLITS, shuffle=True, random_state=8888)\n",
    "scores = np.empty(N_SPLITS)\n",
    "\n",
    "for idx, (train_idx, test_idx) in enumerate(strat_kf.split(feats, target)):\n",
    "        X_train, X_test = feats.iloc[train_idx], feats.iloc[test_idx]\n",
    "        y_train, y_test = target[train_idx], target[test_idx]\n",
    "\n",
    "        cb_clf = LinearRegression()\n",
    "        cb_clf.fit(X_train,y_train)\n",
    "\n",
    "        preds = cb_clf.predict(X_test)\n",
    "        loss = mean_absolute_error(y_test, preds)\n",
    "        scores[idx] = loss\n",
    "        \n",
    "print(f\"mean score: {scores.mean():.5f}\")"
   ]
  },
  {
   "cell_type": "code",
   "execution_count": 26,
   "metadata": {},
   "outputs": [],
   "source": [
    "feat_names = ft.selection.mrmr(feats, target, 100)"
   ]
  },
  {
   "cell_type": "code",
   "execution_count": 28,
   "metadata": {},
   "outputs": [
    {
     "name": "stdout",
     "output_type": "stream",
     "text": [
      "mean score: 2.84811\n"
     ]
    }
   ],
   "source": [
    "N_SPLITS = 5\n",
    "strat_kf = KFold(n_splits=N_SPLITS, shuffle=True, random_state=8888)\n",
    "scores = np.empty(N_SPLITS)\n",
    "\n",
    "for idx, (train_idx, test_idx) in enumerate(strat_kf.split(feats, target)):\n",
    "        X_train, X_test = feats[feat_names].iloc[train_idx], feats[feat_names].iloc[test_idx]\n",
    "        y_train, y_test = target[train_idx], target[test_idx]\n",
    "\n",
    "        cb_clf = LinearRegression()\n",
    "        cb_clf.fit(X_train,y_train)\n",
    "\n",
    "        preds = cb_clf.predict(X_test)\n",
    "        loss = mean_absolute_error(y_test, preds)\n",
    "        scores[idx] = loss\n",
    "        \n",
    "print(f\"mean score: {scores.mean():.5f}\")"
   ]
  },
  {
   "cell_type": "code",
   "execution_count": 7,
   "metadata": {},
   "outputs": [],
   "source": [
    "def cost_function(x0, X, y):\n",
    "    N_SPLITS = 5\n",
    "    strat_kf = KFold(n_splits=N_SPLITS, shuffle=True, random_state=8888)\n",
    "    scores = np.empty(N_SPLITS)\n",
    "\n",
    "    for idx, (train_idx, test_idx) in enumerate(strat_kf.split(data, target)):\n",
    "            X_train, X_test = X[x0].iloc[train_idx], X[x0].iloc[test_idx]\n",
    "            y_train, y_test = y[train_idx], y[test_idx]\n",
    "\n",
    "            cb_clf = LinearRegression()\n",
    "            cb_clf.fit(X_train,y_train)\n",
    "\n",
    "            preds = cb_clf.predict(X_test)\n",
    "            loss = mean_absolute_error(y_test, preds)\n",
    "            scores[idx] = loss\n",
    "\n",
    "    return scores.mean()"
   ]
  },
  {
   "cell_type": "code",
   "execution_count": 8,
   "metadata": {},
   "outputs": [
    {
     "ename": "KeyError",
     "evalue": "\"None of [Index([                                   ('3', 1),\\n                                          ('6', 1),\\n                                          ('7', 1),\\n                                          ('9', 1),\\n                                         ('10', 1),\\n                                         ('12', 1),\\n                                     ('ABS(0)', 1),\\n                                  ('COSINE(0)', 1),\\n                              ('PERCENTILE(0)', 1),\\n                                    ('SINE(0)', 1),\\n       ...\\n             ('SUBTRACT(SINE(12), SQUARE(12))', 1),\\n                    ('PLUS(SINE(12), TAN(12))', 1),\\n         ('SUBTRACT(SINE(12), RECIPROCAL(12))', 1),\\n             ('SUBTRACT(SQRT(12), SQUARE(12))', 1),\\n                 ('PLUS(SQRT(12), SQUARE(12))', 1),\\n                ('SUBTRACT(SQRT(12), TAN(12))', 1),\\n                    ('PLUS(SQRT(12), TAN(12))', 1),\\n       ('SUBTRACT(SQUARE(12), RECIPROCAL(12))', 1),\\n           ('PLUS(SQUARE(12), RECIPROCAL(12))', 1),\\n              ('PLUS(TAN(12), RECIPROCAL(12))', 1)],\\n      dtype='object', length=8402)] are in the [columns]\"",
     "output_type": "error",
     "traceback": [
      "\u001b[0;31m---------------------------------------------------------------------------\u001b[0m",
      "\u001b[0;31mKeyError\u001b[0m                                  Traceback (most recent call last)",
      "Cell \u001b[0;32mIn[8], line 2\u001b[0m\n\u001b[1;32m      1\u001b[0m x0 \u001b[38;5;241m=\u001b[39m np\u001b[38;5;241m.\u001b[39mrandom\u001b[38;5;241m.\u001b[39mrandint(\u001b[38;5;241m2\u001b[39m, size\u001b[38;5;241m=\u001b[39m\u001b[38;5;28mlen\u001b[39m(feats\u001b[38;5;241m.\u001b[39mcolumns))\n\u001b[0;32m----> 2\u001b[0m \u001b[43mft\u001b[49m\u001b[38;5;241;43m.\u001b[39;49m\u001b[43mselection\u001b[49m\u001b[38;5;241;43m.\u001b[39;49m\u001b[43mpso\u001b[49m\u001b[43m(\u001b[49m\u001b[43mcost_function\u001b[49m\u001b[43m,\u001b[49m\u001b[43m \u001b[49m\u001b[43mfeats\u001b[49m\u001b[43m,\u001b[49m\u001b[43m \u001b[49m\u001b[43mtarget\u001b[49m\u001b[43m,\u001b[49m\u001b[43m \u001b[49m\u001b[43mx0\u001b[49m\u001b[43m,\u001b[49m\u001b[43m \u001b[49m\u001b[43m[\u001b[49m\u001b[38;5;241;43m0\u001b[39;49m\u001b[43m,\u001b[49m\u001b[43m \u001b[49m\u001b[38;5;241;43m1\u001b[39;49m\u001b[43m]\u001b[49m\u001b[43m,\u001b[49m\u001b[43m \u001b[49m\u001b[38;5;241;43m10\u001b[39;49m\u001b[43m,\u001b[49m\u001b[43m \u001b[49m\u001b[38;5;241;43m10\u001b[39;49m\u001b[43m)\u001b[49m\n\u001b[1;32m      4\u001b[0m \u001b[38;5;66;03m# def pso(costFunc, X, y, x0, bounds, num_particles, maxiter, verbose=False):\u001b[39;00m\n",
      "File \u001b[0;32m~/repos/featurize/src/featurize/selection/pso.py:76\u001b[0m, in \u001b[0;36mpso\u001b[0;34m(costFunc, X, y, x0, bounds, num_particles, maxiter, verbose)\u001b[0m\n\u001b[1;32m     74\u001b[0m \u001b[38;5;66;03m# cycle through particles in swarm and evaluate fitness\u001b[39;00m\n\u001b[1;32m     75\u001b[0m \u001b[38;5;28;01mfor\u001b[39;00m j \u001b[38;5;129;01min\u001b[39;00m \u001b[38;5;28mrange\u001b[39m(\u001b[38;5;241m0\u001b[39m, num_particles):\n\u001b[0;32m---> 76\u001b[0m     \u001b[43mswarm\u001b[49m\u001b[43m[\u001b[49m\u001b[43mj\u001b[49m\u001b[43m]\u001b[49m\u001b[38;5;241;43m.\u001b[39;49m\u001b[43mevaluate\u001b[49m\u001b[43m(\u001b[49m\u001b[43mcostFunc\u001b[49m\u001b[43m,\u001b[49m\u001b[43m \u001b[49m\u001b[43mX\u001b[49m\u001b[43m,\u001b[49m\u001b[43m \u001b[49m\u001b[43my\u001b[49m\u001b[43m)\u001b[49m\n\u001b[1;32m     78\u001b[0m     \u001b[38;5;66;03m# determine if current particle is the best (globally)\u001b[39;00m\n\u001b[1;32m     79\u001b[0m     \u001b[38;5;28;01mif\u001b[39;00m swarm[j]\u001b[38;5;241m.\u001b[39merr_i \u001b[38;5;241m<\u001b[39m err_best_g \u001b[38;5;129;01mor\u001b[39;00m err_best_g \u001b[38;5;241m==\u001b[39m \u001b[38;5;241m-\u001b[39m\u001b[38;5;241m1\u001b[39m:\n",
      "File \u001b[0;32m~/repos/featurize/src/featurize/selection/pso.py:21\u001b[0m, in \u001b[0;36mParticle.evaluate\u001b[0;34m(self, costFunc, X, y)\u001b[0m\n\u001b[1;32m     19\u001b[0m mask \u001b[38;5;241m=\u001b[39m [\u001b[38;5;28mround\u001b[39m(x) \u001b[38;5;28;01mfor\u001b[39;00m x \u001b[38;5;129;01min\u001b[39;00m \u001b[38;5;28mself\u001b[39m\u001b[38;5;241m.\u001b[39mposition_i]\n\u001b[1;32m     20\u001b[0m cols \u001b[38;5;241m=\u001b[39m [x \u001b[38;5;28;01mfor\u001b[39;00m x \u001b[38;5;129;01min\u001b[39;00m \u001b[38;5;28mlist\u001b[39m(\u001b[38;5;28mzip\u001b[39m(X\u001b[38;5;241m.\u001b[39mcolumns, mask)) \u001b[38;5;28;01mif\u001b[39;00m x[\u001b[38;5;241m1\u001b[39m] \u001b[38;5;241m==\u001b[39m \u001b[38;5;241m1\u001b[39m]\n\u001b[0;32m---> 21\u001b[0m \u001b[38;5;28mself\u001b[39m\u001b[38;5;241m.\u001b[39merr_i \u001b[38;5;241m=\u001b[39m \u001b[43mcostFunc\u001b[49m\u001b[43m(\u001b[49m\u001b[43mcols\u001b[49m\u001b[43m,\u001b[49m\u001b[43m \u001b[49m\u001b[43mX\u001b[49m\u001b[43m,\u001b[49m\u001b[43m \u001b[49m\u001b[43my\u001b[49m\u001b[43m)\u001b[49m\n\u001b[1;32m     23\u001b[0m \u001b[38;5;66;03m# check to see if the current position is an individual best\u001b[39;00m\n\u001b[1;32m     24\u001b[0m \u001b[38;5;28;01mif\u001b[39;00m \u001b[38;5;28mself\u001b[39m\u001b[38;5;241m.\u001b[39merr_i \u001b[38;5;241m<\u001b[39m \u001b[38;5;28mself\u001b[39m\u001b[38;5;241m.\u001b[39merr_best_i \u001b[38;5;129;01mor\u001b[39;00m \u001b[38;5;28mself\u001b[39m\u001b[38;5;241m.\u001b[39merr_best_i \u001b[38;5;241m==\u001b[39m \u001b[38;5;241m-\u001b[39m\u001b[38;5;241m1\u001b[39m:\n",
      "Cell \u001b[0;32mIn[7], line 7\u001b[0m, in \u001b[0;36mcost_function\u001b[0;34m(x0, X, y)\u001b[0m\n\u001b[1;32m      4\u001b[0m scores \u001b[38;5;241m=\u001b[39m np\u001b[38;5;241m.\u001b[39mempty(N_SPLITS)\n\u001b[1;32m      6\u001b[0m \u001b[38;5;28;01mfor\u001b[39;00m idx, (train_idx, test_idx) \u001b[38;5;129;01min\u001b[39;00m \u001b[38;5;28menumerate\u001b[39m(strat_kf\u001b[38;5;241m.\u001b[39msplit(data, target)):\n\u001b[0;32m----> 7\u001b[0m         X_train, X_test \u001b[38;5;241m=\u001b[39m \u001b[43mX\u001b[49m\u001b[43m[\u001b[49m\u001b[43mx0\u001b[49m\u001b[43m]\u001b[49m\u001b[38;5;241m.\u001b[39miloc[train_idx], X[x0]\u001b[38;5;241m.\u001b[39miloc[test_idx]\n\u001b[1;32m      8\u001b[0m         y_train, y_test \u001b[38;5;241m=\u001b[39m y[train_idx], y[test_idx]\n\u001b[1;32m     10\u001b[0m         cb_clf \u001b[38;5;241m=\u001b[39m LinearRegression()\n",
      "File \u001b[0;32m~/repos/featurize/venv/lib/python3.11/site-packages/pandas/core/frame.py:4096\u001b[0m, in \u001b[0;36mDataFrame.__getitem__\u001b[0;34m(self, key)\u001b[0m\n\u001b[1;32m   4094\u001b[0m     \u001b[38;5;28;01mif\u001b[39;00m is_iterator(key):\n\u001b[1;32m   4095\u001b[0m         key \u001b[38;5;241m=\u001b[39m \u001b[38;5;28mlist\u001b[39m(key)\n\u001b[0;32m-> 4096\u001b[0m     indexer \u001b[38;5;241m=\u001b[39m \u001b[38;5;28;43mself\u001b[39;49m\u001b[38;5;241;43m.\u001b[39;49m\u001b[43mcolumns\u001b[49m\u001b[38;5;241;43m.\u001b[39;49m\u001b[43m_get_indexer_strict\u001b[49m\u001b[43m(\u001b[49m\u001b[43mkey\u001b[49m\u001b[43m,\u001b[49m\u001b[43m \u001b[49m\u001b[38;5;124;43m\"\u001b[39;49m\u001b[38;5;124;43mcolumns\u001b[39;49m\u001b[38;5;124;43m\"\u001b[39;49m\u001b[43m)\u001b[49m[\u001b[38;5;241m1\u001b[39m]\n\u001b[1;32m   4098\u001b[0m \u001b[38;5;66;03m# take() does not accept boolean indexers\u001b[39;00m\n\u001b[1;32m   4099\u001b[0m \u001b[38;5;28;01mif\u001b[39;00m \u001b[38;5;28mgetattr\u001b[39m(indexer, \u001b[38;5;124m\"\u001b[39m\u001b[38;5;124mdtype\u001b[39m\u001b[38;5;124m\"\u001b[39m, \u001b[38;5;28;01mNone\u001b[39;00m) \u001b[38;5;241m==\u001b[39m \u001b[38;5;28mbool\u001b[39m:\n",
      "File \u001b[0;32m~/repos/featurize/venv/lib/python3.11/site-packages/pandas/core/indexes/base.py:6199\u001b[0m, in \u001b[0;36mIndex._get_indexer_strict\u001b[0;34m(self, key, axis_name)\u001b[0m\n\u001b[1;32m   6196\u001b[0m \u001b[38;5;28;01melse\u001b[39;00m:\n\u001b[1;32m   6197\u001b[0m     keyarr, indexer, new_indexer \u001b[38;5;241m=\u001b[39m \u001b[38;5;28mself\u001b[39m\u001b[38;5;241m.\u001b[39m_reindex_non_unique(keyarr)\n\u001b[0;32m-> 6199\u001b[0m \u001b[38;5;28;43mself\u001b[39;49m\u001b[38;5;241;43m.\u001b[39;49m\u001b[43m_raise_if_missing\u001b[49m\u001b[43m(\u001b[49m\u001b[43mkeyarr\u001b[49m\u001b[43m,\u001b[49m\u001b[43m \u001b[49m\u001b[43mindexer\u001b[49m\u001b[43m,\u001b[49m\u001b[43m \u001b[49m\u001b[43maxis_name\u001b[49m\u001b[43m)\u001b[49m\n\u001b[1;32m   6201\u001b[0m keyarr \u001b[38;5;241m=\u001b[39m \u001b[38;5;28mself\u001b[39m\u001b[38;5;241m.\u001b[39mtake(indexer)\n\u001b[1;32m   6202\u001b[0m \u001b[38;5;28;01mif\u001b[39;00m \u001b[38;5;28misinstance\u001b[39m(key, Index):\n\u001b[1;32m   6203\u001b[0m     \u001b[38;5;66;03m# GH 42790 - Preserve name from an Index\u001b[39;00m\n",
      "File \u001b[0;32m~/repos/featurize/venv/lib/python3.11/site-packages/pandas/core/indexes/base.py:6248\u001b[0m, in \u001b[0;36mIndex._raise_if_missing\u001b[0;34m(self, key, indexer, axis_name)\u001b[0m\n\u001b[1;32m   6246\u001b[0m \u001b[38;5;28;01mif\u001b[39;00m nmissing:\n\u001b[1;32m   6247\u001b[0m     \u001b[38;5;28;01mif\u001b[39;00m nmissing \u001b[38;5;241m==\u001b[39m \u001b[38;5;28mlen\u001b[39m(indexer):\n\u001b[0;32m-> 6248\u001b[0m         \u001b[38;5;28;01mraise\u001b[39;00m \u001b[38;5;167;01mKeyError\u001b[39;00m(\u001b[38;5;124mf\u001b[39m\u001b[38;5;124m\"\u001b[39m\u001b[38;5;124mNone of [\u001b[39m\u001b[38;5;132;01m{\u001b[39;00mkey\u001b[38;5;132;01m}\u001b[39;00m\u001b[38;5;124m] are in the [\u001b[39m\u001b[38;5;132;01m{\u001b[39;00maxis_name\u001b[38;5;132;01m}\u001b[39;00m\u001b[38;5;124m]\u001b[39m\u001b[38;5;124m\"\u001b[39m)\n\u001b[1;32m   6250\u001b[0m     not_found \u001b[38;5;241m=\u001b[39m \u001b[38;5;28mlist\u001b[39m(ensure_index(key)[missing_mask\u001b[38;5;241m.\u001b[39mnonzero()[\u001b[38;5;241m0\u001b[39m]]\u001b[38;5;241m.\u001b[39munique())\n\u001b[1;32m   6251\u001b[0m     \u001b[38;5;28;01mraise\u001b[39;00m \u001b[38;5;167;01mKeyError\u001b[39;00m(\u001b[38;5;124mf\u001b[39m\u001b[38;5;124m\"\u001b[39m\u001b[38;5;132;01m{\u001b[39;00mnot_found\u001b[38;5;132;01m}\u001b[39;00m\u001b[38;5;124m not in index\u001b[39m\u001b[38;5;124m\"\u001b[39m)\n",
      "\u001b[0;31mKeyError\u001b[0m: \"None of [Index([                                   ('3', 1),\\n                                          ('6', 1),\\n                                          ('7', 1),\\n                                          ('9', 1),\\n                                         ('10', 1),\\n                                         ('12', 1),\\n                                     ('ABS(0)', 1),\\n                                  ('COSINE(0)', 1),\\n                              ('PERCENTILE(0)', 1),\\n                                    ('SINE(0)', 1),\\n       ...\\n             ('SUBTRACT(SINE(12), SQUARE(12))', 1),\\n                    ('PLUS(SINE(12), TAN(12))', 1),\\n         ('SUBTRACT(SINE(12), RECIPROCAL(12))', 1),\\n             ('SUBTRACT(SQRT(12), SQUARE(12))', 1),\\n                 ('PLUS(SQRT(12), SQUARE(12))', 1),\\n                ('SUBTRACT(SQRT(12), TAN(12))', 1),\\n                    ('PLUS(SQRT(12), TAN(12))', 1),\\n       ('SUBTRACT(SQUARE(12), RECIPROCAL(12))', 1),\\n           ('PLUS(SQUARE(12), RECIPROCAL(12))', 1),\\n              ('PLUS(TAN(12), RECIPROCAL(12))', 1)],\\n      dtype='object', length=8402)] are in the [columns]\""
     ]
    }
   ],
   "source": [
    "\n",
    "x0 = np.random.randint(2, size=len(feats.columns))\n",
    "ft.selection.pso(cost_function, feats, target, x0, [0, 1], 10, 10)\n",
    "\n",
    "# def pso(costFunc, X, y, x0, bounds, num_particles, maxiter, verbose=False):"
   ]
  },
  {
   "cell_type": "code",
   "execution_count": null,
   "metadata": {},
   "outputs": [],
   "source": []
  },
  {
   "cell_type": "code",
   "execution_count": null,
   "metadata": {},
   "outputs": [],
   "source": []
  },
  {
   "cell_type": "code",
   "execution_count": null,
   "metadata": {},
   "outputs": [],
   "source": []
  },
  {
   "cell_type": "code",
   "execution_count": null,
   "metadata": {},
   "outputs": [],
   "source": []
  },
  {
   "cell_type": "code",
   "execution_count": null,
   "metadata": {},
   "outputs": [],
   "source": []
  },
  {
   "cell_type": "code",
   "execution_count": null,
   "metadata": {},
   "outputs": [],
   "source": []
  },
  {
   "cell_type": "code",
   "execution_count": null,
   "metadata": {},
   "outputs": [],
   "source": []
  },
  {
   "cell_type": "code",
   "execution_count": null,
   "metadata": {},
   "outputs": [],
   "source": [
    "from sklearn.preprocessing import StandardScaler\n",
    "from sklearn.pipeline import Pipeline\n",
    "from sklearn.model_selection import train_test_split, GridSearchCV\n",
    "from sklearn.linear_model import Lasso"
   ]
  },
  {
   "cell_type": "code",
   "execution_count": null,
   "metadata": {},
   "outputs": [],
   "source": [
    "pipeline = Pipeline([\n",
    "                     ('scaler',StandardScaler()),\n",
    "                     ('model',Lasso())\n",
    "])\n",
    "\n",
    "search = GridSearchCV(pipeline,\n",
    "                      {'model__alpha':np.arange(0.1,1,0.1)},\n",
    "                      cv = 5, scoring=\"neg_mean_squared_error\",verbose=1,n_jobs=-1)\n",
    "\n",
    "search.fit(feats,target)"
   ]
  },
  {
   "cell_type": "code",
   "execution_count": null,
   "metadata": {},
   "outputs": [],
   "source": [
    "search.best_params_"
   ]
  },
  {
   "cell_type": "code",
   "execution_count": null,
   "metadata": {},
   "outputs": [],
   "source": [
    "coefficients = search.best_estimator_.named_steps['model'].coef_\n",
    "importance = np.abs(coefficients)\n",
    "\n",
    "feature_cols = feats.columns[importance > 0]\n",
    "\n",
    "feature_cols"
   ]
  },
  {
   "cell_type": "code",
   "execution_count": null,
   "metadata": {},
   "outputs": [],
   "source": [
    "len(feature_cols)"
   ]
  },
  {
   "cell_type": "code",
   "execution_count": null,
   "metadata": {},
   "outputs": [],
   "source": [
    "data.shape"
   ]
  },
  {
   "cell_type": "code",
   "execution_count": null,
   "metadata": {},
   "outputs": [],
   "source": [
    "feats[feature_cols]"
   ]
  },
  {
   "cell_type": "code",
   "execution_count": null,
   "metadata": {},
   "outputs": [],
   "source": [
    "ft.transformations.combinations.transfomers"
   ]
  },
  {
   "cell_type": "code",
   "execution_count": null,
   "metadata": {},
   "outputs": [],
   "source": [
    "import pandas as pd\n",
    "from sklearn.feature_selection import f_regression\n",
    "\n",
    "\n",
    "f_stat = pd.Series(f_regression(data, target)[0], index = data.columns)\n",
    "corr = data.corr().abs().clip(.00001) "
   ]
  },
  {
   "cell_type": "code",
   "execution_count": null,
   "metadata": {},
   "outputs": [],
   "source": [
    "selected = []\n",
    "not_selected = list(data.columns)\n",
    "K = 3\n",
    "\n",
    "for i in range(K):\n",
    "    \n",
    "    score = f_stat.loc[not_selected] / corr.loc[not_selected, selected].mean(axis=1).fillna(.00001)\n",
    "    \n",
    "    best = score.index[score.argmax()]\n",
    "    selected.append(best)\n",
    "    not_selected.remove(best)\n",
    "\n",
    "selected    "
   ]
  },
  {
   "cell_type": "code",
   "execution_count": null,
   "metadata": {},
   "outputs": [],
   "source": []
  },
  {
   "cell_type": "code",
   "execution_count": null,
   "metadata": {},
   "outputs": [],
   "source": [
    "selected\n"
   ]
  },
  {
   "cell_type": "code",
   "execution_count": null,
   "metadata": {},
   "outputs": [],
   "source": [
    "i = 1"
   ]
  },
  {
   "cell_type": "code",
   "execution_count": null,
   "metadata": {},
   "outputs": [],
   "source": []
  }
 ],
 "metadata": {
  "kernelspec": {
   "display_name": "venv",
   "language": "python",
   "name": "python3"
  },
  "language_info": {
   "codemirror_mode": {
    "name": "ipython",
    "version": 3
   },
   "file_extension": ".py",
   "mimetype": "text/x-python",
   "name": "python",
   "nbconvert_exporter": "python",
   "pygments_lexer": "ipython3",
   "version": "3.11.6"
  }
 },
 "nbformat": 4,
 "nbformat_minor": 2
}
