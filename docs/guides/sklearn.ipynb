{
 "cells": [
  {
   "cell_type": "markdown",
   "id": "eb5834d3-94b4-468d-803e-0b008c10ac29",
   "metadata": {},
   "source": [
    "# Using Featuristic With scikit-learn Pipelines\n",
    "\n",
    "Featuristic is fully compatible with scikit-learn's `Pipeline` class, which can be used to sequentially apply a list of transformers to process your data.\n",
    "\n",
    "Let's take a look at an example using the `cars` dataset.\n",
    "\n"
   ]
  },
  {
   "cell_type": "code",
   "execution_count": 1,
   "id": "bb06d8de-d1e2-4ad0-b386-3c287589a09d",
   "metadata": {},
   "outputs": [
    {
     "name": "stdout",
     "output_type": "stream",
     "text": [
      "0.1.1\n"
     ]
    }
   ],
   "source": [
    "from sklearn.linear_model import LinearRegression\n",
    "from sklearn.model_selection import cross_val_score\n",
    "from sklearn.pipeline import Pipeline\n",
    "import featuristic as ft\n",
    "import numpy as np\n",
    "\n",
    "np.random.seed(8888)\n",
    "\n",
    "print(ft.__version__)"
   ]
  },
  {
   "cell_type": "markdown",
   "id": "2cad1914-1776-485b-b1a6-5dc3c78ce993",
   "metadata": {},
   "source": [
    "### Load the Data"
   ]
  },
  {
   "cell_type": "code",
   "execution_count": 2,
   "id": "e8ddeb97-7128-4bc8-a265-d62bbde070cc",
   "metadata": {},
   "outputs": [
    {
     "data": {
      "text/html": [
       "<div>\n",
       "<style scoped>\n",
       "    .dataframe tbody tr th:only-of-type {\n",
       "        vertical-align: middle;\n",
       "    }\n",
       "\n",
       "    .dataframe tbody tr th {\n",
       "        vertical-align: top;\n",
       "    }\n",
       "\n",
       "    .dataframe thead th {\n",
       "        text-align: right;\n",
       "    }\n",
       "</style>\n",
       "<table border=\"1\" class=\"dataframe\">\n",
       "  <thead>\n",
       "    <tr style=\"text-align: right;\">\n",
       "      <th></th>\n",
       "      <th>displacement</th>\n",
       "      <th>cylinders</th>\n",
       "      <th>horsepower</th>\n",
       "      <th>weight</th>\n",
       "      <th>acceleration</th>\n",
       "      <th>model_year</th>\n",
       "      <th>origin</th>\n",
       "    </tr>\n",
       "  </thead>\n",
       "  <tbody>\n",
       "    <tr>\n",
       "      <th>0</th>\n",
       "      <td>307.0</td>\n",
       "      <td>8</td>\n",
       "      <td>130.0</td>\n",
       "      <td>3504</td>\n",
       "      <td>12.0</td>\n",
       "      <td>70</td>\n",
       "      <td>1</td>\n",
       "    </tr>\n",
       "    <tr>\n",
       "      <th>1</th>\n",
       "      <td>350.0</td>\n",
       "      <td>8</td>\n",
       "      <td>165.0</td>\n",
       "      <td>3693</td>\n",
       "      <td>11.5</td>\n",
       "      <td>70</td>\n",
       "      <td>1</td>\n",
       "    </tr>\n",
       "    <tr>\n",
       "      <th>2</th>\n",
       "      <td>318.0</td>\n",
       "      <td>8</td>\n",
       "      <td>150.0</td>\n",
       "      <td>3436</td>\n",
       "      <td>11.0</td>\n",
       "      <td>70</td>\n",
       "      <td>1</td>\n",
       "    </tr>\n",
       "    <tr>\n",
       "      <th>3</th>\n",
       "      <td>304.0</td>\n",
       "      <td>8</td>\n",
       "      <td>150.0</td>\n",
       "      <td>3433</td>\n",
       "      <td>12.0</td>\n",
       "      <td>70</td>\n",
       "      <td>1</td>\n",
       "    </tr>\n",
       "    <tr>\n",
       "      <th>4</th>\n",
       "      <td>302.0</td>\n",
       "      <td>8</td>\n",
       "      <td>140.0</td>\n",
       "      <td>3449</td>\n",
       "      <td>10.5</td>\n",
       "      <td>70</td>\n",
       "      <td>1</td>\n",
       "    </tr>\n",
       "  </tbody>\n",
       "</table>\n",
       "</div>"
      ],
      "text/plain": [
       "   displacement  cylinders  horsepower  weight  acceleration  model_year  \\\n",
       "0         307.0          8       130.0    3504          12.0          70   \n",
       "1         350.0          8       165.0    3693          11.5          70   \n",
       "2         318.0          8       150.0    3436          11.0          70   \n",
       "3         304.0          8       150.0    3433          12.0          70   \n",
       "4         302.0          8       140.0    3449          10.5          70   \n",
       "\n",
       "   origin  \n",
       "0       1  \n",
       "1       1  \n",
       "2       1  \n",
       "3       1  \n",
       "4       1  "
      ]
     },
     "execution_count": 2,
     "metadata": {},
     "output_type": "execute_result"
    }
   ],
   "source": [
    "X, y = ft.fetch_cars_dataset()\n",
    "\n",
    "X.head()"
   ]
  },
  {
   "cell_type": "code",
   "execution_count": 3,
   "id": "c1cf8c11-05a1-4e35-aee5-459607855ac1",
   "metadata": {},
   "outputs": [
    {
     "data": {
      "text/plain": [
       "0    18.0\n",
       "1    15.0\n",
       "2    18.0\n",
       "3    16.0\n",
       "4    17.0\n",
       "Name: mpg, dtype: float64"
      ]
     },
     "execution_count": 3,
     "metadata": {},
     "output_type": "execute_result"
    }
   ],
   "source": [
    "y.head()"
   ]
  },
  {
   "cell_type": "markdown",
   "id": "d33849ff-567d-41aa-a97a-f0431bb14839",
   "metadata": {},
   "source": [
    "### Objective Function\n",
    "\n",
    "We use a custom objective function to pass into the Genetic Feature Selection algorithm. The output of this will be minimized to find the optimal subset of features."
   ]
  },
  {
   "cell_type": "code",
   "execution_count": 4,
   "id": "6704f5e5-9d26-4be6-8ef4-5d2df3068bf0",
   "metadata": {},
   "outputs": [],
   "source": [
    "def objective(X, y):\n",
    "    model = LinearRegression()\n",
    "    scores = cross_val_score(model, X, y, cv=3, scoring=\"neg_mean_absolute_error\")\n",
    "    return -scores.mean()"
   ]
  },
  {
   "cell_type": "markdown",
   "id": "add0e65f-8b04-4799-afd4-4947a293a772",
   "metadata": {},
   "source": [
    "### Fit a scikit-learn Pipeline Containing Featuristic"
   ]
  },
  {
   "cell_type": "code",
   "execution_count": 5,
   "id": "8846e305-9321-4387-b1bf-a4fe94b11428",
   "metadata": {},
   "outputs": [
    {
     "name": "stderr",
     "output_type": "stream",
     "text": [
      "Creating new features...: 100%|█████████████████████████████████████████████████████████████████████████████████████| 50/50 [00:13<00:00,  3.67it/s]\n",
      "Pruning feature space...: 100%|████████████████████████████████████████████████████████████████████████████████████| 10/10 [00:00<00:00, 405.78it/s]\u001b[A\n",
      "Creating new features...: 100%|█████████████████████████████████████████████████████████████████████████████████████| 50/50 [00:14<00:00,  3.57it/s]\n",
      "Optimising feature selection...:  82%|███████████████████████████████████████████████████████████████▉              | 41/50 [00:04<00:00, 10.24it/s]\n"
     ]
    }
   ],
   "source": [
    "pipe = Pipeline(\n",
    "    steps=[\n",
    "        (\n",
    "            \"genetic_feature_synthesis\",\n",
    "            ft.GeneticFeatureSynthesis(\n",
    "                num_features=10,\n",
    "                population_size=100,\n",
    "                max_generations=50,\n",
    "                early_termination_iters=15,\n",
    "                n_jobs=-1,\n",
    "            ),\n",
    "        ),\n",
    "        (\n",
    "            \"genetic_feature_selector\",\n",
    "            ft.GeneticFeatureSelector(\n",
    "                objective_function=objective,\n",
    "                population_size=100,\n",
    "                crossover_proba=0.75,\n",
    "                max_generations=50,\n",
    "                early_termination_iters=25,\n",
    "                n_jobs=-1,\n",
    "            ),\n",
    "        ),\n",
    "    ]\n",
    ")\n",
    "\n",
    "features = pipe.fit_transform(X, y)"
   ]
  },
  {
   "cell_type": "code",
   "execution_count": 6,
   "id": "ba1ced6a-4c28-455e-8729-4a42cb08bc55",
   "metadata": {},
   "outputs": [
    {
     "data": {
      "text/html": [
       "<div>\n",
       "<style scoped>\n",
       "    .dataframe tbody tr th:only-of-type {\n",
       "        vertical-align: middle;\n",
       "    }\n",
       "\n",
       "    .dataframe tbody tr th {\n",
       "        vertical-align: top;\n",
       "    }\n",
       "\n",
       "    .dataframe thead th {\n",
       "        text-align: right;\n",
       "    }\n",
       "</style>\n",
       "<table border=\"1\" class=\"dataframe\">\n",
       "  <thead>\n",
       "    <tr style=\"text-align: right;\">\n",
       "      <th></th>\n",
       "      <th>cylinders</th>\n",
       "      <th>weight</th>\n",
       "      <th>feature_2</th>\n",
       "      <th>feature_5</th>\n",
       "      <th>feature_8</th>\n",
       "    </tr>\n",
       "  </thead>\n",
       "  <tbody>\n",
       "    <tr>\n",
       "      <th>0</th>\n",
       "      <td>8</td>\n",
       "      <td>3504</td>\n",
       "      <td>-2.412136e+08</td>\n",
       "      <td>-2.412136e+08</td>\n",
       "      <td>-2.412139e+08</td>\n",
       "    </tr>\n",
       "    <tr>\n",
       "      <th>1</th>\n",
       "      <td>8</td>\n",
       "      <td>3693</td>\n",
       "      <td>-1.905969e+08</td>\n",
       "      <td>-1.905969e+08</td>\n",
       "      <td>-1.905972e+08</td>\n",
       "    </tr>\n",
       "    <tr>\n",
       "      <th>2</th>\n",
       "      <td>8</td>\n",
       "      <td>3436</td>\n",
       "      <td>-2.405944e+08</td>\n",
       "      <td>-2.405944e+08</td>\n",
       "      <td>-2.405946e+08</td>\n",
       "    </tr>\n",
       "    <tr>\n",
       "      <th>3</th>\n",
       "      <td>8</td>\n",
       "      <td>3433</td>\n",
       "      <td>-2.520235e+08</td>\n",
       "      <td>-2.520235e+08</td>\n",
       "      <td>-2.520237e+08</td>\n",
       "    </tr>\n",
       "    <tr>\n",
       "      <th>4</th>\n",
       "      <td>8</td>\n",
       "      <td>3449</td>\n",
       "      <td>-2.518106e+08</td>\n",
       "      <td>-2.518106e+08</td>\n",
       "      <td>-2.518108e+08</td>\n",
       "    </tr>\n",
       "  </tbody>\n",
       "</table>\n",
       "</div>"
      ],
      "text/plain": [
       "   cylinders  weight     feature_2     feature_5     feature_8\n",
       "0          8    3504 -2.412136e+08 -2.412136e+08 -2.412139e+08\n",
       "1          8    3693 -1.905969e+08 -1.905969e+08 -1.905972e+08\n",
       "2          8    3436 -2.405944e+08 -2.405944e+08 -2.405946e+08\n",
       "3          8    3433 -2.520235e+08 -2.520235e+08 -2.520237e+08\n",
       "4          8    3449 -2.518106e+08 -2.518106e+08 -2.518108e+08"
      ]
     },
     "execution_count": 6,
     "metadata": {},
     "output_type": "execute_result"
    }
   ],
   "source": [
    "features.head()"
   ]
  },
  {
   "cell_type": "markdown",
   "id": "946e4317-dc65-471c-8019-7b12444227a5",
   "metadata": {},
   "source": [
    "## Accessing Featuristic Inside the Pipeline\n",
    "\n",
    "We can still access the individual Featuristic steps via the pipeline's `named_steps` functionality. For example, to look at the formulas used for the feature engineering or to plot the genetic algorithm's history."
   ]
  },
  {
   "cell_type": "code",
   "execution_count": 7,
   "id": "0661e5aa-2efb-4fd7-9624-15314c5a21a4",
   "metadata": {},
   "outputs": [
    {
     "data": {
      "text/html": [
       "<div>\n",
       "<style scoped>\n",
       "    .dataframe tbody tr th:only-of-type {\n",
       "        vertical-align: middle;\n",
       "    }\n",
       "\n",
       "    .dataframe tbody tr th {\n",
       "        vertical-align: top;\n",
       "    }\n",
       "\n",
       "    .dataframe thead th {\n",
       "        text-align: right;\n",
       "    }\n",
       "</style>\n",
       "<table border=\"1\" class=\"dataframe\">\n",
       "  <thead>\n",
       "    <tr style=\"text-align: right;\">\n",
       "      <th></th>\n",
       "      <th>name</th>\n",
       "      <th>formula</th>\n",
       "      <th>fitness</th>\n",
       "    </tr>\n",
       "  </thead>\n",
       "  <tbody>\n",
       "    <tr>\n",
       "      <th>0</th>\n",
       "      <td>feature_2</td>\n",
       "      <td>(((((square((horsepower / model_year)) + cube(...</td>\n",
       "      <td>-0.905968</td>\n",
       "    </tr>\n",
       "    <tr>\n",
       "      <th>1</th>\n",
       "      <td>feature_5</td>\n",
       "      <td>(((((sin(((horsepower + cube(horsepower)) - si...</td>\n",
       "      <td>-0.905802</td>\n",
       "    </tr>\n",
       "    <tr>\n",
       "      <th>2</th>\n",
       "      <td>feature_0</td>\n",
       "      <td>(((((acceleration + cube(-(-(weight)))) + squa...</td>\n",
       "      <td>-0.906063</td>\n",
       "    </tr>\n",
       "    <tr>\n",
       "      <th>3</th>\n",
       "      <td>feature_3</td>\n",
       "      <td>((((((acceleration + cube(-(-(weight)))) + squ...</td>\n",
       "      <td>-0.905881</td>\n",
       "    </tr>\n",
       "    <tr>\n",
       "      <th>4</th>\n",
       "      <td>feature_6</td>\n",
       "      <td>(((((((acceleration + cube(-(-(weight)))) + sq...</td>\n",
       "      <td>-0.905730</td>\n",
       "    </tr>\n",
       "  </tbody>\n",
       "</table>\n",
       "</div>"
      ],
      "text/plain": [
       "        name                                            formula   fitness\n",
       "0  feature_2  (((((square((horsepower / model_year)) + cube(... -0.905968\n",
       "1  feature_5  (((((sin(((horsepower + cube(horsepower)) - si... -0.905802\n",
       "2  feature_0  (((((acceleration + cube(-(-(weight)))) + squa... -0.906063\n",
       "3  feature_3  ((((((acceleration + cube(-(-(weight)))) + squ... -0.905881\n",
       "4  feature_6  (((((((acceleration + cube(-(-(weight)))) + sq... -0.905730"
      ]
     },
     "execution_count": 7,
     "metadata": {},
     "output_type": "execute_result"
    }
   ],
   "source": [
    "gfs = pipe.named_steps[\"genetic_feature_synthesis\"]\n",
    "\n",
    "gfs.get_feature_info().head()"
   ]
  },
  {
   "cell_type": "code",
   "execution_count": 8,
   "id": "4234ae88-ae78-46e6-bc81-e7e7e0933f2a",
   "metadata": {},
   "outputs": [
    {
     "data": {
      "image/png": "[encoded data removed]",
      "text/plain": [
       "<Figure size 640x480 with 1 Axes>"
      ]
     },
     "metadata": {},
     "output_type": "display_data"
    }
   ],
   "source": [
    "gfs.plot_history()"
   ]
  },
  {
   "cell_type": "code",
   "execution_count": null,
   "id": "c282d3cc-4eee-4c2b-919d-30b9f7b6ed33",
   "metadata": {},
   "outputs": [],
   "source": []
  }
 ],
 "metadata": {
  "kernelspec": {
   "display_name": "Python 3 (ipykernel)",
   "language": "python",
   "name": "python3"
  },
  "language_info": {
   "codemirror_mode": {
    "name": "ipython",
    "version": 3
   },
   "file_extension": ".py",
   "mimetype": "text/x-python",
   "name": "python",
   "nbconvert_exporter": "python",
   "pygments_lexer": "ipython3",
   "version": "3.11.6"
  }
 },
 "nbformat": 4,
 "nbformat_minor": 5
}
