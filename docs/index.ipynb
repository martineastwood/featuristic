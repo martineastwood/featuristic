{
 "cells": [
  {
   "cell_type": "markdown",
   "metadata": {
    "editable": true,
    "slideshow": {
     "slide_type": ""
    },
    "tags": []
   },
   "source": [
    "# What is Featuristic?"
   ]
  },
  {
   "cell_type": "markdown",
   "metadata": {
    "editable": true,
    "slideshow": {
     "slide_type": ""
    },
    "tags": []
   },
   "source": [
    "![featuristic_logo](_static/logo.png \"Featuristic\")\n",
    "\n",
    "**Featuristic** uses Genetic Algorithms to perform **automated feature engineering and feature selection** to optimise your machine learning models and improve their predictions.\n",
    "\n",
    "## How Does Genetic Feature Synthesis Work?\n",
    "\n",
    "Featuristic uses a form of [symbolic regression](https://en.wikipedia.org/wiki/Symbolic_regression) to intelligently generate interpretable mathematical formulae that are used to create new features from your dataset.\n",
    "\n",
    "Initially, Featuristic does this by creating a random population of formulae from standard mathematical operators, such as `add`, `subtract`, `sin`, `tan`, `square` etc. \n",
    "\n",
    "For example: `(abs(square(feature_1)) - feature_2) * feature_3 `\n",
    "\n",
    "The formulae that generate features that correlate most highly with the target variable are then selected and are recombined together using a genetic algorithm to produce offspring.\n",
    "\n",
    "![Symbolic Regression Example](_static/symbolic_regression_example.png \"Symbolic Regression Example\")\n",
    "\n",
    "These offspring can also undergo point mutatations, changing the formulae's operators at individual locations.\n",
    "\n",
    "![Mutation Example](_static/mutation_example.png \"Mutation Example\")\n",
    "\n",
    "This process is then repeated for multiple generations to constantly evolve the population of formulae, with the goal of producing features that are highly correlated with the target variable."
   ]
  },
  {
   "cell_type": "markdown",
   "metadata": {
    "editable": true,
    "raw_mimetype": "",
    "slideshow": {
     "slide_type": ""
    },
    "tags": []
   },
   "source": [
    "## Quickstart"
   ]
  },
  {
   "cell_type": "markdown",
   "metadata": {
    "editable": true,
    "slideshow": {
     "slide_type": ""
    },
    "tags": []
   },
   "source": [
    "Below is a simple example of using Featuristic for carrying out automated feature engineering and feature selection on the well known `cars` dataset.\n",
    "\n",
    "Featuristic works in two steps:\n",
    "\n",
    "1. The first step is intelligently evolve new features via **Genetic Feature Synthesis**\n",
    "2. A **Genetic Feature Selection** algorithm then finds the optimal subset of features within the new feature space, with the aim of maximizing the predictive ability whilst minimizing the number of features required"
   ]
  },
  {
   "cell_type": "code",
   "execution_count": 11,
   "metadata": {
    "editable": true,
    "slideshow": {
     "slide_type": ""
    },
    "tags": []
   },
   "outputs": [
    {
     "name": "stdout",
     "output_type": "stream",
     "text": [
      "0.1.1\n"
     ]
    }
   ],
   "source": [
    "from sklearn.linear_model import LinearRegression\n",
    "from sklearn.model_selection import cross_val_score\n",
    "import featuristic as ft\n",
    "import numpy as np\n",
    "\n",
    "np.random.seed(8888)\n",
    "\n",
    "print(ft.__version__)"
   ]
  },
  {
   "cell_type": "markdown",
   "metadata": {
    "editable": true,
    "slideshow": {
     "slide_type": ""
    },
    "tags": []
   },
   "source": [
    "### Load the Data"
   ]
  },
  {
   "cell_type": "code",
   "execution_count": 2,
   "metadata": {
    "editable": true,
    "slideshow": {
     "slide_type": ""
    },
    "tags": []
   },
   "outputs": [
    {
     "data": {
      "text/html": [
       "<div>\n",
       "<style scoped>\n",
       "    .dataframe tbody tr th:only-of-type {\n",
       "        vertical-align: middle;\n",
       "    }\n",
       "\n",
       "    .dataframe tbody tr th {\n",
       "        vertical-align: top;\n",
       "    }\n",
       "\n",
       "    .dataframe thead th {\n",
       "        text-align: right;\n",
       "    }\n",
       "</style>\n",
       "<table border=\"1\" class=\"dataframe\">\n",
       "  <thead>\n",
       "    <tr style=\"text-align: right;\">\n",
       "      <th></th>\n",
       "      <th>displacement</th>\n",
       "      <th>cylinders</th>\n",
       "      <th>horsepower</th>\n",
       "      <th>weight</th>\n",
       "      <th>acceleration</th>\n",
       "      <th>model_year</th>\n",
       "      <th>origin</th>\n",
       "    </tr>\n",
       "  </thead>\n",
       "  <tbody>\n",
       "    <tr>\n",
       "      <th>0</th>\n",
       "      <td>307.0</td>\n",
       "      <td>8</td>\n",
       "      <td>130.0</td>\n",
       "      <td>3504</td>\n",
       "      <td>12.0</td>\n",
       "      <td>70</td>\n",
       "      <td>1</td>\n",
       "    </tr>\n",
       "    <tr>\n",
       "      <th>1</th>\n",
       "      <td>350.0</td>\n",
       "      <td>8</td>\n",
       "      <td>165.0</td>\n",
       "      <td>3693</td>\n",
       "      <td>11.5</td>\n",
       "      <td>70</td>\n",
       "      <td>1</td>\n",
       "    </tr>\n",
       "    <tr>\n",
       "      <th>2</th>\n",
       "      <td>318.0</td>\n",
       "      <td>8</td>\n",
       "      <td>150.0</td>\n",
       "      <td>3436</td>\n",
       "      <td>11.0</td>\n",
       "      <td>70</td>\n",
       "      <td>1</td>\n",
       "    </tr>\n",
       "    <tr>\n",
       "      <th>3</th>\n",
       "      <td>304.0</td>\n",
       "      <td>8</td>\n",
       "      <td>150.0</td>\n",
       "      <td>3433</td>\n",
       "      <td>12.0</td>\n",
       "      <td>70</td>\n",
       "      <td>1</td>\n",
       "    </tr>\n",
       "    <tr>\n",
       "      <th>4</th>\n",
       "      <td>302.0</td>\n",
       "      <td>8</td>\n",
       "      <td>140.0</td>\n",
       "      <td>3449</td>\n",
       "      <td>10.5</td>\n",
       "      <td>70</td>\n",
       "      <td>1</td>\n",
       "    </tr>\n",
       "  </tbody>\n",
       "</table>\n",
       "</div>"
      ],
      "text/plain": [
       "   displacement  cylinders  horsepower  weight  acceleration  model_year  \\\n",
       "0         307.0          8       130.0    3504          12.0          70   \n",
       "1         350.0          8       165.0    3693          11.5          70   \n",
       "2         318.0          8       150.0    3436          11.0          70   \n",
       "3         304.0          8       150.0    3433          12.0          70   \n",
       "4         302.0          8       140.0    3449          10.5          70   \n",
       "\n",
       "   origin  \n",
       "0       1  \n",
       "1       1  \n",
       "2       1  \n",
       "3       1  \n",
       "4       1  "
      ]
     },
     "execution_count": 2,
     "metadata": {},
     "output_type": "execute_result"
    }
   ],
   "source": [
    "X, y = ft.fetch_cars_dataset()\n",
    "\n",
    "X.head()"
   ]
  },
  {
   "cell_type": "code",
   "execution_count": 3,
   "metadata": {
    "editable": true,
    "slideshow": {
     "slide_type": ""
    },
    "tags": []
   },
   "outputs": [
    {
     "data": {
      "text/plain": [
       "0    18.0\n",
       "1    15.0\n",
       "2    18.0\n",
       "3    16.0\n",
       "4    17.0\n",
       "Name: mpg, dtype: float64"
      ]
     },
     "execution_count": 3,
     "metadata": {},
     "output_type": "execute_result"
    }
   ],
   "source": [
    "y.head()"
   ]
  },
  {
   "cell_type": "markdown",
   "metadata": {
    "editable": true,
    "slideshow": {
     "slide_type": ""
    },
    "tags": []
   },
   "source": [
    "### Genetic Feature Synthesis\n",
    "\n",
    "Now let's run the Genetic Feature Synthesis to evolve to automtaically engineer new features from our dataset. \n",
    "\n",
    "We've set the genetic algorithm to intelligently synthesise 10 new features for us, using a population comprising 100 individuals that are evolved over 50 generations. We also tell the algorithm to terminate early if it goes 15 generations without improving on the best feature found so far, and set `n_jobs` to -1 so that it runs in parallel across all the CPUs in our computer. We then call the `fit` function to run the Genetic Feature Synthesis."
   ]
  },
  {
   "cell_type": "code",
   "execution_count": 4,
   "metadata": {},
   "outputs": [
    {
     "name": "stderr",
     "output_type": "stream",
     "text": [
      "Creating new features...:  40%|██████████████████████████████████                                                   | 20/50 [00:05<00:05,  5.17it/s]\n",
      "Pruning feature space...: 100%|████████████████████████████████████████████████████████████████████████████████████| 10/10 [00:00<00:00, 228.34it/s]\u001b[A\n",
      "Creating new features...:  40%|██████████████████████████████████                                                   | 20/50 [00:05<00:07,  3.77it/s]\n"
     ]
    }
   ],
   "source": [
    "synth = ft.GeneticFeatureSynthesis(\n",
    "    num_features=10,\n",
    "    population_size=100,\n",
    "    max_generations=50,\n",
    "    early_termination_iters=15,\n",
    "    n_jobs=-1,\n",
    ")\n",
    "\n",
    "synth.fit(X, y)\n",
    "\n",
    "None"
   ]
  },
  {
   "cell_type": "markdown",
   "metadata": {},
   "source": [
    "Next, we call the `transform` function to outout a dataframe containing our new features. If we'd split our data into train and test splits, we'd `fit` the `Genetic Feature Synthesis` class to our training data and then use the `transform` function on both the train and test splits to avoid data leakage. \n",
    "\n",
    "We could also combine both the `fit` and `transform` functions into one step by calling `fit_transform` instead."
   ]
  },
  {
   "cell_type": "code",
   "execution_count": 5,
   "metadata": {},
   "outputs": [
    {
     "data": {
      "text/html": [
       "<div>\n",
       "<style scoped>\n",
       "    .dataframe tbody tr th:only-of-type {\n",
       "        vertical-align: middle;\n",
       "    }\n",
       "\n",
       "    .dataframe tbody tr th {\n",
       "        vertical-align: top;\n",
       "    }\n",
       "\n",
       "    .dataframe thead th {\n",
       "        text-align: right;\n",
       "    }\n",
       "</style>\n",
       "<table border=\"1\" class=\"dataframe\">\n",
       "  <thead>\n",
       "    <tr style=\"text-align: right;\">\n",
       "      <th></th>\n",
       "      <th>feature_0</th>\n",
       "      <th>feature_1</th>\n",
       "      <th>feature_2</th>\n",
       "      <th>feature_3</th>\n",
       "      <th>feature_5</th>\n",
       "      <th>feature_6</th>\n",
       "      <th>feature_7</th>\n",
       "      <th>feature_8</th>\n",
       "      <th>feature_9</th>\n",
       "      <th>feature_10</th>\n",
       "    </tr>\n",
       "  </thead>\n",
       "  <tbody>\n",
       "    <tr>\n",
       "      <th>0</th>\n",
       "      <td>1396.0</td>\n",
       "      <td>1396.0</td>\n",
       "      <td>1526.0</td>\n",
       "      <td>-3249.249286</td>\n",
       "      <td>-3360.00</td>\n",
       "      <td>-3360.00</td>\n",
       "      <td>-3360.00</td>\n",
       "      <td>-3360.00</td>\n",
       "      <td>-3360.00</td>\n",
       "      <td>-3360.00</td>\n",
       "    </tr>\n",
       "    <tr>\n",
       "      <th>1</th>\n",
       "      <td>1207.0</td>\n",
       "      <td>1207.0</td>\n",
       "      <td>1372.0</td>\n",
       "      <td>-3497.000000</td>\n",
       "      <td>-3560.75</td>\n",
       "      <td>-3560.75</td>\n",
       "      <td>-3560.75</td>\n",
       "      <td>-3560.75</td>\n",
       "      <td>-3560.75</td>\n",
       "      <td>-3560.75</td>\n",
       "    </tr>\n",
       "    <tr>\n",
       "      <th>2</th>\n",
       "      <td>1464.0</td>\n",
       "      <td>1464.0</td>\n",
       "      <td>1614.0</td>\n",
       "      <td>-3198.568728</td>\n",
       "      <td>-3315.00</td>\n",
       "      <td>-3315.00</td>\n",
       "      <td>-3315.00</td>\n",
       "      <td>-3315.00</td>\n",
       "      <td>-3315.00</td>\n",
       "      <td>-3315.00</td>\n",
       "    </tr>\n",
       "    <tr>\n",
       "      <th>3</th>\n",
       "      <td>1467.0</td>\n",
       "      <td>1467.0</td>\n",
       "      <td>1617.0</td>\n",
       "      <td>-3173.196503</td>\n",
       "      <td>-3289.00</td>\n",
       "      <td>-3289.00</td>\n",
       "      <td>-3289.00</td>\n",
       "      <td>-3289.00</td>\n",
       "      <td>-3289.00</td>\n",
       "      <td>-3289.00</td>\n",
       "    </tr>\n",
       "    <tr>\n",
       "      <th>4</th>\n",
       "      <td>1451.0</td>\n",
       "      <td>1451.0</td>\n",
       "      <td>1591.0</td>\n",
       "      <td>-3185.744002</td>\n",
       "      <td>-3338.75</td>\n",
       "      <td>-3338.75</td>\n",
       "      <td>-3338.75</td>\n",
       "      <td>-3338.75</td>\n",
       "      <td>-3338.75</td>\n",
       "      <td>-3338.75</td>\n",
       "    </tr>\n",
       "  </tbody>\n",
       "</table>\n",
       "</div>"
      ],
      "text/plain": [
       "   feature_0  feature_1  feature_2    feature_3  feature_5  feature_6  \\\n",
       "0     1396.0     1396.0     1526.0 -3249.249286   -3360.00   -3360.00   \n",
       "1     1207.0     1207.0     1372.0 -3497.000000   -3560.75   -3560.75   \n",
       "2     1464.0     1464.0     1614.0 -3198.568728   -3315.00   -3315.00   \n",
       "3     1467.0     1467.0     1617.0 -3173.196503   -3289.00   -3289.00   \n",
       "4     1451.0     1451.0     1591.0 -3185.744002   -3338.75   -3338.75   \n",
       "\n",
       "   feature_7  feature_8  feature_9  feature_10  \n",
       "0   -3360.00   -3360.00   -3360.00    -3360.00  \n",
       "1   -3560.75   -3560.75   -3560.75    -3560.75  \n",
       "2   -3315.00   -3315.00   -3315.00    -3315.00  \n",
       "3   -3289.00   -3289.00   -3289.00    -3289.00  \n",
       "4   -3338.75   -3338.75   -3338.75    -3338.75  "
      ]
     },
     "execution_count": 5,
     "metadata": {},
     "output_type": "execute_result"
    }
   ],
   "source": [
    "features = synth.transform(X)\n",
    "\n",
    "features.head()"
   ]
  },
  {
   "cell_type": "markdown",
   "metadata": {},
   "source": [
    "Our new features have generic names. However, since Featuristic's features are all synthesised by applying mathematical expressions to the data, we can look at the formula used to create each feature. \n",
    "\n",
    "Let's take a look at the formulae for a few of our new features."
   ]
  },
  {
   "cell_type": "code",
   "execution_count": 12,
   "metadata": {},
   "outputs": [
    {
     "name": "stdout",
     "output_type": "stream",
     "text": [
      "((abs(square(model_year)) - weight) + abs(horsepower))\n"
     ]
    }
   ],
   "source": [
    "info = synth.get_feature_info()\n",
    "print(info[\"formula\"].iloc[2])"
   ]
  },
  {
   "cell_type": "code",
   "execution_count": 13,
   "metadata": {},
   "outputs": [
    {
     "name": "stdout",
     "output_type": "stream",
     "text": [
      "(abs(-(square(model_year))) - weight)\n"
     ]
    }
   ],
   "source": [
    "info = synth.get_feature_info()\n",
    "print(info[\"formula\"].iloc[1])"
   ]
  },
  {
   "cell_type": "markdown",
   "metadata": {},
   "source": [
    "### Feature Selection"
   ]
  },
  {
   "cell_type": "markdown",
   "metadata": {
    "editable": true,
    "slideshow": {
     "slide_type": ""
    },
    "tags": []
   },
   "source": [
    "### Define the Cost Function\n",
    "\n",
    "We set up a custom cost finction that the Genetic Feature Selection algorithm uses to quantify how well the subset of features predicts the target. "
   ]
  },
  {
   "cell_type": "code",
   "execution_count": null,
   "metadata": {
    "editable": true,
    "slideshow": {
     "slide_type": ""
    },
    "tags": []
   },
   "outputs": [],
   "source": [
    "def cost_function(X, y):\n",
    "    model = LinearRegression()\n",
    "    scores = cross_val_score(model, X, y, cv=3, scoring=\"neg_mean_absolute_error\")\n",
    "    return scores.mean()"
   ]
  },
  {
   "cell_type": "code",
   "execution_count": null,
   "metadata": {
    "editable": true,
    "slideshow": {
     "slide_type": ""
    },
    "tags": []
   },
   "outputs": [],
   "source": [
    "features, feature_info = ft.featurize(\n",
    "    X,\n",
    "    y,\n",
    "    selection_cost_func=cost_function,\n",
    "    selection_bigger_is_better=True,\n",
    "    n_jobs=-1,\n",
    "    generate_parsimony_coefficient=0.025,\n",
    "    selection_early_termination_iters=35\n",
    ")"
   ]
  },
  {
   "cell_type": "markdown",
   "metadata": {
    "editable": true,
    "slideshow": {
     "slide_type": ""
    },
    "tags": []
   },
   "source": [
    "### The New Features\n",
    "\n",
    "Let's print out our new features to see what was generated for us. You can see that featurize has kept three of the original features (\"displacement\", \"cylinders\", \"origin\") and has kept four of the features created via the Genetic Feature Synthesis."
   ]
  },
  {
   "cell_type": "code",
   "execution_count": null,
   "metadata": {
    "editable": true,
    "slideshow": {
     "slide_type": ""
    },
    "tags": []
   },
   "outputs": [],
   "source": [
    "features.head()"
   ]
  },
  {
   "cell_type": "code",
   "execution_count": null,
   "metadata": {},
   "outputs": [],
   "source": [
    "feature_info"
   ]
  },
  {
   "cell_type": "code",
   "execution_count": null,
   "metadata": {
    "editable": true,
    "slideshow": {
     "slide_type": ""
    },
    "tags": []
   },
   "outputs": [],
   "source": [
    "original = cost_function(X, y)\n",
    "original"
   ]
  },
  {
   "cell_type": "code",
   "execution_count": null,
   "metadata": {},
   "outputs": [],
   "source": [
    "new = cost_function(features, y)\n",
    "new"
   ]
  },
  {
   "cell_type": "code",
   "execution_count": null,
   "metadata": {},
   "outputs": [],
   "source": [
    "print(f\"Old: {original}, New: {new}, Improvement: {round((1 - (new / original))* 100, 1)}%\")"
   ]
  },
  {
   "cell_type": "code",
   "execution_count": null,
   "metadata": {},
   "outputs": [],
   "source": []
  },
  {
   "cell_type": "code",
   "execution_count": null,
   "metadata": {},
   "outputs": [],
   "source": []
  },
  {
   "cell_type": "raw",
   "metadata": {
    "editable": true,
    "raw_mimetype": "text/restructuredtext",
    "slideshow": {
     "slide_type": ""
    },
    "tags": []
   },
   "source": [
    ".. toctree::\n",
    "   :maxdepth: 1\n",
    "\n",
    "   install/index\n",
    "   getting_started/index\n",
    "   guides/index   \n",
    "\n",
    ".. toctree::\n",
    "   :maxdepth: 1\n",
    "   :caption: Resources & References\n",
    "\n",
    "   release_notes\n",
    "   api_reference"
   ]
  },
  {
   "cell_type": "raw",
   "metadata": {
    "editable": true,
    "raw_mimetype": "text/restructuredtext",
    "slideshow": {
     "slide_type": ""
    },
    "tags": []
   },
   "source": [
    "Other Links\n",
    "------------------\n",
    "\n",
    "* :ref:`genindex`\n",
    "* :ref:`search`"
   ]
  },
  {
   "cell_type": "code",
   "execution_count": null,
   "metadata": {},
   "outputs": [],
   "source": []
  }
 ],
 "metadata": {
  "kernelspec": {
   "display_name": "Python 3 (ipykernel)",
   "language": "python",
   "name": "python3"
  },
  "language_info": {
   "codemirror_mode": {
    "name": "ipython",
    "version": 3
   },
   "file_extension": ".py",
   "mimetype": "text/x-python",
   "name": "python",
   "nbconvert_exporter": "python",
   "pygments_lexer": "ipython3",
   "version": "3.11.6"
  }
 },
 "nbformat": 4,
 "nbformat_minor": 4
}
