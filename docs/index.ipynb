{
 "cells": [
  {
   "cell_type": "markdown",
   "metadata": {
    "editable": true,
    "slideshow": {
     "slide_type": ""
    },
    "tags": []
   },
   "source": [
    "# What is Featuristic?"
   ]
  },
  {
   "cell_type": "markdown",
   "metadata": {
    "editable": true,
    "slideshow": {
     "slide_type": ""
    },
    "tags": []
   },
   "source": [
    "![featurize_logo](_static/logo.png \"Featurize\")\n",
    "\n",
    "**Featuristic** uses Genetic Feature Synthesis to perform **automated feature engineering and feature selection** to optimise your machine learning models and improve their predictions."
   ]
  },
  {
   "cell_type": "markdown",
   "metadata": {
    "editable": true,
    "raw_mimetype": "",
    "slideshow": {
     "slide_type": ""
    },
    "tags": []
   },
   "source": [
    "## Quickstart"
   ]
  },
  {
   "cell_type": "markdown",
   "metadata": {
    "editable": true,
    "slideshow": {
     "slide_type": ""
    },
    "tags": []
   },
   "source": [
    "Below is a simple example of using Featuristic for carrying out automated feature engineering and feature selection on the well known *cars* dataset.\n",
    "\n",
    "Featuristic works in two steps:\n",
    "\n",
    "1. The first step is intelligently evolve new features via **Genetic Feature Synthesis**\n",
    "2. A **Genetic Feature Selection** algorithm then finds the optimal subset of features within the new feature space, with the aim of maximizing the predictive ability whilst minimizing the number of features required"
   ]
  },
  {
   "cell_type": "code",
   "execution_count": 1,
   "metadata": {
    "editable": true,
    "slideshow": {
     "slide_type": ""
    },
    "tags": []
   },
   "outputs": [],
   "source": [
    "from ucimlrepo import fetch_ucirepo \n",
    "from sklearn.linear_model import LinearRegression\n",
    "from sklearn.model_selection import cross_val_score\n",
    "import featuristic as ft\n",
    "import numpy as np\n",
    "\n",
    "np.random.seed(8888)"
   ]
  },
  {
   "cell_type": "markdown",
   "metadata": {
    "editable": true,
    "slideshow": {
     "slide_type": ""
    },
    "tags": []
   },
   "source": [
    "### Load the Data"
   ]
  },
  {
   "cell_type": "code",
   "execution_count": 2,
   "metadata": {
    "editable": true,
    "slideshow": {
     "slide_type": ""
    },
    "tags": []
   },
   "outputs": [],
   "source": [
    "auto_mpg = fetch_ucirepo(id=9) \n",
    "  \n",
    "X = auto_mpg.data.features \n",
    "y = auto_mpg.data.targets "
   ]
  },
  {
   "cell_type": "markdown",
   "metadata": {
    "editable": true,
    "slideshow": {
     "slide_type": ""
    },
    "tags": []
   },
   "source": [
    "### Prepare the Data\n",
    "\n",
    "The data has a few *null* values in, which we'll remove for simplicity."
   ]
  },
  {
   "cell_type": "code",
   "execution_count": 3,
   "metadata": {
    "editable": true,
    "slideshow": {
     "slide_type": ""
    },
    "tags": []
   },
   "outputs": [
    {
     "data": {
      "text/html": [
       "<div>\n",
       "<style scoped>\n",
       "    .dataframe tbody tr th:only-of-type {\n",
       "        vertical-align: middle;\n",
       "    }\n",
       "\n",
       "    .dataframe tbody tr th {\n",
       "        vertical-align: top;\n",
       "    }\n",
       "\n",
       "    .dataframe thead th {\n",
       "        text-align: right;\n",
       "    }\n",
       "</style>\n",
       "<table border=\"1\" class=\"dataframe\">\n",
       "  <thead>\n",
       "    <tr style=\"text-align: right;\">\n",
       "      <th></th>\n",
       "      <th>displacement</th>\n",
       "      <th>cylinders</th>\n",
       "      <th>horsepower</th>\n",
       "      <th>weight</th>\n",
       "      <th>acceleration</th>\n",
       "      <th>model_year</th>\n",
       "      <th>origin</th>\n",
       "    </tr>\n",
       "  </thead>\n",
       "  <tbody>\n",
       "    <tr>\n",
       "      <th>0</th>\n",
       "      <td>307.0</td>\n",
       "      <td>8</td>\n",
       "      <td>130.0</td>\n",
       "      <td>3504</td>\n",
       "      <td>12.0</td>\n",
       "      <td>70</td>\n",
       "      <td>1</td>\n",
       "    </tr>\n",
       "    <tr>\n",
       "      <th>1</th>\n",
       "      <td>350.0</td>\n",
       "      <td>8</td>\n",
       "      <td>165.0</td>\n",
       "      <td>3693</td>\n",
       "      <td>11.5</td>\n",
       "      <td>70</td>\n",
       "      <td>1</td>\n",
       "    </tr>\n",
       "    <tr>\n",
       "      <th>2</th>\n",
       "      <td>318.0</td>\n",
       "      <td>8</td>\n",
       "      <td>150.0</td>\n",
       "      <td>3436</td>\n",
       "      <td>11.0</td>\n",
       "      <td>70</td>\n",
       "      <td>1</td>\n",
       "    </tr>\n",
       "    <tr>\n",
       "      <th>3</th>\n",
       "      <td>304.0</td>\n",
       "      <td>8</td>\n",
       "      <td>150.0</td>\n",
       "      <td>3433</td>\n",
       "      <td>12.0</td>\n",
       "      <td>70</td>\n",
       "      <td>1</td>\n",
       "    </tr>\n",
       "    <tr>\n",
       "      <th>4</th>\n",
       "      <td>302.0</td>\n",
       "      <td>8</td>\n",
       "      <td>140.0</td>\n",
       "      <td>3449</td>\n",
       "      <td>10.5</td>\n",
       "      <td>70</td>\n",
       "      <td>1</td>\n",
       "    </tr>\n",
       "  </tbody>\n",
       "</table>\n",
       "</div>"
      ],
      "text/plain": [
       "   displacement  cylinders  horsepower  weight  acceleration  model_year  \\\n",
       "0         307.0          8       130.0    3504          12.0          70   \n",
       "1         350.0          8       165.0    3693          11.5          70   \n",
       "2         318.0          8       150.0    3436          11.0          70   \n",
       "3         304.0          8       150.0    3433          12.0          70   \n",
       "4         302.0          8       140.0    3449          10.5          70   \n",
       "\n",
       "   origin  \n",
       "0       1  \n",
       "1       1  \n",
       "2       1  \n",
       "3       1  \n",
       "4       1  "
      ]
     },
     "execution_count": 3,
     "metadata": {},
     "output_type": "execute_result"
    }
   ],
   "source": [
    "rows_with_nulls = X.isnull().sum(axis=1)\n",
    "X = X[rows_with_nulls == 0].reset_index(drop=True)\n",
    "y = y[rows_with_nulls == 0][\"mpg\"].reset_index(drop=True)\n",
    "  \n",
    "X.head()"
   ]
  },
  {
   "cell_type": "code",
   "execution_count": 4,
   "metadata": {
    "editable": true,
    "slideshow": {
     "slide_type": ""
    },
    "tags": []
   },
   "outputs": [
    {
     "data": {
      "text/plain": [
       "0    18.0\n",
       "1    15.0\n",
       "2    18.0\n",
       "3    16.0\n",
       "4    17.0\n",
       "Name: mpg, dtype: float64"
      ]
     },
     "execution_count": 4,
     "metadata": {},
     "output_type": "execute_result"
    }
   ],
   "source": [
    "y.head()"
   ]
  },
  {
   "cell_type": "markdown",
   "metadata": {
    "editable": true,
    "slideshow": {
     "slide_type": ""
    },
    "tags": []
   },
   "source": [
    "### Genetic Feature Synthesis\n",
    "\n",
    "Now we run the Genetic Feature Synthesis to evolve our new features. We've set the genetic algorithm to intelligently synthesise 10 new features for us, using a population comprising 100 individuals that are evolved over 50 generations. "
   ]
  },
  {
   "cell_type": "code",
   "execution_count": 6,
   "metadata": {},
   "outputs": [
    {
     "name": "stderr",
     "output_type": "stream",
     "text": [
      "Creating new features...:  68%|█████████████████████████████████████████████████████████                           | 34/50 [00:07<00:03,  4.26it/s]\n",
      "Pruning feature space...: 100%|███████████████████████████████████████████████████████████████████████████████████| 10/10 [00:00<00:00, 340.04it/s]\u001b[A\n",
      "Creating new features...:  68%|█████████████████████████████████████████████████████████                           | 34/50 [00:07<00:03,  4.28it/s]\n"
     ]
    },
    {
     "data": {
      "text/html": [
       "<div>\n",
       "<style scoped>\n",
       "    .dataframe tbody tr th:only-of-type {\n",
       "        vertical-align: middle;\n",
       "    }\n",
       "\n",
       "    .dataframe tbody tr th {\n",
       "        vertical-align: top;\n",
       "    }\n",
       "\n",
       "    .dataframe thead th {\n",
       "        text-align: right;\n",
       "    }\n",
       "</style>\n",
       "<table border=\"1\" class=\"dataframe\">\n",
       "  <thead>\n",
       "    <tr style=\"text-align: right;\">\n",
       "      <th></th>\n",
       "      <th>feature_9</th>\n",
       "      <th>feature_0</th>\n",
       "      <th>feature_10</th>\n",
       "      <th>feature_11</th>\n",
       "      <th>feature_1</th>\n",
       "      <th>feature_5</th>\n",
       "      <th>feature_6</th>\n",
       "      <th>feature_7</th>\n",
       "      <th>feature_8</th>\n",
       "      <th>feature_15</th>\n",
       "    </tr>\n",
       "  </thead>\n",
       "  <tbody>\n",
       "    <tr>\n",
       "      <th>0</th>\n",
       "      <td>10590.555697</td>\n",
       "      <td>607713.367291</td>\n",
       "      <td>10590.555697</td>\n",
       "      <td>10590.555697</td>\n",
       "      <td>607713.367291</td>\n",
       "      <td>612613.367291</td>\n",
       "      <td>612613.367291</td>\n",
       "      <td>612613.367291</td>\n",
       "      <td>612613.367291</td>\n",
       "      <td>617513.367291</td>\n",
       "    </tr>\n",
       "    <tr>\n",
       "      <th>1</th>\n",
       "      <td>4567.715181</td>\n",
       "      <td>253006.066337</td>\n",
       "      <td>4567.715181</td>\n",
       "      <td>4567.715181</td>\n",
       "      <td>253006.066337</td>\n",
       "      <td>257906.066337</td>\n",
       "      <td>257906.066337</td>\n",
       "      <td>257906.066337</td>\n",
       "      <td>257906.066337</td>\n",
       "      <td>262806.066337</td>\n",
       "    </tr>\n",
       "    <tr>\n",
       "      <th>2</th>\n",
       "      <td>10046.091888</td>\n",
       "      <td>681829.300749</td>\n",
       "      <td>10046.091888</td>\n",
       "      <td>10046.091888</td>\n",
       "      <td>681829.300749</td>\n",
       "      <td>686729.300749</td>\n",
       "      <td>686729.300749</td>\n",
       "      <td>686729.300749</td>\n",
       "      <td>686729.300749</td>\n",
       "      <td>691629.300749</td>\n",
       "    </tr>\n",
       "    <tr>\n",
       "      <th>3</th>\n",
       "      <td>10137.876699</td>\n",
       "      <td>734143.300749</td>\n",
       "      <td>10137.876699</td>\n",
       "      <td>10137.876699</td>\n",
       "      <td>734143.300749</td>\n",
       "      <td>739043.300749</td>\n",
       "      <td>739043.300749</td>\n",
       "      <td>739043.300749</td>\n",
       "      <td>739043.300749</td>\n",
       "      <td>743943.300749</td>\n",
       "    </tr>\n",
       "    <tr>\n",
       "      <th>4</th>\n",
       "      <td>10714.618422</td>\n",
       "      <td>713658.197814</td>\n",
       "      <td>10714.618422</td>\n",
       "      <td>10714.618422</td>\n",
       "      <td>713658.197814</td>\n",
       "      <td>718558.197814</td>\n",
       "      <td>718558.197814</td>\n",
       "      <td>718558.197814</td>\n",
       "      <td>718558.197814</td>\n",
       "      <td>723458.197814</td>\n",
       "    </tr>\n",
       "  </tbody>\n",
       "</table>\n",
       "</div>"
      ],
      "text/plain": [
       "      feature_9      feature_0    feature_10    feature_11      feature_1  \\\n",
       "0  10590.555697  607713.367291  10590.555697  10590.555697  607713.367291   \n",
       "1   4567.715181  253006.066337   4567.715181   4567.715181  253006.066337   \n",
       "2  10046.091888  681829.300749  10046.091888  10046.091888  681829.300749   \n",
       "3  10137.876699  734143.300749  10137.876699  10137.876699  734143.300749   \n",
       "4  10714.618422  713658.197814  10714.618422  10714.618422  713658.197814   \n",
       "\n",
       "       feature_5      feature_6      feature_7      feature_8     feature_15  \n",
       "0  612613.367291  612613.367291  612613.367291  612613.367291  617513.367291  \n",
       "1  257906.066337  257906.066337  257906.066337  257906.066337  262806.066337  \n",
       "2  686729.300749  686729.300749  686729.300749  686729.300749  691629.300749  \n",
       "3  739043.300749  739043.300749  739043.300749  739043.300749  743943.300749  \n",
       "4  718558.197814  718558.197814  718558.197814  718558.197814  723458.197814  "
      ]
     },
     "execution_count": 6,
     "metadata": {},
     "output_type": "execute_result"
    }
   ],
   "source": [
    "synth = ft.GeneticFeatureSynthesis(\n",
    "    num_features=10,\n",
    "    population_size=100,\n",
    "    crossover_proba=0.8,\n",
    "    max_generations=50,\n",
    "    parsimony_coefficient=0.02,\n",
    "    early_termination_iters=15,\n",
    "    n_jobs=-1,\n",
    ")\n",
    "\n",
    "X_new = synth.fit_transform(X, y)\n",
    "\n",
    "X_new.head()"
   ]
  },
  {
   "cell_type": "markdown",
   "metadata": {},
   "source": [
    "We've now created our new features, but what do they mean? Since Featuristic's features are synthesised by applying mathematical expressions to the data, we can look at how each new feature was created. Let's take a look at the formula for the first feature."
   ]
  },
  {
   "cell_type": "code",
   "execution_count": 15,
   "metadata": {},
   "outputs": [
    {
     "data": {
      "text/plain": [
       "'((((square(((acceleration - weight) + square(model_year))) + square(model_year)) / (cylinders + horsepower)) - (abs(displacement) + weight)) - cos(horsepower))'"
      ]
     },
     "execution_count": 15,
     "metadata": {},
     "output_type": "execute_result"
    }
   ],
   "source": [
    "info = synth.get_feature_info()\n",
    "info[\"prog\"].iloc[0]"
   ]
  },
  {
   "cell_type": "markdown",
   "metadata": {},
   "source": [
    "### Feature Selection"
   ]
  },
  {
   "cell_type": "markdown",
   "metadata": {
    "editable": true,
    "slideshow": {
     "slide_type": ""
    },
    "tags": []
   },
   "source": [
    "### Define the Cost Function\n",
    "\n",
    "We set up a custom cost finction that the Genetic Feature Selection algorithm uses to quantify how well the subset of features predicts the target. "
   ]
  },
  {
   "cell_type": "code",
   "execution_count": null,
   "metadata": {
    "editable": true,
    "slideshow": {
     "slide_type": ""
    },
    "tags": []
   },
   "outputs": [],
   "source": [
    "def cost_function(X, y):\n",
    "    model = LinearRegression()\n",
    "    scores = cross_val_score(model, X, y, cv=3, scoring=\"neg_mean_absolute_error\")\n",
    "    return scores.mean()"
   ]
  },
  {
   "cell_type": "code",
   "execution_count": null,
   "metadata": {
    "editable": true,
    "slideshow": {
     "slide_type": ""
    },
    "tags": []
   },
   "outputs": [],
   "source": [
    "features, feature_info = ft.featurize(\n",
    "    X,\n",
    "    y,\n",
    "    selection_cost_func=cost_function,\n",
    "    selection_bigger_is_better=True,\n",
    "    n_jobs=-1,\n",
    "    generate_parsimony_coefficient=0.025,\n",
    "    selection_early_termination_iters=35\n",
    ")"
   ]
  },
  {
   "cell_type": "markdown",
   "metadata": {
    "editable": true,
    "slideshow": {
     "slide_type": ""
    },
    "tags": []
   },
   "source": [
    "### The New Features\n",
    "\n",
    "Let's print out our new features to see what was generated for us. You can see that featurize has kept three of the original features (\"displacement\", \"cylinders\", \"origin\") and has kept four of the features created via the Genetic Feature Synthesis."
   ]
  },
  {
   "cell_type": "code",
   "execution_count": null,
   "metadata": {
    "editable": true,
    "slideshow": {
     "slide_type": ""
    },
    "tags": []
   },
   "outputs": [],
   "source": [
    "features.head()"
   ]
  },
  {
   "cell_type": "code",
   "execution_count": null,
   "metadata": {},
   "outputs": [],
   "source": [
    "feature_info"
   ]
  },
  {
   "cell_type": "code",
   "execution_count": null,
   "metadata": {
    "editable": true,
    "slideshow": {
     "slide_type": ""
    },
    "tags": []
   },
   "outputs": [],
   "source": [
    "original = cost_function(X, y)\n",
    "original"
   ]
  },
  {
   "cell_type": "code",
   "execution_count": null,
   "metadata": {},
   "outputs": [],
   "source": [
    "new = cost_function(features, y)\n",
    "new"
   ]
  },
  {
   "cell_type": "code",
   "execution_count": null,
   "metadata": {},
   "outputs": [],
   "source": [
    "print(f\"Old: {original}, New: {new}, Improvement: {round((1 - (new / original))* 100, 1)}%\")"
   ]
  },
  {
   "cell_type": "code",
   "execution_count": null,
   "metadata": {},
   "outputs": [],
   "source": []
  },
  {
   "cell_type": "code",
   "execution_count": null,
   "metadata": {},
   "outputs": [],
   "source": []
  },
  {
   "cell_type": "raw",
   "metadata": {
    "editable": true,
    "raw_mimetype": "text/restructuredtext",
    "slideshow": {
     "slide_type": ""
    },
    "tags": []
   },
   "source": [
    ".. toctree::\n",
    "   :maxdepth: 1\n",
    "\n",
    "   install/index\n",
    "   getting_started/index\n",
    "   examples   \n",
    "\n",
    ".. toctree::\n",
    "   :maxdepth: 1\n",
    "   :caption: Resources & References\n",
    "\n",
    "   release_notes\n",
    "   api_reference"
   ]
  },
  {
   "cell_type": "raw",
   "metadata": {
    "editable": true,
    "raw_mimetype": "text/restructuredtext",
    "slideshow": {
     "slide_type": ""
    },
    "tags": []
   },
   "source": [
    "Other Links\n",
    "------------------\n",
    "\n",
    "* :ref:`genindex`\n",
    "* :ref:`search`"
   ]
  },
  {
   "cell_type": "code",
   "execution_count": null,
   "metadata": {},
   "outputs": [],
   "source": []
  }
 ],
 "metadata": {
  "kernelspec": {
   "display_name": "Python 3 (ipykernel)",
   "language": "python",
   "name": "python3"
  },
  "language_info": {
   "codemirror_mode": {
    "name": "ipython",
    "version": 3
   },
   "file_extension": ".py",
   "mimetype": "text/x-python",
   "name": "python",
   "nbconvert_exporter": "python",
   "pygments_lexer": "ipython3",
   "version": "3.11.6"
  }
 },
 "nbformat": 4,
 "nbformat_minor": 4
}
