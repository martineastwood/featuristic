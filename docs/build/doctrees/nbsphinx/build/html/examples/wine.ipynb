{
 "cells": [
  {
   "cell_type": "code",
   "execution_count": 13,
   "id": "191ef836-f727-442f-b8de-9858412a0e92",
   "metadata": {},
   "outputs": [
    {
     "name": "stdout",
     "output_type": "stream",
     "text": [
      "1.0.0\n"
     ]
    }
   ],
   "source": [
    "from sklearn.neighbors import KNeighborsClassifier\n",
    "from sklearn.model_selection import train_test_split, cross_val_score\n",
    "from sklearn.metrics import f1_score\n",
    "import featuristic as ft\n",
    "import numpy as np\n",
    "\n",
    "np.random.seed(8888)\n",
    "\n",
    "print(ft.__version__)"
   ]
  },
  {
   "cell_type": "markdown",
   "id": "01860140-95f3-4975-b304-d39736b9ed60",
   "metadata": {},
   "source": [
    "### Load the Data"
   ]
  },
  {
   "cell_type": "code",
   "execution_count": 3,
   "id": "01653695-ffbe-4d65-9e76-09be97382932",
   "metadata": {},
   "outputs": [
    {
     "data": {
      "text/html": [
       "<div>\n",
       "<style scoped>\n",
       "    .dataframe tbody tr th:only-of-type {\n",
       "        vertical-align: middle;\n",
       "    }\n",
       "\n",
       "    .dataframe tbody tr th {\n",
       "        vertical-align: top;\n",
       "    }\n",
       "\n",
       "    .dataframe thead th {\n",
       "        text-align: right;\n",
       "    }\n",
       "</style>\n",
       "<table border=\"1\" class=\"dataframe\">\n",
       "  <thead>\n",
       "    <tr style=\"text-align: right;\">\n",
       "      <th></th>\n",
       "      <th>alcohol</th>\n",
       "      <th>malicacid</th>\n",
       "      <th>ash</th>\n",
       "      <th>alcalinity_of_ash</th>\n",
       "      <th>magnesium</th>\n",
       "      <th>total_phenols</th>\n",
       "      <th>flavanoids</th>\n",
       "      <th>nonflavanoid_phenols</th>\n",
       "      <th>proanthocyanins</th>\n",
       "      <th>color_intensity</th>\n",
       "      <th>hue</th>\n",
       "      <th>0d280_0d315_of_diluted_wines</th>\n",
       "      <th>proline</th>\n",
       "    </tr>\n",
       "  </thead>\n",
       "  <tbody>\n",
       "    <tr>\n",
       "      <th>0</th>\n",
       "      <td>14.23</td>\n",
       "      <td>1.71</td>\n",
       "      <td>2.43</td>\n",
       "      <td>15.6</td>\n",
       "      <td>127</td>\n",
       "      <td>2.80</td>\n",
       "      <td>3.06</td>\n",
       "      <td>0.28</td>\n",
       "      <td>2.29</td>\n",
       "      <td>5.64</td>\n",
       "      <td>1.04</td>\n",
       "      <td>3.92</td>\n",
       "      <td>1065</td>\n",
       "    </tr>\n",
       "    <tr>\n",
       "      <th>1</th>\n",
       "      <td>13.20</td>\n",
       "      <td>1.78</td>\n",
       "      <td>2.14</td>\n",
       "      <td>11.2</td>\n",
       "      <td>100</td>\n",
       "      <td>2.65</td>\n",
       "      <td>2.76</td>\n",
       "      <td>0.26</td>\n",
       "      <td>1.28</td>\n",
       "      <td>4.38</td>\n",
       "      <td>1.05</td>\n",
       "      <td>3.40</td>\n",
       "      <td>1050</td>\n",
       "    </tr>\n",
       "    <tr>\n",
       "      <th>2</th>\n",
       "      <td>13.16</td>\n",
       "      <td>2.36</td>\n",
       "      <td>2.67</td>\n",
       "      <td>18.6</td>\n",
       "      <td>101</td>\n",
       "      <td>2.80</td>\n",
       "      <td>3.24</td>\n",
       "      <td>0.30</td>\n",
       "      <td>2.81</td>\n",
       "      <td>5.68</td>\n",
       "      <td>1.03</td>\n",
       "      <td>3.17</td>\n",
       "      <td>1185</td>\n",
       "    </tr>\n",
       "    <tr>\n",
       "      <th>3</th>\n",
       "      <td>14.37</td>\n",
       "      <td>1.95</td>\n",
       "      <td>2.50</td>\n",
       "      <td>16.8</td>\n",
       "      <td>113</td>\n",
       "      <td>3.85</td>\n",
       "      <td>3.49</td>\n",
       "      <td>0.24</td>\n",
       "      <td>2.18</td>\n",
       "      <td>7.80</td>\n",
       "      <td>0.86</td>\n",
       "      <td>3.45</td>\n",
       "      <td>1480</td>\n",
       "    </tr>\n",
       "    <tr>\n",
       "      <th>4</th>\n",
       "      <td>13.24</td>\n",
       "      <td>2.59</td>\n",
       "      <td>2.87</td>\n",
       "      <td>21.0</td>\n",
       "      <td>118</td>\n",
       "      <td>2.80</td>\n",
       "      <td>2.69</td>\n",
       "      <td>0.39</td>\n",
       "      <td>1.82</td>\n",
       "      <td>4.32</td>\n",
       "      <td>1.04</td>\n",
       "      <td>2.93</td>\n",
       "      <td>735</td>\n",
       "    </tr>\n",
       "  </tbody>\n",
       "</table>\n",
       "</div>"
      ],
      "text/plain": [
       "   alcohol  malicacid   ash  alcalinity_of_ash  magnesium  total_phenols  \\\n",
       "0    14.23       1.71  2.43               15.6        127           2.80   \n",
       "1    13.20       1.78  2.14               11.2        100           2.65   \n",
       "2    13.16       2.36  2.67               18.6        101           2.80   \n",
       "3    14.37       1.95  2.50               16.8        113           3.85   \n",
       "4    13.24       2.59  2.87               21.0        118           2.80   \n",
       "\n",
       "   flavanoids  nonflavanoid_phenols  proanthocyanins  color_intensity   hue  \\\n",
       "0        3.06                  0.28             2.29             5.64  1.04   \n",
       "1        2.76                  0.26             1.28             4.38  1.05   \n",
       "2        3.24                  0.30             2.81             5.68  1.03   \n",
       "3        3.49                  0.24             2.18             7.80  0.86   \n",
       "4        2.69                  0.39             1.82             4.32  1.04   \n",
       "\n",
       "   0d280_0d315_of_diluted_wines  proline  \n",
       "0                          3.92     1065  \n",
       "1                          3.40     1050  \n",
       "2                          3.17     1185  \n",
       "3                          3.45     1480  \n",
       "4                          2.93      735  "
      ]
     },
     "execution_count": 3,
     "metadata": {},
     "output_type": "execute_result"
    }
   ],
   "source": [
    "X, y = ft.fetch_wine_dataset()\n",
    "\n",
    "X.head()"
   ]
  },
  {
   "cell_type": "code",
   "execution_count": 4,
   "id": "67d3f86f-9cd0-43e6-8ce4-f38f86dcf69c",
   "metadata": {},
   "outputs": [
    {
     "data": {
      "text/plain": [
       "0    1\n",
       "1    1\n",
       "2    1\n",
       "3    1\n",
       "4    1\n",
       "Name: class, dtype: int64"
      ]
     },
     "execution_count": 4,
     "metadata": {},
     "output_type": "execute_result"
    }
   ],
   "source": [
    "y.head()"
   ]
  },
  {
   "cell_type": "markdown",
   "id": "54e8c3ce-24a9-4384-8986-a3e1748d84e1",
   "metadata": {},
   "source": [
    "### Genetic Feature Synthesis"
   ]
  },
  {
   "cell_type": "code",
   "execution_count": 5,
   "id": "d386aa48-e8bd-459a-ae42-187432c34cbf",
   "metadata": {},
   "outputs": [
    {
     "name": "stderr",
     "output_type": "stream",
     "text": [
      "Creating new features...:  26%|████▏           | 26/100 [00:07<00:20,  3.55it/s]\n",
      "Pruning feature space...: 100%|██████████████████| 5/5 [00:00<00:00, 285.98it/s]\u001b[A\n",
      "Creating new features...:  26%|████▏           | 26/100 [00:07<00:21,  3.47it/s]\n"
     ]
    }
   ],
   "source": [
    "X_train, X_test, y_train, y_test = train_test_split(X, y, test_size=0.33)\n",
    "\n",
    "synth = ft.GeneticFeatureSynthesis(\n",
    "    num_features=5,\n",
    "    population_size=200,\n",
    "    max_generations=100,\n",
    "    early_termination_iters=25,\n",
    "    parsimony_coefficient=0.05,\n",
    "    n_jobs=1,\n",
    ")\n",
    "synth.fit(X_train, y_train)\n",
    "\n",
    "None"
   ]
  },
  {
   "cell_type": "markdown",
   "id": "3dc58193-99f3-44ba-943f-6490e99dc410",
   "metadata": {},
   "source": [
    "### View the Synthesised Features and Their Formulas"
   ]
  },
  {
   "cell_type": "code",
   "execution_count": 6,
   "id": "98a7e304-2d16-4288-b6d9-eb8a22eb022e",
   "metadata": {},
   "outputs": [
    {
     "data": {
      "text/html": [
       "<div>\n",
       "<style scoped>\n",
       "    .dataframe tbody tr th:only-of-type {\n",
       "        vertical-align: middle;\n",
       "    }\n",
       "\n",
       "    .dataframe tbody tr th {\n",
       "        vertical-align: top;\n",
       "    }\n",
       "\n",
       "    .dataframe thead th {\n",
       "        text-align: right;\n",
       "    }\n",
       "</style>\n",
       "<table border=\"1\" class=\"dataframe\">\n",
       "  <thead>\n",
       "    <tr style=\"text-align: right;\">\n",
       "      <th></th>\n",
       "      <th>alcohol</th>\n",
       "      <th>malicacid</th>\n",
       "      <th>ash</th>\n",
       "      <th>alcalinity_of_ash</th>\n",
       "      <th>magnesium</th>\n",
       "      <th>total_phenols</th>\n",
       "      <th>flavanoids</th>\n",
       "      <th>nonflavanoid_phenols</th>\n",
       "      <th>proanthocyanins</th>\n",
       "      <th>color_intensity</th>\n",
       "      <th>hue</th>\n",
       "      <th>0d280_0d315_of_diluted_wines</th>\n",
       "      <th>proline</th>\n",
       "      <th>feature_2</th>\n",
       "      <th>feature_3</th>\n",
       "      <th>feature_5</th>\n",
       "      <th>feature_6</th>\n",
       "      <th>feature_24</th>\n",
       "    </tr>\n",
       "  </thead>\n",
       "  <tbody>\n",
       "    <tr>\n",
       "      <th>0</th>\n",
       "      <td>12.17</td>\n",
       "      <td>1.45</td>\n",
       "      <td>2.53</td>\n",
       "      <td>19.0</td>\n",
       "      <td>104</td>\n",
       "      <td>1.89</td>\n",
       "      <td>1.75</td>\n",
       "      <td>0.45</td>\n",
       "      <td>1.03</td>\n",
       "      <td>2.95</td>\n",
       "      <td>1.45</td>\n",
       "      <td>2.23</td>\n",
       "      <td>355</td>\n",
       "      <td>1.750800</td>\n",
       "      <td>-1.628246</td>\n",
       "      <td>0.252142</td>\n",
       "      <td>0.213379</td>\n",
       "      <td>-5.748246</td>\n",
       "    </tr>\n",
       "    <tr>\n",
       "      <th>1</th>\n",
       "      <td>13.87</td>\n",
       "      <td>1.90</td>\n",
       "      <td>2.80</td>\n",
       "      <td>19.4</td>\n",
       "      <td>107</td>\n",
       "      <td>2.95</td>\n",
       "      <td>2.97</td>\n",
       "      <td>0.37</td>\n",
       "      <td>1.76</td>\n",
       "      <td>4.50</td>\n",
       "      <td>1.25</td>\n",
       "      <td>3.40</td>\n",
       "      <td>915</td>\n",
       "      <td>3.768658</td>\n",
       "      <td>-2.235314</td>\n",
       "      <td>0.016909</td>\n",
       "      <td>0.016827</td>\n",
       "      <td>-8.585314</td>\n",
       "    </tr>\n",
       "    <tr>\n",
       "      <th>2</th>\n",
       "      <td>12.51</td>\n",
       "      <td>1.73</td>\n",
       "      <td>1.98</td>\n",
       "      <td>20.5</td>\n",
       "      <td>85</td>\n",
       "      <td>2.20</td>\n",
       "      <td>1.92</td>\n",
       "      <td>0.32</td>\n",
       "      <td>1.48</td>\n",
       "      <td>2.94</td>\n",
       "      <td>1.04</td>\n",
       "      <td>3.57</td>\n",
       "      <td>672</td>\n",
       "      <td>2.654381</td>\n",
       "      <td>-1.382150</td>\n",
       "      <td>0.137086</td>\n",
       "      <td>0.117786</td>\n",
       "      <td>-7.152150</td>\n",
       "    </tr>\n",
       "    <tr>\n",
       "      <th>3</th>\n",
       "      <td>13.88</td>\n",
       "      <td>1.89</td>\n",
       "      <td>2.59</td>\n",
       "      <td>15.0</td>\n",
       "      <td>101</td>\n",
       "      <td>3.25</td>\n",
       "      <td>3.56</td>\n",
       "      <td>0.17</td>\n",
       "      <td>1.70</td>\n",
       "      <td>5.43</td>\n",
       "      <td>0.88</td>\n",
       "      <td>3.56</td>\n",
       "      <td>1095</td>\n",
       "      <td>3.809972</td>\n",
       "      <td>-1.793737</td>\n",
       "      <td>-0.032059</td>\n",
       "      <td>-0.031184</td>\n",
       "      <td>-8.603737</td>\n",
       "    </tr>\n",
       "    <tr>\n",
       "      <th>4</th>\n",
       "      <td>13.40</td>\n",
       "      <td>3.91</td>\n",
       "      <td>2.48</td>\n",
       "      <td>23.0</td>\n",
       "      <td>102</td>\n",
       "      <td>1.80</td>\n",
       "      <td>0.75</td>\n",
       "      <td>0.43</td>\n",
       "      <td>1.41</td>\n",
       "      <td>7.30</td>\n",
       "      <td>0.70</td>\n",
       "      <td>1.56</td>\n",
       "      <td>750</td>\n",
       "      <td>0.788039</td>\n",
       "      <td>0.031689</td>\n",
       "      <td>0.582597</td>\n",
       "      <td>0.538518</td>\n",
       "      <td>-3.328311</td>\n",
       "    </tr>\n",
       "  </tbody>\n",
       "</table>\n",
       "</div>"
      ],
      "text/plain": [
       "   alcohol  malicacid   ash  alcalinity_of_ash  magnesium  total_phenols  \\\n",
       "0    12.17       1.45  2.53               19.0        104           1.89   \n",
       "1    13.87       1.90  2.80               19.4        107           2.95   \n",
       "2    12.51       1.73  1.98               20.5         85           2.20   \n",
       "3    13.88       1.89  2.59               15.0        101           3.25   \n",
       "4    13.40       3.91  2.48               23.0        102           1.80   \n",
       "\n",
       "   flavanoids  nonflavanoid_phenols  proanthocyanins  color_intensity   hue  \\\n",
       "0        1.75                  0.45             1.03             2.95  1.45   \n",
       "1        2.97                  0.37             1.76             4.50  1.25   \n",
       "2        1.92                  0.32             1.48             2.94  1.04   \n",
       "3        3.56                  0.17             1.70             5.43  0.88   \n",
       "4        0.75                  0.43             1.41             7.30  0.70   \n",
       "\n",
       "   0d280_0d315_of_diluted_wines  proline  feature_2  feature_3  feature_5  \\\n",
       "0                          2.23      355   1.750800  -1.628246   0.252142   \n",
       "1                          3.40      915   3.768658  -2.235314   0.016909   \n",
       "2                          3.57      672   2.654381  -1.382150   0.137086   \n",
       "3                          3.56     1095   3.809972  -1.793737  -0.032059   \n",
       "4                          1.56      750   0.788039   0.031689   0.582597   \n",
       "\n",
       "   feature_6  feature_24  \n",
       "0   0.213379   -5.748246  \n",
       "1   0.016827   -8.585314  \n",
       "2   0.117786   -7.152150  \n",
       "3  -0.031184   -8.603737  \n",
       "4   0.538518   -3.328311  "
      ]
     },
     "execution_count": 6,
     "metadata": {},
     "output_type": "execute_result"
    }
   ],
   "source": [
    "generated_features = synth.transform(X_train)\n",
    "\n",
    "generated_features.head()"
   ]
  },
  {
   "cell_type": "code",
   "execution_count": 7,
   "id": "141197ac-0545-415e-b93c-f284c6369be4",
   "metadata": {},
   "outputs": [
    {
     "data": {
      "text/html": [
       "<div>\n",
       "<style scoped>\n",
       "    .dataframe tbody tr th:only-of-type {\n",
       "        vertical-align: middle;\n",
       "    }\n",
       "\n",
       "    .dataframe tbody tr th {\n",
       "        vertical-align: top;\n",
       "    }\n",
       "\n",
       "    .dataframe thead th {\n",
       "        text-align: right;\n",
       "    }\n",
       "</style>\n",
       "<table border=\"1\" class=\"dataframe\">\n",
       "  <thead>\n",
       "    <tr style=\"text-align: right;\">\n",
       "      <th></th>\n",
       "      <th>name</th>\n",
       "      <th>formula</th>\n",
       "      <th>fitness</th>\n",
       "    </tr>\n",
       "  </thead>\n",
       "  <tbody>\n",
       "    <tr>\n",
       "      <th>0</th>\n",
       "      <td>feature_2</td>\n",
       "      <td>(cube(sin(cube(hue))) + flavanoids)</td>\n",
       "      <td>-0.839823</td>\n",
       "    </tr>\n",
       "    <tr>\n",
       "      <th>1</th>\n",
       "      <td>feature_3</td>\n",
       "      <td>-(-((cos(abs(-(flavanoids))) - hue)))</td>\n",
       "      <td>-0.837422</td>\n",
       "    </tr>\n",
       "    <tr>\n",
       "      <th>2</th>\n",
       "      <td>feature_5</td>\n",
       "      <td>(sin(abs(abs(-(flavanoids)))) / (flavanoids + ...</td>\n",
       "      <td>-0.820897</td>\n",
       "    </tr>\n",
       "    <tr>\n",
       "      <th>3</th>\n",
       "      <td>feature_6</td>\n",
       "      <td>(sin(sin(abs(abs(abs(-(flavanoids)))))) / (fla...</td>\n",
       "      <td>-0.820330</td>\n",
       "    </tr>\n",
       "    <tr>\n",
       "      <th>4</th>\n",
       "      <td>feature_24</td>\n",
       "      <td>(((cos(abs(-(flavanoids))) - 0d280_0d315_of_di...</td>\n",
       "      <td>-0.806440</td>\n",
       "    </tr>\n",
       "  </tbody>\n",
       "</table>\n",
       "</div>"
      ],
      "text/plain": [
       "         name                                            formula   fitness\n",
       "0   feature_2                (cube(sin(cube(hue))) + flavanoids) -0.839823\n",
       "1   feature_3              -(-((cos(abs(-(flavanoids))) - hue))) -0.837422\n",
       "2   feature_5  (sin(abs(abs(-(flavanoids)))) / (flavanoids + ... -0.820897\n",
       "3   feature_6  (sin(sin(abs(abs(abs(-(flavanoids)))))) / (fla... -0.820330\n",
       "4  feature_24  (((cos(abs(-(flavanoids))) - 0d280_0d315_of_di... -0.806440"
      ]
     },
     "execution_count": 7,
     "metadata": {},
     "output_type": "execute_result"
    }
   ],
   "source": [
    "info = synth.get_feature_info()\n",
    "info"
   ]
  },
  {
   "cell_type": "markdown",
   "id": "49f862d2-64d5-4bfb-b72f-49f5686dc750",
   "metadata": {},
   "source": [
    "### Feature Selection"
   ]
  },
  {
   "cell_type": "code",
   "execution_count": 8,
   "id": "592def8e-f256-4c5e-a234-c731c41d047c",
   "metadata": {},
   "outputs": [],
   "source": [
    "def objective_function(X, y):\n",
    "    model = KNeighborsClassifier()\n",
    "    scores = cross_val_score(model, X, y, cv=3, scoring=\"f1_weighted\")\n",
    "    return scores.mean() * -1"
   ]
  },
  {
   "cell_type": "code",
   "execution_count": 11,
   "id": "106f30b9-a268-406e-b416-b8804d3ce506",
   "metadata": {},
   "outputs": [
    {
     "name": "stderr",
     "output_type": "stream",
     "text": [
      "Optimising feature selection...:  33%|██▉      | 33/100 [00:14<00:29,  2.23it/s]\n"
     ]
    }
   ],
   "source": [
    "selector = ft.GeneticFeatureSelector(\n",
    "    objective_function,\n",
    "    population_size=200,\n",
    "    max_generations=100,\n",
    "    early_termination_iters=25,\n",
    "    n_jobs=-1,\n",
    ")\n",
    "\n",
    "selector.fit(generated_features, y_train)\n",
    "\n",
    "selected_features = selector.transform(generated_features)"
   ]
  },
  {
   "cell_type": "markdown",
   "id": "b9f8284b-ef97-4b71-a3bf-38df295259b1",
   "metadata": {},
   "source": [
    "### View the Selected Features"
   ]
  },
  {
   "cell_type": "code",
   "execution_count": 12,
   "id": "87b65a1c-eef8-4812-940c-c9fef4f06be4",
   "metadata": {},
   "outputs": [
    {
     "data": {
      "text/html": [
       "<div>\n",
       "<style scoped>\n",
       "    .dataframe tbody tr th:only-of-type {\n",
       "        vertical-align: middle;\n",
       "    }\n",
       "\n",
       "    .dataframe tbody tr th {\n",
       "        vertical-align: top;\n",
       "    }\n",
       "\n",
       "    .dataframe thead th {\n",
       "        text-align: right;\n",
       "    }\n",
       "</style>\n",
       "<table border=\"1\" class=\"dataframe\">\n",
       "  <thead>\n",
       "    <tr style=\"text-align: right;\">\n",
       "      <th></th>\n",
       "      <th>alcohol</th>\n",
       "      <th>malicacid</th>\n",
       "      <th>alcalinity_of_ash</th>\n",
       "      <th>total_phenols</th>\n",
       "      <th>proanthocyanins</th>\n",
       "      <th>hue</th>\n",
       "      <th>0d280_0d315_of_diluted_wines</th>\n",
       "      <th>feature_3</th>\n",
       "      <th>feature_6</th>\n",
       "      <th>feature_24</th>\n",
       "    </tr>\n",
       "  </thead>\n",
       "  <tbody>\n",
       "    <tr>\n",
       "      <th>0</th>\n",
       "      <td>12.17</td>\n",
       "      <td>1.45</td>\n",
       "      <td>19.0</td>\n",
       "      <td>1.89</td>\n",
       "      <td>1.03</td>\n",
       "      <td>1.45</td>\n",
       "      <td>2.23</td>\n",
       "      <td>-1.628246</td>\n",
       "      <td>0.213379</td>\n",
       "      <td>-5.748246</td>\n",
       "    </tr>\n",
       "    <tr>\n",
       "      <th>1</th>\n",
       "      <td>13.87</td>\n",
       "      <td>1.90</td>\n",
       "      <td>19.4</td>\n",
       "      <td>2.95</td>\n",
       "      <td>1.76</td>\n",
       "      <td>1.25</td>\n",
       "      <td>3.40</td>\n",
       "      <td>-2.235314</td>\n",
       "      <td>0.016827</td>\n",
       "      <td>-8.585314</td>\n",
       "    </tr>\n",
       "    <tr>\n",
       "      <th>2</th>\n",
       "      <td>12.51</td>\n",
       "      <td>1.73</td>\n",
       "      <td>20.5</td>\n",
       "      <td>2.20</td>\n",
       "      <td>1.48</td>\n",
       "      <td>1.04</td>\n",
       "      <td>3.57</td>\n",
       "      <td>-1.382150</td>\n",
       "      <td>0.117786</td>\n",
       "      <td>-7.152150</td>\n",
       "    </tr>\n",
       "    <tr>\n",
       "      <th>3</th>\n",
       "      <td>13.88</td>\n",
       "      <td>1.89</td>\n",
       "      <td>15.0</td>\n",
       "      <td>3.25</td>\n",
       "      <td>1.70</td>\n",
       "      <td>0.88</td>\n",
       "      <td>3.56</td>\n",
       "      <td>-1.793737</td>\n",
       "      <td>-0.031184</td>\n",
       "      <td>-8.603737</td>\n",
       "    </tr>\n",
       "    <tr>\n",
       "      <th>4</th>\n",
       "      <td>13.40</td>\n",
       "      <td>3.91</td>\n",
       "      <td>23.0</td>\n",
       "      <td>1.80</td>\n",
       "      <td>1.41</td>\n",
       "      <td>0.70</td>\n",
       "      <td>1.56</td>\n",
       "      <td>0.031689</td>\n",
       "      <td>0.538518</td>\n",
       "      <td>-3.328311</td>\n",
       "    </tr>\n",
       "  </tbody>\n",
       "</table>\n",
       "</div>"
      ],
      "text/plain": [
       "   alcohol  malicacid  alcalinity_of_ash  total_phenols  proanthocyanins  \\\n",
       "0    12.17       1.45               19.0           1.89             1.03   \n",
       "1    13.87       1.90               19.4           2.95             1.76   \n",
       "2    12.51       1.73               20.5           2.20             1.48   \n",
       "3    13.88       1.89               15.0           3.25             1.70   \n",
       "4    13.40       3.91               23.0           1.80             1.41   \n",
       "\n",
       "    hue  0d280_0d315_of_diluted_wines  feature_3  feature_6  feature_24  \n",
       "0  1.45                          2.23  -1.628246   0.213379   -5.748246  \n",
       "1  1.25                          3.40  -2.235314   0.016827   -8.585314  \n",
       "2  1.04                          3.57  -1.382150   0.117786   -7.152150  \n",
       "3  0.88                          3.56  -1.793737  -0.031184   -8.603737  \n",
       "4  0.70                          1.56   0.031689   0.538518   -3.328311  "
      ]
     },
     "execution_count": 12,
     "metadata": {},
     "output_type": "execute_result"
    }
   ],
   "source": [
    "selected_features.head()"
   ]
  },
  {
   "cell_type": "markdown",
   "id": "8bb86d6d-32bb-4173-8b3d-ecdcbee931d0",
   "metadata": {},
   "source": [
    "### Compare New Features to Original Features"
   ]
  },
  {
   "cell_type": "code",
   "execution_count": 21,
   "id": "0947e3ae-a543-40b0-ba1d-ffc03e9165bf",
   "metadata": {},
   "outputs": [
    {
     "data": {
      "text/plain": [
       "0.7013084602631234"
      ]
     },
     "execution_count": 21,
     "metadata": {},
     "output_type": "execute_result"
    }
   ],
   "source": [
    "model = KNeighborsClassifier()\n",
    "model.fit(X_train, y_train)\n",
    "preds = model.predict(X_test)\n",
    "original_f1 = f1_score(y_test, preds, average=\"weighted\")\n",
    "original_f1"
   ]
  },
  {
   "cell_type": "code",
   "execution_count": 22,
   "id": "eb747ae1-21f0-419e-bfa3-d39fee8bf46c",
   "metadata": {},
   "outputs": [
    {
     "data": {
      "text/plain": [
       "0.9494992598914508"
      ]
     },
     "execution_count": 22,
     "metadata": {},
     "output_type": "execute_result"
    }
   ],
   "source": [
    "model = KNeighborsClassifier()\n",
    "model.fit(selected_features, y_train)\n",
    "test_features = selector.transform(synth.transform(X_test))\n",
    "preds = model.predict(test_features)\n",
    "featuristic_f1 = f1_score(y_test, preds, average=\"weighted\")\n",
    "featuristic_f1"
   ]
  },
  {
   "cell_type": "code",
   "execution_count": 51,
   "id": "a8e4df3f-e389-42c8-8f10-bb3df039875f",
   "metadata": {},
   "outputs": [
    {
     "name": "stdout",
     "output_type": "stream",
     "text": [
      "Original F1: 0.7013084602631234\n",
      "Featuristic F1: 0.9494992598914508\n",
      "Improvement: 35.4%\n"
     ]
    }
   ],
   "source": [
    "print(f\"Original F1: {original_f1}\")\n",
    "print(f\"Featuristic F1: {featuristic_f1}\")\n",
    "print(f\"Improvement: {round(((featuristic_f1 / original_f1) - 1) * 100, 1)}%\")"
   ]
  },
  {
   "cell_type": "markdown",
   "id": "9ab7af33-c470-45cf-9877-d27c02010126",
   "metadata": {},
   "source": [
    "### View the History of the Genetic Algorithms"
   ]
  },
  {
   "cell_type": "code",
   "execution_count": 25,
   "id": "1c9fdc39-5165-488e-aeb7-00f10d99573b",
   "metadata": {},
   "outputs": [
    {
     "data": {
      "image/png": "[encoded data removed]",
      "text/plain": [
       "<Figure size 640x480 with 1 Axes>"
      ]
     },
     "metadata": {},
     "output_type": "display_data"
    }
   ],
   "source": [
    "synth.plot_history()"
   ]
  },
  {
   "cell_type": "code",
   "execution_count": 26,
   "id": "3203f164-a838-4bfe-b0e3-662a8981ed9a",
   "metadata": {},
   "outputs": [
    {
     "data": {
      "image/png": "[encoded data removed]",
      "text/plain": [
       "<Figure size 640x480 with 1 Axes>"
      ]
     },
     "metadata": {},
     "output_type": "display_data"
    }
   ],
   "source": [
    "selector.plot_history()"
   ]
  },
  {
   "cell_type": "code",
   "execution_count": null,
   "id": "7d4b52ae-9b48-40cd-a5bf-9435d0c93dec",
   "metadata": {},
   "outputs": [],
   "source": [
    "z"
   ]
  }
 ],
 "metadata": {
  "kernelspec": {
   "display_name": "Python 3 (ipykernel)",
   "language": "python",
   "name": "python3"
  },
  "language_info": {
   "codemirror_mode": {
    "name": "ipython",
    "version": 3
   },
   "file_extension": ".py",
   "mimetype": "text/x-python",
   "name": "python",
   "nbconvert_exporter": "python",
   "pygments_lexer": "ipython3",
   "version": "3.11.6"
  }
 },
 "nbformat": 4,
 "nbformat_minor": 5
}
