{
 "cells": [
  {
   "cell_type": "code",
   "execution_count": 1,
   "id": "0b9fc719-7054-42ca-8d5d-f238342f48f9",
   "metadata": {},
   "outputs": [
    {
     "name": "stdout",
     "output_type": "stream",
     "text": [
      "1.0.0\n"
     ]
    }
   ],
   "source": [
    "from sklearn.linear_model import LinearRegression\n",
    "from sklearn.model_selection import train_test_split, cross_val_score\n",
    "from sklearn.metrics import mean_absolute_error\n",
    "import featuristic as ft\n",
    "import numpy as np\n",
    "\n",
    "np.random.seed(8888)\n",
    "\n",
    "print(ft.__version__)"
   ]
  },
  {
   "cell_type": "markdown",
   "id": "0d063e5a-a1c5-49c7-9688-72ff0833de5d",
   "metadata": {},
   "source": [
    "### Load the Data"
   ]
  },
  {
   "cell_type": "code",
   "execution_count": 2,
   "id": "90379d23-7cfc-4341-8fed-1d963b98c619",
   "metadata": {},
   "outputs": [
    {
     "data": {
      "text/html": [
       "<div>\n",
       "<style scoped>\n",
       "    .dataframe tbody tr th:only-of-type {\n",
       "        vertical-align: middle;\n",
       "    }\n",
       "\n",
       "    .dataframe tbody tr th {\n",
       "        vertical-align: top;\n",
       "    }\n",
       "\n",
       "    .dataframe thead th {\n",
       "        text-align: right;\n",
       "    }\n",
       "</style>\n",
       "<table border=\"1\" class=\"dataframe\">\n",
       "  <thead>\n",
       "    <tr style=\"text-align: right;\">\n",
       "      <th></th>\n",
       "      <th>displacement</th>\n",
       "      <th>cylinders</th>\n",
       "      <th>horsepower</th>\n",
       "      <th>weight</th>\n",
       "      <th>acceleration</th>\n",
       "      <th>model_year</th>\n",
       "      <th>origin</th>\n",
       "    </tr>\n",
       "  </thead>\n",
       "  <tbody>\n",
       "    <tr>\n",
       "      <th>0</th>\n",
       "      <td>307.0</td>\n",
       "      <td>8</td>\n",
       "      <td>130.0</td>\n",
       "      <td>3504</td>\n",
       "      <td>12.0</td>\n",
       "      <td>70</td>\n",
       "      <td>1</td>\n",
       "    </tr>\n",
       "    <tr>\n",
       "      <th>1</th>\n",
       "      <td>350.0</td>\n",
       "      <td>8</td>\n",
       "      <td>165.0</td>\n",
       "      <td>3693</td>\n",
       "      <td>11.5</td>\n",
       "      <td>70</td>\n",
       "      <td>1</td>\n",
       "    </tr>\n",
       "    <tr>\n",
       "      <th>2</th>\n",
       "      <td>318.0</td>\n",
       "      <td>8</td>\n",
       "      <td>150.0</td>\n",
       "      <td>3436</td>\n",
       "      <td>11.0</td>\n",
       "      <td>70</td>\n",
       "      <td>1</td>\n",
       "    </tr>\n",
       "    <tr>\n",
       "      <th>3</th>\n",
       "      <td>304.0</td>\n",
       "      <td>8</td>\n",
       "      <td>150.0</td>\n",
       "      <td>3433</td>\n",
       "      <td>12.0</td>\n",
       "      <td>70</td>\n",
       "      <td>1</td>\n",
       "    </tr>\n",
       "    <tr>\n",
       "      <th>4</th>\n",
       "      <td>302.0</td>\n",
       "      <td>8</td>\n",
       "      <td>140.0</td>\n",
       "      <td>3449</td>\n",
       "      <td>10.5</td>\n",
       "      <td>70</td>\n",
       "      <td>1</td>\n",
       "    </tr>\n",
       "  </tbody>\n",
       "</table>\n",
       "</div>"
      ],
      "text/plain": [
       "   displacement  cylinders  horsepower  weight  acceleration  model_year  \\\n",
       "0         307.0          8       130.0    3504          12.0          70   \n",
       "1         350.0          8       165.0    3693          11.5          70   \n",
       "2         318.0          8       150.0    3436          11.0          70   \n",
       "3         304.0          8       150.0    3433          12.0          70   \n",
       "4         302.0          8       140.0    3449          10.5          70   \n",
       "\n",
       "   origin  \n",
       "0       1  \n",
       "1       1  \n",
       "2       1  \n",
       "3       1  \n",
       "4       1  "
      ]
     },
     "execution_count": 2,
     "metadata": {},
     "output_type": "execute_result"
    }
   ],
   "source": [
    "X, y = ft.fetch_cars_dataset()\n",
    "\n",
    "X.head()"
   ]
  },
  {
   "cell_type": "code",
   "execution_count": 3,
   "id": "517ae106-acf4-40f8-bfbc-ac644cb17a7f",
   "metadata": {},
   "outputs": [
    {
     "data": {
      "text/plain": [
       "0    18.0\n",
       "1    15.0\n",
       "2    18.0\n",
       "3    16.0\n",
       "4    17.0\n",
       "Name: mpg, dtype: float64"
      ]
     },
     "execution_count": 3,
     "metadata": {},
     "output_type": "execute_result"
    }
   ],
   "source": [
    "y.head()"
   ]
  },
  {
   "cell_type": "markdown",
   "id": "d286ad66-3121-416d-9218-bb592af4c6bd",
   "metadata": {},
   "source": [
    "### Genetic Feature Synthesis"
   ]
  },
  {
   "cell_type": "code",
   "execution_count": 4,
   "id": "69031e48-b17d-4ac5-b8b4-129f744a78bc",
   "metadata": {},
   "outputs": [
    {
     "name": "stderr",
     "output_type": "stream",
     "text": [
      "Creating new features...:  27%|████▎           | 27/100 [00:11<00:26,  2.72it/s]\n",
      "Pruning feature space...: 100%|██████████████████| 5/5 [00:00<00:00, 522.97it/s]\u001b[A\n",
      "Creating new features...:  27%|████▎           | 27/100 [00:12<00:33,  2.20it/s]\n"
     ]
    }
   ],
   "source": [
    "X_train, X_test, y_train, y_test = train_test_split(X, y, test_size=0.33)\n",
    "\n",
    "synth = ft.GeneticFeatureSynthesis(\n",
    "    num_features=5,\n",
    "    population_size=200,\n",
    "    max_generations=100,\n",
    "    early_termination_iters=25,\n",
    "    parsimony_coefficient=0.025,\n",
    "    n_jobs=-1,\n",
    ")\n",
    "synth.fit(X_train, y_train)\n",
    "\n",
    "None"
   ]
  },
  {
   "cell_type": "markdown",
   "id": "bb080664-70ff-4254-9f03-1e94b1142b83",
   "metadata": {},
   "source": [
    "### View the Synthesised Features and Their Formulas"
   ]
  },
  {
   "cell_type": "code",
   "execution_count": 5,
   "id": "7615c24a-c2e1-4d4a-8800-47163b550d3b",
   "metadata": {},
   "outputs": [
    {
     "data": {
      "text/html": [
       "<div>\n",
       "<style scoped>\n",
       "    .dataframe tbody tr th:only-of-type {\n",
       "        vertical-align: middle;\n",
       "    }\n",
       "\n",
       "    .dataframe tbody tr th {\n",
       "        vertical-align: top;\n",
       "    }\n",
       "\n",
       "    .dataframe thead th {\n",
       "        text-align: right;\n",
       "    }\n",
       "</style>\n",
       "<table border=\"1\" class=\"dataframe\">\n",
       "  <thead>\n",
       "    <tr style=\"text-align: right;\">\n",
       "      <th></th>\n",
       "      <th>displacement</th>\n",
       "      <th>cylinders</th>\n",
       "      <th>horsepower</th>\n",
       "      <th>weight</th>\n",
       "      <th>acceleration</th>\n",
       "      <th>model_year</th>\n",
       "      <th>origin</th>\n",
       "      <th>feature_0</th>\n",
       "      <th>feature_1</th>\n",
       "      <th>feature_3</th>\n",
       "      <th>feature_2</th>\n",
       "      <th>feature_4</th>\n",
       "    </tr>\n",
       "  </thead>\n",
       "  <tbody>\n",
       "    <tr>\n",
       "      <th>0</th>\n",
       "      <td>89.0</td>\n",
       "      <td>4</td>\n",
       "      <td>62.0</td>\n",
       "      <td>2050</td>\n",
       "      <td>17.3</td>\n",
       "      <td>81</td>\n",
       "      <td>3</td>\n",
       "      <td>0.673279</td>\n",
       "      <td>-0.009878</td>\n",
       "      <td>0.566434</td>\n",
       "      <td>-0.917052</td>\n",
       "      <td>0.536626</td>\n",
       "    </tr>\n",
       "    <tr>\n",
       "      <th>1</th>\n",
       "      <td>318.0</td>\n",
       "      <td>8</td>\n",
       "      <td>150.0</td>\n",
       "      <td>4077</td>\n",
       "      <td>14.0</td>\n",
       "      <td>72</td>\n",
       "      <td>1</td>\n",
       "      <td>0.133744</td>\n",
       "      <td>-0.002208</td>\n",
       "      <td>0.324324</td>\n",
       "      <td>-0.226914</td>\n",
       "      <td>0.318668</td>\n",
       "    </tr>\n",
       "    <tr>\n",
       "      <th>2</th>\n",
       "      <td>383.0</td>\n",
       "      <td>8</td>\n",
       "      <td>170.0</td>\n",
       "      <td>3563</td>\n",
       "      <td>10.0</td>\n",
       "      <td>70</td>\n",
       "      <td>1</td>\n",
       "      <td>0.144654</td>\n",
       "      <td>-0.002456</td>\n",
       "      <td>0.291667</td>\n",
       "      <td>-0.183216</td>\n",
       "      <td>0.287549</td>\n",
       "    </tr>\n",
       "    <tr>\n",
       "      <th>3</th>\n",
       "      <td>260.0</td>\n",
       "      <td>8</td>\n",
       "      <td>110.0</td>\n",
       "      <td>4060</td>\n",
       "      <td>19.0</td>\n",
       "      <td>77</td>\n",
       "      <td>1</td>\n",
       "      <td>0.153605</td>\n",
       "      <td>-0.002371</td>\n",
       "      <td>0.411765</td>\n",
       "      <td>-0.295020</td>\n",
       "      <td>0.400227</td>\n",
       "    </tr>\n",
       "    <tr>\n",
       "      <th>4</th>\n",
       "      <td>318.0</td>\n",
       "      <td>8</td>\n",
       "      <td>140.0</td>\n",
       "      <td>4080</td>\n",
       "      <td>13.7</td>\n",
       "      <td>78</td>\n",
       "      <td>1</td>\n",
       "      <td>0.156848</td>\n",
       "      <td>-0.002390</td>\n",
       "      <td>0.357798</td>\n",
       "      <td>-0.245131</td>\n",
       "      <td>0.350213</td>\n",
       "    </tr>\n",
       "  </tbody>\n",
       "</table>\n",
       "</div>"
      ],
      "text/plain": [
       "   displacement  cylinders  horsepower  weight  acceleration  model_year  \\\n",
       "0          89.0          4        62.0    2050          17.3          81   \n",
       "1         318.0          8       150.0    4077          14.0          72   \n",
       "2         383.0          8       170.0    3563          10.0          70   \n",
       "3         260.0          8       110.0    4060          19.0          77   \n",
       "4         318.0          8       140.0    4080          13.7          78   \n",
       "\n",
       "   origin  feature_0  feature_1  feature_3  feature_2  feature_4  \n",
       "0       3   0.673279  -0.009878   0.566434  -0.917052   0.536626  \n",
       "1       1   0.133744  -0.002208   0.324324  -0.226914   0.318668  \n",
       "2       1   0.144654  -0.002456   0.291667  -0.183216   0.287549  \n",
       "3       1   0.153605  -0.002371   0.411765  -0.295020   0.400227  \n",
       "4       1   0.156848  -0.002390   0.357798  -0.245131   0.350213  "
      ]
     },
     "execution_count": 5,
     "metadata": {},
     "output_type": "execute_result"
    }
   ],
   "source": [
    "generated_features = synth.transform(X_train)\n",
    "\n",
    "generated_features.head()"
   ]
  },
  {
   "cell_type": "code",
   "execution_count": 6,
   "id": "a5467d93-bb7d-4876-ae28-d67fc7c1e218",
   "metadata": {},
   "outputs": [
    {
     "data": {
      "text/html": [
       "<div>\n",
       "<style scoped>\n",
       "    .dataframe tbody tr th:only-of-type {\n",
       "        vertical-align: middle;\n",
       "    }\n",
       "\n",
       "    .dataframe tbody tr th {\n",
       "        vertical-align: top;\n",
       "    }\n",
       "\n",
       "    .dataframe thead th {\n",
       "        text-align: right;\n",
       "    }\n",
       "</style>\n",
       "<table border=\"1\" class=\"dataframe\">\n",
       "  <thead>\n",
       "    <tr style=\"text-align: right;\">\n",
       "      <th></th>\n",
       "      <th>name</th>\n",
       "      <th>formula</th>\n",
       "      <th>fitness</th>\n",
       "    </tr>\n",
       "  </thead>\n",
       "  <tbody>\n",
       "    <tr>\n",
       "      <th>0</th>\n",
       "      <td>feature_0</td>\n",
       "      <td>(-(((model_year / (weight + cylinders)) + sin(...</td>\n",
       "      <td>-0.861120</td>\n",
       "    </tr>\n",
       "    <tr>\n",
       "      <th>1</th>\n",
       "      <td>feature_1</td>\n",
       "      <td>-((model_year / (weight + cylinders)))</td>\n",
       "      <td>-0.855109</td>\n",
       "    </tr>\n",
       "    <tr>\n",
       "      <th>2</th>\n",
       "      <td>feature_3</td>\n",
       "      <td>abs(abs(-(-((model_year / (model_year + horsep...</td>\n",
       "      <td>-0.829949</td>\n",
       "    </tr>\n",
       "    <tr>\n",
       "      <th>3</th>\n",
       "      <td>feature_2</td>\n",
       "      <td>(-(model_year) / (displacement - cos(horsepowe...</td>\n",
       "      <td>-0.831506</td>\n",
       "    </tr>\n",
       "    <tr>\n",
       "      <th>4</th>\n",
       "      <td>feature_4</td>\n",
       "      <td>sin(abs((model_year / (model_year + horsepower...</td>\n",
       "      <td>-0.827386</td>\n",
       "    </tr>\n",
       "  </tbody>\n",
       "</table>\n",
       "</div>"
      ],
      "text/plain": [
       "        name                                            formula   fitness\n",
       "0  feature_0  (-(((model_year / (weight + cylinders)) + sin(... -0.861120\n",
       "1  feature_1             -((model_year / (weight + cylinders))) -0.855109\n",
       "2  feature_3  abs(abs(-(-((model_year / (model_year + horsep... -0.829949\n",
       "3  feature_2  (-(model_year) / (displacement - cos(horsepowe... -0.831506\n",
       "4  feature_4  sin(abs((model_year / (model_year + horsepower... -0.827386"
      ]
     },
     "execution_count": 6,
     "metadata": {},
     "output_type": "execute_result"
    }
   ],
   "source": [
    "info = synth.get_feature_info()\n",
    "info"
   ]
  },
  {
   "cell_type": "markdown",
   "id": "62ea59d7-f817-479b-8348-2fa6cb03cd56",
   "metadata": {},
   "source": [
    "### Feature Selection"
   ]
  },
  {
   "cell_type": "code",
   "execution_count": 15,
   "id": "39cdb6dd-ed18-4d73-808b-a540721117a6",
   "metadata": {},
   "outputs": [],
   "source": [
    "def objective_function(X, y):\n",
    "    model = LinearRegression()\n",
    "    scores = cross_val_score(model, X, y, cv=3, scoring=\"neg_mean_absolute_error\")\n",
    "    return scores.mean() * -1"
   ]
  },
  {
   "cell_type": "code",
   "execution_count": 8,
   "id": "490f5ea4-c165-46f2-982c-bf4416d1ecf5",
   "metadata": {},
   "outputs": [
    {
     "name": "stderr",
     "output_type": "stream",
     "text": [
      "Optimising feature selection...:  28%|██▌      | 28/100 [00:05<00:13,  5.22it/s]\n"
     ]
    }
   ],
   "source": [
    "selector = ft.GeneticFeatureSelector(\n",
    "    objective_function,\n",
    "    population_size=200,\n",
    "    max_generations=100,\n",
    "    early_termination_iters=25,\n",
    "    n_jobs=-1,\n",
    ")\n",
    "\n",
    "selector.fit(generated_features, y_train)\n",
    "\n",
    "selected_features = selector.transform(generated_features)"
   ]
  },
  {
   "cell_type": "markdown",
   "id": "b31ab5f3-10ce-45e9-a356-eb96712b91ba",
   "metadata": {},
   "source": [
    "### View the Selected Features"
   ]
  },
  {
   "cell_type": "code",
   "execution_count": 9,
   "id": "7f5e29d0-76b5-496f-8fc8-200f2086d331",
   "metadata": {},
   "outputs": [
    {
     "data": {
      "text/html": [
       "<div>\n",
       "<style scoped>\n",
       "    .dataframe tbody tr th:only-of-type {\n",
       "        vertical-align: middle;\n",
       "    }\n",
       "\n",
       "    .dataframe tbody tr th {\n",
       "        vertical-align: top;\n",
       "    }\n",
       "\n",
       "    .dataframe thead th {\n",
       "        text-align: right;\n",
       "    }\n",
       "</style>\n",
       "<table border=\"1\" class=\"dataframe\">\n",
       "  <thead>\n",
       "    <tr style=\"text-align: right;\">\n",
       "      <th></th>\n",
       "      <th>displacement</th>\n",
       "      <th>horsepower</th>\n",
       "      <th>weight</th>\n",
       "      <th>origin</th>\n",
       "      <th>feature_0</th>\n",
       "      <th>feature_1</th>\n",
       "      <th>feature_3</th>\n",
       "      <th>feature_2</th>\n",
       "    </tr>\n",
       "  </thead>\n",
       "  <tbody>\n",
       "    <tr>\n",
       "      <th>0</th>\n",
       "      <td>89.0</td>\n",
       "      <td>62.0</td>\n",
       "      <td>2050</td>\n",
       "      <td>3</td>\n",
       "      <td>0.673279</td>\n",
       "      <td>-0.009878</td>\n",
       "      <td>0.566434</td>\n",
       "      <td>-0.917052</td>\n",
       "    </tr>\n",
       "    <tr>\n",
       "      <th>1</th>\n",
       "      <td>318.0</td>\n",
       "      <td>150.0</td>\n",
       "      <td>4077</td>\n",
       "      <td>1</td>\n",
       "      <td>0.133744</td>\n",
       "      <td>-0.002208</td>\n",
       "      <td>0.324324</td>\n",
       "      <td>-0.226914</td>\n",
       "    </tr>\n",
       "    <tr>\n",
       "      <th>2</th>\n",
       "      <td>383.0</td>\n",
       "      <td>170.0</td>\n",
       "      <td>3563</td>\n",
       "      <td>1</td>\n",
       "      <td>0.144654</td>\n",
       "      <td>-0.002456</td>\n",
       "      <td>0.291667</td>\n",
       "      <td>-0.183216</td>\n",
       "    </tr>\n",
       "    <tr>\n",
       "      <th>3</th>\n",
       "      <td>260.0</td>\n",
       "      <td>110.0</td>\n",
       "      <td>4060</td>\n",
       "      <td>1</td>\n",
       "      <td>0.153605</td>\n",
       "      <td>-0.002371</td>\n",
       "      <td>0.411765</td>\n",
       "      <td>-0.295020</td>\n",
       "    </tr>\n",
       "    <tr>\n",
       "      <th>4</th>\n",
       "      <td>318.0</td>\n",
       "      <td>140.0</td>\n",
       "      <td>4080</td>\n",
       "      <td>1</td>\n",
       "      <td>0.156848</td>\n",
       "      <td>-0.002390</td>\n",
       "      <td>0.357798</td>\n",
       "      <td>-0.245131</td>\n",
       "    </tr>\n",
       "  </tbody>\n",
       "</table>\n",
       "</div>"
      ],
      "text/plain": [
       "   displacement  horsepower  weight  origin  feature_0  feature_1  feature_3  \\\n",
       "0          89.0        62.0    2050       3   0.673279  -0.009878   0.566434   \n",
       "1         318.0       150.0    4077       1   0.133744  -0.002208   0.324324   \n",
       "2         383.0       170.0    3563       1   0.144654  -0.002456   0.291667   \n",
       "3         260.0       110.0    4060       1   0.153605  -0.002371   0.411765   \n",
       "4         318.0       140.0    4080       1   0.156848  -0.002390   0.357798   \n",
       "\n",
       "   feature_2  \n",
       "0  -0.917052  \n",
       "1  -0.226914  \n",
       "2  -0.183216  \n",
       "3  -0.295020  \n",
       "4  -0.245131  "
      ]
     },
     "execution_count": 9,
     "metadata": {},
     "output_type": "execute_result"
    }
   ],
   "source": [
    "selected_features.head()"
   ]
  },
  {
   "cell_type": "markdown",
   "id": "912b63c6-4cc3-4298-baf8-b2649f9088dd",
   "metadata": {},
   "source": [
    "### Compare New Features to Original Features"
   ]
  },
  {
   "cell_type": "code",
   "execution_count": 10,
   "id": "8372e11a-1d39-44ce-ae51-afe4c223f34e",
   "metadata": {},
   "outputs": [
    {
     "data": {
      "text/plain": [
       "2.5888868138669303"
      ]
     },
     "execution_count": 10,
     "metadata": {},
     "output_type": "execute_result"
    }
   ],
   "source": [
    "model = LinearRegression()\n",
    "model.fit(X_train, y_train)\n",
    "preds = model.predict(X_test)\n",
    "original_mae = mean_absolute_error(y_test, preds)\n",
    "original_mae"
   ]
  },
  {
   "cell_type": "code",
   "execution_count": 11,
   "id": "b3e9d678-f3fe-40f0-a083-b2d6f6260b01",
   "metadata": {},
   "outputs": [
    {
     "data": {
      "text/plain": [
       "2.1729482398016042"
      ]
     },
     "execution_count": 11,
     "metadata": {},
     "output_type": "execute_result"
    }
   ],
   "source": [
    "model = LinearRegression()\n",
    "model.fit(selected_features, y_train)\n",
    "test_features = selector.transform(synth.transform(X_test))\n",
    "preds = model.predict(test_features)\n",
    "featuristic_mae = mean_absolute_error(y_test, preds)\n",
    "featuristic_mae"
   ]
  },
  {
   "cell_type": "code",
   "execution_count": 12,
   "id": "cd9df3ee-f998-463a-be64-6998747fd564",
   "metadata": {},
   "outputs": [
    {
     "name": "stdout",
     "output_type": "stream",
     "text": [
      "Original MAE: 2.5888868138669303\n",
      "Featuristic MAE: 2.1729482398016042\n",
      "Improvement: 16.1%\n"
     ]
    }
   ],
   "source": [
    "print(f\"Original MAE: {original_mae}\")\n",
    "print(f\"Featuristic MAE: {featuristic_mae}\")\n",
    "print(f\"Improvement: {round((1 - (featuristic_mae / original_mae))* 100, 1)}%\")"
   ]
  },
  {
   "cell_type": "markdown",
   "id": "022d7356-2d48-4def-8d9d-8907d7823c61",
   "metadata": {},
   "source": [
    "### View the History of the Genetic Algorithms"
   ]
  },
  {
   "cell_type": "code",
   "execution_count": 13,
   "id": "4cad03bd-000d-43c5-8151-2302fd9554c8",
   "metadata": {},
   "outputs": [
    {
     "data": {
      "image/png": "[encoded data removed]",
      "text/plain": [
       "<Figure size 640x480 with 1 Axes>"
      ]
     },
     "metadata": {},
     "output_type": "display_data"
    }
   ],
   "source": [
    "synth.plot_history()"
   ]
  },
  {
   "cell_type": "code",
   "execution_count": 14,
   "id": "a5c8b5dc-6313-4625-b03f-492931fba810",
   "metadata": {},
   "outputs": [
    {
     "data": {
      "image/png": "[encoded data removed]",
      "text/plain": [
       "<Figure size 640x480 with 1 Axes>"
      ]
     },
     "metadata": {},
     "output_type": "display_data"
    }
   ],
   "source": [
    "selector.plot_history()"
   ]
  }
 ],
 "metadata": {
  "kernelspec": {
   "display_name": "Python 3 (ipykernel)",
   "language": "python",
   "name": "python3"
  },
  "language_info": {
   "codemirror_mode": {
    "name": "ipython",
    "version": 3
   },
   "file_extension": ".py",
   "mimetype": "text/x-python",
   "name": "python",
   "nbconvert_exporter": "python",
   "pygments_lexer": "ipython3",
   "version": "3.11.6"
  }
 },
 "nbformat": 4,
 "nbformat_minor": 5
}
