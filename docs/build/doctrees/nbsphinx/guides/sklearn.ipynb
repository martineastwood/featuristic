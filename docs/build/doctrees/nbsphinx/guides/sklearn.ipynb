{
 "cells": [
  {
   "cell_type": "markdown",
   "id": "eb5834d3-94b4-468d-803e-0b008c10ac29",
   "metadata": {},
   "source": [
    "# Using Featuristic With scikit-learn Pipelines\n",
    "\n",
    "Featuristic is compatible with scikit-learn's powerful `Pipeline` class. This functionality allows you to organize and apply a sequence of data processing steps effortlessly within scikit-learn. With the `Pipeline`, you can chain together various transformers provided by Featuristic or other scikit-learn-compatible libraries. \n",
    "\n",
    "These transformers can include feature generation, feature selection, data scaling, and any other preprocessing steps required to prepare your data for modeling.\n",
    "\n",
    "By leveraging the `Pipeline` class in conjunction with Featuristic, you can streamline your data preprocessing workflow, ensuring consistency and reproducibility. This allows you to construct complex data processing pipelines with ease, and combine Featuristic with model development.\n",
    "\n",
    "Let's take a look at a very example using the `cars` dataset."
   ]
  },
  {
   "cell_type": "code",
   "execution_count": 1,
   "id": "bb06d8de-d1e2-4ad0-b386-3c287589a09d",
   "metadata": {},
   "outputs": [
    {
     "name": "stdout",
     "output_type": "stream",
     "text": [
      "1.0.1\n"
     ]
    }
   ],
   "source": [
    "from sklearn.linear_model import LinearRegression\n",
    "from sklearn.model_selection import cross_val_score, train_test_split\n",
    "from sklearn.pipeline import Pipeline\n",
    "import featuristic as ft\n",
    "import numpy as np\n",
    "\n",
    "np.random.seed(8888)\n",
    "\n",
    "print(ft.__version__)"
   ]
  },
  {
   "cell_type": "markdown",
   "id": "2cad1914-1776-485b-b1a6-5dc3c78ce993",
   "metadata": {},
   "source": [
    "### Load the Data"
   ]
  },
  {
   "cell_type": "code",
   "execution_count": 2,
   "id": "e8ddeb97-7128-4bc8-a265-d62bbde070cc",
   "metadata": {},
   "outputs": [
    {
     "data": {
      "text/html": [
       "<div>\n",
       "<style scoped>\n",
       "    .dataframe tbody tr th:only-of-type {\n",
       "        vertical-align: middle;\n",
       "    }\n",
       "\n",
       "    .dataframe tbody tr th {\n",
       "        vertical-align: top;\n",
       "    }\n",
       "\n",
       "    .dataframe thead th {\n",
       "        text-align: right;\n",
       "    }\n",
       "</style>\n",
       "<table border=\"1\" class=\"dataframe\">\n",
       "  <thead>\n",
       "    <tr style=\"text-align: right;\">\n",
       "      <th></th>\n",
       "      <th>displacement</th>\n",
       "      <th>cylinders</th>\n",
       "      <th>horsepower</th>\n",
       "      <th>weight</th>\n",
       "      <th>acceleration</th>\n",
       "      <th>model_year</th>\n",
       "      <th>origin</th>\n",
       "    </tr>\n",
       "  </thead>\n",
       "  <tbody>\n",
       "    <tr>\n",
       "      <th>0</th>\n",
       "      <td>307.0</td>\n",
       "      <td>8</td>\n",
       "      <td>130.0</td>\n",
       "      <td>3504</td>\n",
       "      <td>12.0</td>\n",
       "      <td>70</td>\n",
       "      <td>1</td>\n",
       "    </tr>\n",
       "    <tr>\n",
       "      <th>1</th>\n",
       "      <td>350.0</td>\n",
       "      <td>8</td>\n",
       "      <td>165.0</td>\n",
       "      <td>3693</td>\n",
       "      <td>11.5</td>\n",
       "      <td>70</td>\n",
       "      <td>1</td>\n",
       "    </tr>\n",
       "    <tr>\n",
       "      <th>2</th>\n",
       "      <td>318.0</td>\n",
       "      <td>8</td>\n",
       "      <td>150.0</td>\n",
       "      <td>3436</td>\n",
       "      <td>11.0</td>\n",
       "      <td>70</td>\n",
       "      <td>1</td>\n",
       "    </tr>\n",
       "    <tr>\n",
       "      <th>3</th>\n",
       "      <td>304.0</td>\n",
       "      <td>8</td>\n",
       "      <td>150.0</td>\n",
       "      <td>3433</td>\n",
       "      <td>12.0</td>\n",
       "      <td>70</td>\n",
       "      <td>1</td>\n",
       "    </tr>\n",
       "    <tr>\n",
       "      <th>4</th>\n",
       "      <td>302.0</td>\n",
       "      <td>8</td>\n",
       "      <td>140.0</td>\n",
       "      <td>3449</td>\n",
       "      <td>10.5</td>\n",
       "      <td>70</td>\n",
       "      <td>1</td>\n",
       "    </tr>\n",
       "  </tbody>\n",
       "</table>\n",
       "</div>"
      ],
      "text/plain": [
       "   displacement  cylinders  horsepower  weight  acceleration  model_year  \\\n",
       "0         307.0          8       130.0    3504          12.0          70   \n",
       "1         350.0          8       165.0    3693          11.5          70   \n",
       "2         318.0          8       150.0    3436          11.0          70   \n",
       "3         304.0          8       150.0    3433          12.0          70   \n",
       "4         302.0          8       140.0    3449          10.5          70   \n",
       "\n",
       "   origin  \n",
       "0       1  \n",
       "1       1  \n",
       "2       1  \n",
       "3       1  \n",
       "4       1  "
      ]
     },
     "execution_count": 2,
     "metadata": {},
     "output_type": "execute_result"
    }
   ],
   "source": [
    "X, y = ft.fetch_cars_dataset()\n",
    "\n",
    "X.head()"
   ]
  },
  {
   "cell_type": "code",
   "execution_count": 3,
   "id": "c1cf8c11-05a1-4e35-aee5-459607855ac1",
   "metadata": {},
   "outputs": [
    {
     "data": {
      "text/plain": [
       "0    18.0\n",
       "1    15.0\n",
       "2    18.0\n",
       "3    16.0\n",
       "4    17.0\n",
       "Name: mpg, dtype: float64"
      ]
     },
     "execution_count": 3,
     "metadata": {},
     "output_type": "execute_result"
    }
   ],
   "source": [
    "y.head()"
   ]
  },
  {
   "cell_type": "markdown",
   "id": "1e31d83a-5ed1-4e38-bc5a-663609f142fe",
   "metadata": {},
   "source": [
    "### Split the Data in Train and Test"
   ]
  },
  {
   "cell_type": "code",
   "execution_count": 4,
   "id": "8b4eeb07-c15f-407f-99d6-de7c82c028da",
   "metadata": {},
   "outputs": [],
   "source": [
    "X_train, X_test, y_train, y_test = train_test_split(X, y, test_size=0.3)"
   ]
  },
  {
   "cell_type": "markdown",
   "id": "d33849ff-567d-41aa-a97a-f0431bb14839",
   "metadata": {},
   "source": [
    "### Objective Function\n",
    "\n",
    "We define a custom objective function to pass into the Genetic Feature Selection algorithm. The output of this will be minimized to find the optimal subset of features."
   ]
  },
  {
   "cell_type": "code",
   "execution_count": 5,
   "id": "6704f5e5-9d26-4be6-8ef4-5d2df3068bf0",
   "metadata": {},
   "outputs": [],
   "source": [
    "def objective(X, y):\n",
    "    model = LinearRegression()\n",
    "    scores = cross_val_score(model, X, y, cv=3, scoring=\"neg_mean_absolute_error\")\n",
    "    return -scores.mean()"
   ]
  },
  {
   "cell_type": "markdown",
   "id": "add0e65f-8b04-4799-afd4-4947a293a772",
   "metadata": {},
   "source": [
    "### Fit a scikit-learn Pipeline Containing Featuristic"
   ]
  },
  {
   "cell_type": "code",
   "execution_count": 6,
   "id": "8846e305-9321-4387-b1bf-a4fe94b11428",
   "metadata": {},
   "outputs": [
    {
     "name": "stderr",
     "output_type": "stream",
     "text": [
      "Creating new features...:  74%|███████████▊    | 74/100 [00:15<00:05,  4.75it/s]\n",
      "Pruning feature space...: 100%|██████████████████| 5/5 [00:00<00:00, 498.46it/s]\u001b[A\n",
      "Creating new features...:  74%|███████████▊    | 74/100 [00:15<00:05,  4.74it/s]\n",
      "Optimising feature selection...:  52%|█████▏    | 26/50 [00:05<00:05,  4.39it/s]\n"
     ]
    }
   ],
   "source": [
    "pipe = Pipeline(\n",
    "    steps=[\n",
    "        (\n",
    "            \"genetic_feature_synthesis\",\n",
    "            ft.GeneticFeatureSynthesis(\n",
    "            num_features=5,\n",
    "            population_size=200,\n",
    "            max_generations=100,\n",
    "            early_termination_iters=25,\n",
    "            parsimony_coefficient=0.035,\n",
    "            n_jobs=1,\n",
    "            ),\n",
    "        ),\n",
    "        (\n",
    "            \"genetic_feature_selector\",\n",
    "            ft.GeneticFeatureSelector(\n",
    "                objective,\n",
    "                population_size=200,\n",
    "                max_generations=50,\n",
    "                early_termination_iters=25,\n",
    "                n_jobs=-1,\n",
    "            ),\n",
    "        ),\n",
    "        (\n",
    "            \"model\",\n",
    "            LinearRegression()\n",
    "        )\n",
    "    ]\n",
    ")\n",
    "\n",
    "model = pipe.fit(X_train, y_train)"
   ]
  },
  {
   "cell_type": "code",
   "execution_count": 7,
   "id": "ba1ced6a-4c28-455e-8729-4a42cb08bc55",
   "metadata": {},
   "outputs": [
    {
     "data": {
      "text/plain": [
       "array([13.23930437, 35.40219719, 27.26035025, 26.25423477, 28.24773002,\n",
       "       19.10148319, 36.15024042, 23.33185658, 31.19121816, 22.29169501])"
      ]
     },
     "execution_count": 7,
     "metadata": {},
     "output_type": "execute_result"
    }
   ],
   "source": [
    "preds = model.predict(X_test)\n",
    "\n",
    "preds[:10]"
   ]
  },
  {
   "cell_type": "markdown",
   "id": "946e4317-dc65-471c-8019-7b12444227a5",
   "metadata": {},
   "source": [
    "## Accessing Featuristic Inside the Pipeline\n",
    "\n",
    "We can still access the individual Featuristic steps via the pipeline's `named_steps` functionality. For example, to look at the formulas used for the feature engineering or to plot the genetic algorithm's history."
   ]
  },
  {
   "cell_type": "code",
   "execution_count": 8,
   "id": "0661e5aa-2efb-4fd7-9624-15314c5a21a4",
   "metadata": {},
   "outputs": [
    {
     "data": {
      "text/html": [
       "<div>\n",
       "<style scoped>\n",
       "    .dataframe tbody tr th:only-of-type {\n",
       "        vertical-align: middle;\n",
       "    }\n",
       "\n",
       "    .dataframe tbody tr th {\n",
       "        vertical-align: top;\n",
       "    }\n",
       "\n",
       "    .dataframe thead th {\n",
       "        text-align: right;\n",
       "    }\n",
       "</style>\n",
       "<table border=\"1\" class=\"dataframe\">\n",
       "  <thead>\n",
       "    <tr style=\"text-align: right;\">\n",
       "      <th></th>\n",
       "      <th>name</th>\n",
       "      <th>formula</th>\n",
       "      <th>fitness</th>\n",
       "    </tr>\n",
       "  </thead>\n",
       "  <tbody>\n",
       "    <tr>\n",
       "      <th>0</th>\n",
       "      <td>feature_1</td>\n",
       "      <td>abs(abs(abs((abs(abs(abs(abs(abs(abs(abs(abs(a...</td>\n",
       "      <td>-0.874683</td>\n",
       "    </tr>\n",
       "    <tr>\n",
       "      <th>1</th>\n",
       "      <td>feature_8</td>\n",
       "      <td>abs(abs(((cos(((abs(horsepower) / weight) - (s...</td>\n",
       "      <td>-0.847227</td>\n",
       "    </tr>\n",
       "    <tr>\n",
       "      <th>2</th>\n",
       "      <td>feature_4</td>\n",
       "      <td>abs(abs((abs(abs(abs(abs(abs(abs(abs(abs(abs(a...</td>\n",
       "      <td>-0.860441</td>\n",
       "    </tr>\n",
       "    <tr>\n",
       "      <th>3</th>\n",
       "      <td>feature_5</td>\n",
       "      <td>abs(abs(abs(abs(abs((((cube(horsepower) / (cub...</td>\n",
       "      <td>-0.852704</td>\n",
       "    </tr>\n",
       "    <tr>\n",
       "      <th>4</th>\n",
       "      <td>feature_0</td>\n",
       "      <td>abs(abs((model_year / abs(weight))))</td>\n",
       "      <td>-0.880479</td>\n",
       "    </tr>\n",
       "  </tbody>\n",
       "</table>\n",
       "</div>"
      ],
      "text/plain": [
       "        name                                            formula   fitness\n",
       "0  feature_1  abs(abs(abs((abs(abs(abs(abs(abs(abs(abs(abs(a... -0.874683\n",
       "1  feature_8  abs(abs(((cos(((abs(horsepower) / weight) - (s... -0.847227\n",
       "2  feature_4  abs(abs((abs(abs(abs(abs(abs(abs(abs(abs(abs(a... -0.860441\n",
       "3  feature_5  abs(abs(abs(abs(abs((((cube(horsepower) / (cub... -0.852704\n",
       "4  feature_0               abs(abs((model_year / abs(weight)))) -0.880479"
      ]
     },
     "execution_count": 8,
     "metadata": {},
     "output_type": "execute_result"
    }
   ],
   "source": [
    "gfs = pipe.named_steps[\"genetic_feature_synthesis\"]\n",
    "\n",
    "gfs.get_feature_info().head()"
   ]
  },
  {
   "cell_type": "code",
   "execution_count": 9,
   "id": "4234ae88-ae78-46e6-bc81-e7e7e0933f2a",
   "metadata": {},
   "outputs": [
    {
     "data": {
      "image/png": "[encoded data removed]",
      "text/plain": [
       "<Figure size 640x480 with 1 Axes>"
      ]
     },
     "metadata": {},
     "output_type": "display_data"
    }
   ],
   "source": [
    "gfs.plot_history()"
   ]
  }
 ],
 "metadata": {
  "kernelspec": {
   "display_name": "Python 3 (ipykernel)",
   "language": "python",
   "name": "python3"
  },
  "language_info": {
   "codemirror_mode": {
    "name": "ipython",
    "version": 3
   },
   "file_extension": ".py",
   "mimetype": "text/x-python",
   "name": "python",
   "nbconvert_exporter": "python",
   "pygments_lexer": "ipython3",
   "version": "3.11.6"
  }
 },
 "nbformat": 4,
 "nbformat_minor": 5
}
