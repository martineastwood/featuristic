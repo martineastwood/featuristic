{
 "cells": [
  {
   "cell_type": "markdown",
   "id": "23507ff4-3e03-40a2-a40e-9c14ea834013",
   "metadata": {},
   "source": [
    "# Example Using the `cars` Dataset"
   ]
  },
  {
   "cell_type": "code",
   "execution_count": 1,
   "id": "d061341b-287f-47b8-a7dc-b736fd68284c",
   "metadata": {},
   "outputs": [
    {
     "name": "stdout",
     "output_type": "stream",
     "text": [
      "1.0.1\n"
     ]
    }
   ],
   "source": [
    "from sklearn.neighbors import KNeighborsClassifier\n",
    "from sklearn.model_selection import train_test_split, cross_val_score\n",
    "from sklearn.metrics import f1_score\n",
    "import featuristic as ft\n",
    "import numpy as np\n",
    "\n",
    "np.random.seed(8888)\n",
    "\n",
    "print(ft.__version__)"
   ]
  },
  {
   "cell_type": "code",
   "execution_count": 2,
   "id": "0b9fc719-7054-42ca-8d5d-f238342f48f9",
   "metadata": {},
   "outputs": [
    {
     "name": "stdout",
     "output_type": "stream",
     "text": [
      "1.0.1\n"
     ]
    }
   ],
   "source": [
    "from sklearn.linear_model import LinearRegression\n",
    "from sklearn.model_selection import train_test_split, cross_val_score\n",
    "from sklearn.metrics import mean_absolute_error\n",
    "import featuristic as ft\n",
    "import numpy as np\n",
    "\n",
    "np.random.seed(8888)\n",
    "\n",
    "print(ft.__version__)"
   ]
  },
  {
   "cell_type": "markdown",
   "id": "0d063e5a-a1c5-49c7-9688-72ff0833de5d",
   "metadata": {},
   "source": [
    "### Load the Data"
   ]
  },
  {
   "cell_type": "code",
   "execution_count": 3,
   "id": "90379d23-7cfc-4341-8fed-1d963b98c619",
   "metadata": {},
   "outputs": [
    {
     "data": {
      "text/html": [
       "<div>\n",
       "<style scoped>\n",
       "    .dataframe tbody tr th:only-of-type {\n",
       "        vertical-align: middle;\n",
       "    }\n",
       "\n",
       "    .dataframe tbody tr th {\n",
       "        vertical-align: top;\n",
       "    }\n",
       "\n",
       "    .dataframe thead th {\n",
       "        text-align: right;\n",
       "    }\n",
       "</style>\n",
       "<table border=\"1\" class=\"dataframe\">\n",
       "  <thead>\n",
       "    <tr style=\"text-align: right;\">\n",
       "      <th></th>\n",
       "      <th>displacement</th>\n",
       "      <th>cylinders</th>\n",
       "      <th>horsepower</th>\n",
       "      <th>weight</th>\n",
       "      <th>acceleration</th>\n",
       "      <th>model_year</th>\n",
       "      <th>origin</th>\n",
       "    </tr>\n",
       "  </thead>\n",
       "  <tbody>\n",
       "    <tr>\n",
       "      <th>0</th>\n",
       "      <td>307.0</td>\n",
       "      <td>8</td>\n",
       "      <td>130.0</td>\n",
       "      <td>3504</td>\n",
       "      <td>12.0</td>\n",
       "      <td>70</td>\n",
       "      <td>1</td>\n",
       "    </tr>\n",
       "    <tr>\n",
       "      <th>1</th>\n",
       "      <td>350.0</td>\n",
       "      <td>8</td>\n",
       "      <td>165.0</td>\n",
       "      <td>3693</td>\n",
       "      <td>11.5</td>\n",
       "      <td>70</td>\n",
       "      <td>1</td>\n",
       "    </tr>\n",
       "    <tr>\n",
       "      <th>2</th>\n",
       "      <td>318.0</td>\n",
       "      <td>8</td>\n",
       "      <td>150.0</td>\n",
       "      <td>3436</td>\n",
       "      <td>11.0</td>\n",
       "      <td>70</td>\n",
       "      <td>1</td>\n",
       "    </tr>\n",
       "    <tr>\n",
       "      <th>3</th>\n",
       "      <td>304.0</td>\n",
       "      <td>8</td>\n",
       "      <td>150.0</td>\n",
       "      <td>3433</td>\n",
       "      <td>12.0</td>\n",
       "      <td>70</td>\n",
       "      <td>1</td>\n",
       "    </tr>\n",
       "    <tr>\n",
       "      <th>4</th>\n",
       "      <td>302.0</td>\n",
       "      <td>8</td>\n",
       "      <td>140.0</td>\n",
       "      <td>3449</td>\n",
       "      <td>10.5</td>\n",
       "      <td>70</td>\n",
       "      <td>1</td>\n",
       "    </tr>\n",
       "  </tbody>\n",
       "</table>\n",
       "</div>"
      ],
      "text/plain": [
       "   displacement  cylinders  horsepower  weight  acceleration  model_year  \\\n",
       "0         307.0          8       130.0    3504          12.0          70   \n",
       "1         350.0          8       165.0    3693          11.5          70   \n",
       "2         318.0          8       150.0    3436          11.0          70   \n",
       "3         304.0          8       150.0    3433          12.0          70   \n",
       "4         302.0          8       140.0    3449          10.5          70   \n",
       "\n",
       "   origin  \n",
       "0       1  \n",
       "1       1  \n",
       "2       1  \n",
       "3       1  \n",
       "4       1  "
      ]
     },
     "execution_count": 3,
     "metadata": {},
     "output_type": "execute_result"
    }
   ],
   "source": [
    "X, y = ft.fetch_cars_dataset()\n",
    "\n",
    "X.head()"
   ]
  },
  {
   "cell_type": "code",
   "execution_count": 4,
   "id": "517ae106-acf4-40f8-bfbc-ac644cb17a7f",
   "metadata": {},
   "outputs": [
    {
     "data": {
      "text/plain": [
       "0    18.0\n",
       "1    15.0\n",
       "2    18.0\n",
       "3    16.0\n",
       "4    17.0\n",
       "Name: mpg, dtype: float64"
      ]
     },
     "execution_count": 4,
     "metadata": {},
     "output_type": "execute_result"
    }
   ],
   "source": [
    "y.head()"
   ]
  },
  {
   "cell_type": "markdown",
   "id": "d286ad66-3121-416d-9218-bb592af4c6bd",
   "metadata": {},
   "source": [
    "### Genetic Feature Synthesis"
   ]
  },
  {
   "cell_type": "code",
   "execution_count": 5,
   "id": "69031e48-b17d-4ac5-b8b4-129f744a78bc",
   "metadata": {},
   "outputs": [
    {
     "name": "stderr",
     "output_type": "stream",
     "text": [
      "Creating new features...:  48%|███████▋        | 48/100 [00:08<00:11,  4.57it/s]\n",
      "Pruning feature space...: 100%|██████████████████| 5/5 [00:00<00:00, 445.51it/s]\u001b[A\n",
      "Creating new features...:  48%|███████▋        | 48/100 [00:08<00:09,  5.56it/s]\n"
     ]
    }
   ],
   "source": [
    "X_train, X_test, y_train, y_test = train_test_split(X, y, test_size=0.33)\n",
    "\n",
    "synth = ft.GeneticFeatureSynthesis(\n",
    "    num_features=5,\n",
    "    population_size=200,\n",
    "    max_generations=100,\n",
    "    early_termination_iters=25,\n",
    "    parsimony_coefficient=0.035,\n",
    "    n_jobs=1,\n",
    ")\n",
    "synth.fit(X_train, y_train)\n",
    "\n",
    "None"
   ]
  },
  {
   "cell_type": "markdown",
   "id": "bb080664-70ff-4254-9f03-1e94b1142b83",
   "metadata": {},
   "source": [
    "### View the Synthesised Features and Their Formulas"
   ]
  },
  {
   "cell_type": "code",
   "execution_count": 6,
   "id": "7615c24a-c2e1-4d4a-8800-47163b550d3b",
   "metadata": {},
   "outputs": [
    {
     "data": {
      "text/html": [
       "<div>\n",
       "<style scoped>\n",
       "    .dataframe tbody tr th:only-of-type {\n",
       "        vertical-align: middle;\n",
       "    }\n",
       "\n",
       "    .dataframe tbody tr th {\n",
       "        vertical-align: top;\n",
       "    }\n",
       "\n",
       "    .dataframe thead th {\n",
       "        text-align: right;\n",
       "    }\n",
       "</style>\n",
       "<table border=\"1\" class=\"dataframe\">\n",
       "  <thead>\n",
       "    <tr style=\"text-align: right;\">\n",
       "      <th></th>\n",
       "      <th>displacement</th>\n",
       "      <th>cylinders</th>\n",
       "      <th>horsepower</th>\n",
       "      <th>weight</th>\n",
       "      <th>acceleration</th>\n",
       "      <th>model_year</th>\n",
       "      <th>origin</th>\n",
       "      <th>feature_0</th>\n",
       "      <th>feature_4</th>\n",
       "      <th>feature_11</th>\n",
       "      <th>feature_1</th>\n",
       "      <th>feature_22</th>\n",
       "    </tr>\n",
       "  </thead>\n",
       "  <tbody>\n",
       "    <tr>\n",
       "      <th>0</th>\n",
       "      <td>89.0</td>\n",
       "      <td>4</td>\n",
       "      <td>62.0</td>\n",
       "      <td>2050</td>\n",
       "      <td>17.3</td>\n",
       "      <td>81</td>\n",
       "      <td>3</td>\n",
       "      <td>-8571.629032</td>\n",
       "      <td>-0.312535</td>\n",
       "      <td>-96.744944</td>\n",
       "      <td>-105.822581</td>\n",
       "      <td>-0.624987</td>\n",
       "    </tr>\n",
       "    <tr>\n",
       "      <th>1</th>\n",
       "      <td>318.0</td>\n",
       "      <td>8</td>\n",
       "      <td>150.0</td>\n",
       "      <td>4077</td>\n",
       "      <td>14.0</td>\n",
       "      <td>72</td>\n",
       "      <td>1</td>\n",
       "      <td>-2488.320000</td>\n",
       "      <td>-0.786564</td>\n",
       "      <td>-75.169811</td>\n",
       "      <td>-34.560000</td>\n",
       "      <td>-1.573022</td>\n",
       "    </tr>\n",
       "    <tr>\n",
       "      <th>2</th>\n",
       "      <td>383.0</td>\n",
       "      <td>8</td>\n",
       "      <td>170.0</td>\n",
       "      <td>3563</td>\n",
       "      <td>10.0</td>\n",
       "      <td>70</td>\n",
       "      <td>1</td>\n",
       "      <td>-2017.647059</td>\n",
       "      <td>-0.727317</td>\n",
       "      <td>-71.827676</td>\n",
       "      <td>-28.823529</td>\n",
       "      <td>-1.454460</td>\n",
       "    </tr>\n",
       "    <tr>\n",
       "      <th>3</th>\n",
       "      <td>260.0</td>\n",
       "      <td>8</td>\n",
       "      <td>110.0</td>\n",
       "      <td>4060</td>\n",
       "      <td>19.0</td>\n",
       "      <td>77</td>\n",
       "      <td>1</td>\n",
       "      <td>-4150.300000</td>\n",
       "      <td>-0.684937</td>\n",
       "      <td>-82.626923</td>\n",
       "      <td>-53.900000</td>\n",
       "      <td>-1.369706</td>\n",
       "    </tr>\n",
       "    <tr>\n",
       "      <th>4</th>\n",
       "      <td>318.0</td>\n",
       "      <td>8</td>\n",
       "      <td>140.0</td>\n",
       "      <td>4080</td>\n",
       "      <td>13.7</td>\n",
       "      <td>78</td>\n",
       "      <td>1</td>\n",
       "      <td>-3389.657143</td>\n",
       "      <td>-0.670713</td>\n",
       "      <td>-81.360377</td>\n",
       "      <td>-43.457143</td>\n",
       "      <td>-1.341324</td>\n",
       "    </tr>\n",
       "  </tbody>\n",
       "</table>\n",
       "</div>"
      ],
      "text/plain": [
       "   displacement  cylinders  horsepower  weight  acceleration  model_year  \\\n",
       "0          89.0          4        62.0    2050          17.3          81   \n",
       "1         318.0          8       150.0    4077          14.0          72   \n",
       "2         383.0          8       170.0    3563          10.0          70   \n",
       "3         260.0          8       110.0    4060          19.0          77   \n",
       "4         318.0          8       140.0    4080          13.7          78   \n",
       "\n",
       "   origin    feature_0  feature_4  feature_11   feature_1  feature_22  \n",
       "0       3 -8571.629032  -0.312535  -96.744944 -105.822581   -0.624987  \n",
       "1       1 -2488.320000  -0.786564  -75.169811  -34.560000   -1.573022  \n",
       "2       1 -2017.647059  -0.727317  -71.827676  -28.823529   -1.454460  \n",
       "3       1 -4150.300000  -0.684937  -82.626923  -53.900000   -1.369706  \n",
       "4       1 -3389.657143  -0.670713  -81.360377  -43.457143   -1.341324  "
      ]
     },
     "execution_count": 6,
     "metadata": {},
     "output_type": "execute_result"
    }
   ],
   "source": [
    "generated_features = synth.transform(X_train)\n",
    "\n",
    "generated_features.head()"
   ]
  },
  {
   "cell_type": "code",
   "execution_count": 7,
   "id": "a5467d93-bb7d-4876-ae28-d67fc7c1e218",
   "metadata": {},
   "outputs": [
    {
     "data": {
      "text/html": [
       "<div>\n",
       "<style scoped>\n",
       "    .dataframe tbody tr th:only-of-type {\n",
       "        vertical-align: middle;\n",
       "    }\n",
       "\n",
       "    .dataframe tbody tr th {\n",
       "        vertical-align: top;\n",
       "    }\n",
       "\n",
       "    .dataframe thead th {\n",
       "        text-align: right;\n",
       "    }\n",
       "</style>\n",
       "<table border=\"1\" class=\"dataframe\">\n",
       "  <thead>\n",
       "    <tr style=\"text-align: right;\">\n",
       "      <th></th>\n",
       "      <th>name</th>\n",
       "      <th>formula</th>\n",
       "      <th>fitness</th>\n",
       "    </tr>\n",
       "  </thead>\n",
       "  <tbody>\n",
       "    <tr>\n",
       "      <th>0</th>\n",
       "      <td>feature_0</td>\n",
       "      <td>-(abs((cube(model_year) / horsepower)))</td>\n",
       "      <td>-0.864403</td>\n",
       "    </tr>\n",
       "    <tr>\n",
       "      <th>1</th>\n",
       "      <td>feature_4</td>\n",
       "      <td>-(abs((abs(abs(((cos(sin(acceleration)) + weig...</td>\n",
       "      <td>-0.833223</td>\n",
       "    </tr>\n",
       "    <tr>\n",
       "      <th>2</th>\n",
       "      <td>feature_11</td>\n",
       "      <td>-(abs(((-(displacement) - acceleration) / (dis...</td>\n",
       "      <td>-0.832991</td>\n",
       "    </tr>\n",
       "    <tr>\n",
       "      <th>3</th>\n",
       "      <td>feature_1</td>\n",
       "      <td>-(abs(abs(abs((abs((cube(model_year) / horsepo...</td>\n",
       "      <td>-0.843771</td>\n",
       "    </tr>\n",
       "    <tr>\n",
       "      <th>4</th>\n",
       "      <td>feature_22</td>\n",
       "      <td>-(abs((abs((((cos(sin(acceleration)) + weight)...</td>\n",
       "      <td>-0.826734</td>\n",
       "    </tr>\n",
       "  </tbody>\n",
       "</table>\n",
       "</div>"
      ],
      "text/plain": [
       "         name                                            formula   fitness\n",
       "0   feature_0            -(abs((cube(model_year) / horsepower))) -0.864403\n",
       "1   feature_4  -(abs((abs(abs(((cos(sin(acceleration)) + weig... -0.833223\n",
       "2  feature_11  -(abs(((-(displacement) - acceleration) / (dis... -0.832991\n",
       "3   feature_1  -(abs(abs(abs((abs((cube(model_year) / horsepo... -0.843771\n",
       "4  feature_22  -(abs((abs((((cos(sin(acceleration)) + weight)... -0.826734"
      ]
     },
     "execution_count": 7,
     "metadata": {},
     "output_type": "execute_result"
    }
   ],
   "source": [
    "info = synth.get_feature_info()\n",
    "info"
   ]
  },
  {
   "cell_type": "markdown",
   "id": "62ea59d7-f817-479b-8348-2fa6cb03cd56",
   "metadata": {},
   "source": [
    "### Feature Selection"
   ]
  },
  {
   "cell_type": "code",
   "execution_count": 8,
   "id": "39cdb6dd-ed18-4d73-808b-a540721117a6",
   "metadata": {},
   "outputs": [],
   "source": [
    "def objective_function(X, y):\n",
    "    model = LinearRegression()\n",
    "    scores = cross_val_score(model, X, y, cv=3, scoring=\"neg_mean_absolute_error\")\n",
    "    return scores.mean() * -1"
   ]
  },
  {
   "cell_type": "code",
   "execution_count": 9,
   "id": "490f5ea4-c165-46f2-982c-bf4416d1ecf5",
   "metadata": {},
   "outputs": [
    {
     "name": "stderr",
     "output_type": "stream",
     "text": [
      "Optimising feature selection...:  27%|██▍      | 27/100 [00:06<00:16,  4.30it/s]\n"
     ]
    }
   ],
   "source": [
    "selector = ft.GeneticFeatureSelector(\n",
    "    objective_function,\n",
    "    population_size=200,\n",
    "    max_generations=100,\n",
    "    early_termination_iters=25,\n",
    "    n_jobs=-1,\n",
    ")\n",
    "\n",
    "selector.fit(generated_features, y_train)\n",
    "\n",
    "selected_features = selector.transform(generated_features)"
   ]
  },
  {
   "cell_type": "markdown",
   "id": "b31ab5f3-10ce-45e9-a356-eb96712b91ba",
   "metadata": {},
   "source": [
    "### View the Selected Features"
   ]
  },
  {
   "cell_type": "code",
   "execution_count": 10,
   "id": "7f5e29d0-76b5-496f-8fc8-200f2086d331",
   "metadata": {},
   "outputs": [
    {
     "data": {
      "text/html": [
       "<div>\n",
       "<style scoped>\n",
       "    .dataframe tbody tr th:only-of-type {\n",
       "        vertical-align: middle;\n",
       "    }\n",
       "\n",
       "    .dataframe tbody tr th {\n",
       "        vertical-align: top;\n",
       "    }\n",
       "\n",
       "    .dataframe thead th {\n",
       "        text-align: right;\n",
       "    }\n",
       "</style>\n",
       "<table border=\"1\" class=\"dataframe\">\n",
       "  <thead>\n",
       "    <tr style=\"text-align: right;\">\n",
       "      <th></th>\n",
       "      <th>weight</th>\n",
       "      <th>acceleration</th>\n",
       "      <th>model_year</th>\n",
       "      <th>origin</th>\n",
       "      <th>feature_0</th>\n",
       "      <th>feature_4</th>\n",
       "      <th>feature_11</th>\n",
       "      <th>feature_1</th>\n",
       "    </tr>\n",
       "  </thead>\n",
       "  <tbody>\n",
       "    <tr>\n",
       "      <th>0</th>\n",
       "      <td>2050</td>\n",
       "      <td>17.3</td>\n",
       "      <td>81</td>\n",
       "      <td>3</td>\n",
       "      <td>-8571.629032</td>\n",
       "      <td>-0.312535</td>\n",
       "      <td>-96.744944</td>\n",
       "      <td>-105.822581</td>\n",
       "    </tr>\n",
       "    <tr>\n",
       "      <th>1</th>\n",
       "      <td>4077</td>\n",
       "      <td>14.0</td>\n",
       "      <td>72</td>\n",
       "      <td>1</td>\n",
       "      <td>-2488.320000</td>\n",
       "      <td>-0.786564</td>\n",
       "      <td>-75.169811</td>\n",
       "      <td>-34.560000</td>\n",
       "    </tr>\n",
       "    <tr>\n",
       "      <th>2</th>\n",
       "      <td>3563</td>\n",
       "      <td>10.0</td>\n",
       "      <td>70</td>\n",
       "      <td>1</td>\n",
       "      <td>-2017.647059</td>\n",
       "      <td>-0.727317</td>\n",
       "      <td>-71.827676</td>\n",
       "      <td>-28.823529</td>\n",
       "    </tr>\n",
       "    <tr>\n",
       "      <th>3</th>\n",
       "      <td>4060</td>\n",
       "      <td>19.0</td>\n",
       "      <td>77</td>\n",
       "      <td>1</td>\n",
       "      <td>-4150.300000</td>\n",
       "      <td>-0.684937</td>\n",
       "      <td>-82.626923</td>\n",
       "      <td>-53.900000</td>\n",
       "    </tr>\n",
       "    <tr>\n",
       "      <th>4</th>\n",
       "      <td>4080</td>\n",
       "      <td>13.7</td>\n",
       "      <td>78</td>\n",
       "      <td>1</td>\n",
       "      <td>-3389.657143</td>\n",
       "      <td>-0.670713</td>\n",
       "      <td>-81.360377</td>\n",
       "      <td>-43.457143</td>\n",
       "    </tr>\n",
       "  </tbody>\n",
       "</table>\n",
       "</div>"
      ],
      "text/plain": [
       "   weight  acceleration  model_year  origin    feature_0  feature_4  \\\n",
       "0    2050          17.3          81       3 -8571.629032  -0.312535   \n",
       "1    4077          14.0          72       1 -2488.320000  -0.786564   \n",
       "2    3563          10.0          70       1 -2017.647059  -0.727317   \n",
       "3    4060          19.0          77       1 -4150.300000  -0.684937   \n",
       "4    4080          13.7          78       1 -3389.657143  -0.670713   \n",
       "\n",
       "   feature_11   feature_1  \n",
       "0  -96.744944 -105.822581  \n",
       "1  -75.169811  -34.560000  \n",
       "2  -71.827676  -28.823529  \n",
       "3  -82.626923  -53.900000  \n",
       "4  -81.360377  -43.457143  "
      ]
     },
     "execution_count": 10,
     "metadata": {},
     "output_type": "execute_result"
    }
   ],
   "source": [
    "selected_features.head()"
   ]
  },
  {
   "cell_type": "markdown",
   "id": "912b63c6-4cc3-4298-baf8-b2649f9088dd",
   "metadata": {},
   "source": [
    "### Compare New Features to Original Features"
   ]
  },
  {
   "cell_type": "code",
   "execution_count": 11,
   "id": "8372e11a-1d39-44ce-ae51-afe4c223f34e",
   "metadata": {},
   "outputs": [
    {
     "data": {
      "text/plain": [
       "2.5888868138669303"
      ]
     },
     "execution_count": 11,
     "metadata": {},
     "output_type": "execute_result"
    }
   ],
   "source": [
    "model = LinearRegression()\n",
    "model.fit(X_train, y_train)\n",
    "preds = model.predict(X_test)\n",
    "original_mae = mean_absolute_error(y_test, preds)\n",
    "original_mae"
   ]
  },
  {
   "cell_type": "code",
   "execution_count": 12,
   "id": "b3e9d678-f3fe-40f0-a083-b2d6f6260b01",
   "metadata": {},
   "outputs": [
    {
     "data": {
      "text/plain": [
       "1.9497667311649802"
      ]
     },
     "execution_count": 12,
     "metadata": {},
     "output_type": "execute_result"
    }
   ],
   "source": [
    "model = LinearRegression()\n",
    "model.fit(selected_features, y_train)\n",
    "test_features = selector.transform(synth.transform(X_test))\n",
    "preds = model.predict(test_features)\n",
    "featuristic_mae = mean_absolute_error(y_test, preds)\n",
    "featuristic_mae"
   ]
  },
  {
   "cell_type": "code",
   "execution_count": 13,
   "id": "cd9df3ee-f998-463a-be64-6998747fd564",
   "metadata": {},
   "outputs": [
    {
     "name": "stdout",
     "output_type": "stream",
     "text": [
      "Original MAE: 2.5888868138669303\n",
      "Featuristic MAE: 1.9497667311649802\n",
      "Improvement: 24.7%\n"
     ]
    }
   ],
   "source": [
    "print(f\"Original MAE: {original_mae}\")\n",
    "print(f\"Featuristic MAE: {featuristic_mae}\")\n",
    "print(f\"Improvement: {round((1 - (featuristic_mae / original_mae))* 100, 1)}%\")"
   ]
  },
  {
   "cell_type": "markdown",
   "id": "022d7356-2d48-4def-8d9d-8907d7823c61",
   "metadata": {},
   "source": [
    "### Plot the History of the Genetic Algorithms"
   ]
  },
  {
   "cell_type": "code",
   "execution_count": 14,
   "id": "4cad03bd-000d-43c5-8151-2302fd9554c8",
   "metadata": {},
   "outputs": [
    {
     "data": {
      "image/png": "[encoded data removed]",
      "text/plain": [
       "<Figure size 640x480 with 1 Axes>"
      ]
     },
     "metadata": {},
     "output_type": "display_data"
    }
   ],
   "source": [
    "synth.plot_history()"
   ]
  },
  {
   "cell_type": "code",
   "execution_count": 15,
   "id": "a5c8b5dc-6313-4625-b03f-492931fba810",
   "metadata": {},
   "outputs": [
    {
     "data": {
      "image/png": "[encoded data removed]",
      "text/plain": [
       "<Figure size 640x480 with 1 Axes>"
      ]
     },
     "metadata": {},
     "output_type": "display_data"
    }
   ],
   "source": [
    "selector.plot_history()"
   ]
  }
 ],
 "metadata": {
  "kernelspec": {
   "display_name": "Python 3 (ipykernel)",
   "language": "python",
   "name": "python3"
  },
  "language_info": {
   "codemirror_mode": {
    "name": "ipython",
    "version": 3
   },
   "file_extension": ".py",
   "mimetype": "text/x-python",
   "name": "python",
   "nbconvert_exporter": "python",
   "pygments_lexer": "ipython3",
   "version": "3.11.6"
  }
 },
 "nbformat": 4,
 "nbformat_minor": 5
}
